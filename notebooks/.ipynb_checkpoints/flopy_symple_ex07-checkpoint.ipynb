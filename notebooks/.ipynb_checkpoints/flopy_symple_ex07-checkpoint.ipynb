{
 "cells": [
  {
   "cell_type": "markdown",
   "metadata": {},
   "source": [
    "# Introduction\n",
    "\n",
    "This exercise will introduce how to assign time series to stress pacakges. \n",
    "\n",
    "**From the MODFLOW 6 Manual:**\n",
    "\n",
    "Any package that reads data as a list of cells and associated time-dependent input values can obtain\n",
    "those values from time series. For example, flow rates for a well or stage for a river boundary can\n",
    "be extracted from time series. During a simulation, values used for time-varying stresses (or auxiliary\n",
    "values) are based on the values provided in the time series and are updated each time step (or each\n",
    "subtime step, as appropriate)."
   ]
  },
  {
   "cell_type": "code",
   "execution_count": null,
   "metadata": {},
   "outputs": [],
   "source": [
    "# Import necessary libraries\n",
    "# for the purposes of this course we are using frozen versions of flopy to avoid depenecy failures.  \n",
    "import os \n",
    "import sys\n",
    "sys.path.append('../dependencies/')\n",
    "import flopy\n",
    "import numpy as np\n",
    "import pandas as pd\n",
    "import matplotlib.pyplot as plt"
   ]
  },
  {
   "cell_type": "markdown",
   "metadata": {},
   "source": [
    "# Load a Model\n",
    "\n",
    "In this exercise we will modify the model constructed in exercise 06. This will give us some practice in loading and modifying existing models. \n",
    "\n",
    "In this case, we will load the existing model, remove the existing WEL package and then construct a new WEL package using time-series to specify pumping rates during the second (transient) stress period."
   ]
  },
  {
   "cell_type": "code",
   "execution_count": null,
   "metadata": {},
   "outputs": [],
   "source": [
    "# As in the previous exercise, if you do not have MODFLOW 6 in yout system path, you must provide the location of the executable file\n",
    "# The MODFLOW 6 executable is named \"mf6.exe\":\n",
    "exe_name = os.path.join('..','bin', 'mf6.exe')\n",
    "\n",
    "# define the location of the model working directory;  this is where the existing model is currently stored. We are going to load the model constructed during exercise 01.\n",
    "org_workspace = os.path.join('..','models','symple_ex06')\n",
    "\n",
    "# define a new model working directory\n",
    "workspace = os.path.join('..','models','symple_ex07')\n",
    "\n",
    "# load the Simulation\n",
    "sim = flopy.mf6.MFSimulation.load(sim_name='symple_ex07', \n",
    "                                    exe_name=exe_name, \n",
    "                                    sim_ws=org_workspace)\n",
    "# change the model workspace to a new folder\n",
    "sim.set_sim_path(workspace)\n",
    "\n",
    "# access the Model Object using the model name\n",
    "gwf = sim.get_model(list(sim.model_names)[0])\n",
    "\n",
    "# check the package names\n",
    "print(gwf.get_package_list())"
   ]
  },
  {
   "cell_type": "code",
   "execution_count": null,
   "metadata": {},
   "outputs": [],
   "source": [
    "# remove the existing WEL package\n"
   ]
  },
  {
   "cell_type": "markdown",
   "metadata": {},
   "source": [
    "## **Construct a New WEL Package**\n",
    "\n",
    "Now we will reconstrcut the WEL pacakge using time series data. First we need to have some time series data.\n",
    "\n",
    "Time series data are constructed as a list of tuples. Each tuple contains the time and one or more values specified at that time. For example: (time, val1, val2)\n",
    "\n",
    "Additionaly, a \"time series namerecord\" (i.e. the time series name) and a \"interpolation_methodrecord\" are required for each value in the ts data tuple. The namerecord is used to assign the time series to cells when p=constructing the stress package. The interpolation_methodrecord specifies how the time series values are interpolated between listed times.\n",
    "\n",
    "For this exercise we will assign two diferent time series to two wells. Each well (i.e. each time series) will pump at a diferent rate. Both wells will pump for 182.5 days at full capacity, then recude to 50% for the remainder of the stress period. We will name these tie series \"well1\" and \"well2\" and use STEPWISE interpolation (see the MF6 manual for more info on available interpolation methods)."
   ]
  },
  {
   "cell_type": "code",
   "execution_count": null,
   "metadata": {},
   "outputs": [],
   "source": [
    "# ts data\n",
    "\n",
    "\n",
    "#ts names\n",
    "\n",
    "\n",
    "# interpolation methods\n"
   ]
  },
  {
   "cell_type": "code",
   "execution_count": null,
   "metadata": {},
   "outputs": [],
   "source": [
    "# Now when we construct the WEL pakcage list data, instead of a pumping rate, we assign a time series namerecord \n",
    "\n",
    "# set no pumping in the first stress period\n",
    "\n",
    "# set pumping in the second (transient) stress period. Let's also add some observations so that we can record the pumping rate.\n",
    "\n",
    "\n",
    "# construct the WEL pacakge\n",
    "\n",
    "\n",
    "# Now initialize the pacakge's time series \n",
    "\n",
    "\n",
    "# Add the observations\n"
   ]
  },
  {
   "cell_type": "code",
   "execution_count": null,
   "metadata": {},
   "outputs": [],
   "source": []
  },
  {
   "cell_type": "code",
   "execution_count": null,
   "metadata": {},
   "outputs": [],
   "source": [
    "# access a list of observation ouput file names of the firs OBS package\n"
   ]
  },
  {
   "cell_type": "code",
   "execution_count": null,
   "metadata": {},
   "outputs": [],
   "source": [
    "# plot the tie series of pumping rate\n"
   ]
  },
  {
   "cell_type": "code",
   "execution_count": null,
   "metadata": {},
   "outputs": [],
   "source": []
  }
 ],
 "metadata": {
  "interpreter": {
   "hash": "227dbd2fab8825bf983f485131159c82d0301ad97e15b736ca5b3747747c9c56"
  },
  "kernelspec": {
   "display_name": "Python 3 (ipykernel)",
   "language": "python",
   "name": "python3"
  },
  "language_info": {
   "codemirror_mode": {
    "name": "ipython",
    "version": 3
   },
   "file_extension": ".py",
   "mimetype": "text/x-python",
   "name": "python",
   "nbconvert_exporter": "python",
   "pygments_lexer": "ipython3",
   "version": "3.9.6"
  }
 },
 "nbformat": 4,
 "nbformat_minor": 2
}
