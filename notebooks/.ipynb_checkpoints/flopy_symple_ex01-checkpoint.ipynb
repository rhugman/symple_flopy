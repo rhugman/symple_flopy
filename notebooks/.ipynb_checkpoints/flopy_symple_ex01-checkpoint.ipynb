{
 "cells": [
  {
   "cell_type": "markdown",
   "metadata": {},
   "source": [
    "# Introduction\n",
    "\n",
    "The purpose of this exercise is to introduce the basics of using Flopy to construct, run and visualize a MODFLOW 6 model and its outputs. It is assumed you are familiar with MODFLOW 6.\n",
    "\n",
    "We will cover the following:\n",
    " - creating a Simulation Object\n",
    " - creating a Model Object\n",
    " - defining time and spatial discretisation\n",
    " - adding Packages\n",
    " - writting the MODFLOW files and running the model\n",
    " - post-processing head results\n",
    "\n",
    "This exercise is based on a simple groundwater system composed of two aquifer layers, separated by a thin low-permeability layer. A river flows across the center of the system in a straight line (not very natural, I know, but it keeps things simple for the tutorial), from West to East (left to right). The river only intersects the top aquifer layer. The upper layer receives recharge from rainfall.\n",
    "\n",
    "We will represent the system using a classical structured grid. "
   ]
  },
  {
   "cell_type": "code",
   "execution_count": 3,
   "metadata": {},
   "outputs": [],
   "source": [
    "# Import necessary libraries\n",
    "import os \n",
    "import numpy as np\n",
    "import pandas as pd\n",
    "\n",
    "# for the purposes of this course we are using frozen versions of flopy to avoid depenecy failures.  \n",
    "import sys\n",
    "sys.path.append('../dependencies/')\n",
    "import flopy"
   ]
  },
  {
   "cell_type": "markdown",
   "metadata": {},
   "source": [
    "## The Simulation\n",
    "FloPy requires that we first create a \"simulation\" object. This simulation can have multiple models. There are a couple of things that you will generaly have to assign:\n",
    "- a Simulation package\n",
    "- a TDIS package\n",
    "- one or more MF6 Models, which will generaly require:\n",
    "    - an IMS (i.e. the solver settings) package\n",
    "    - a spatial discretisation (DIS, DISV or DISU) package\n",
    "    - initial condition package\n",
    "    - hydraulic property package(s)\n",
    "    - boundary condition pacakge(s)\n",
    "\n",
    "\n",
    "A Simulation Object is instantiated with the command: *flopy.mf6.MFSimulation()*\n",
    "\n",
    "Three inputs are usually necessary (they all have default values):\n",
    " - the simulation name\n",
    " - the path to the executable (in our case mf6.exe)\n",
    " - the path to the simulation folder"
   ]
  },
  {
   "cell_type": "code",
   "execution_count": 4,
   "metadata": {},
   "outputs": [],
   "source": [
    "# you can customize the simulation name\n",
    "sim_name = 'symple_ex01'\n",
    "\n",
    "# if the MF6 executable is in your PATH, you can simply assign the string \"mf6\". \n",
    "# If not, you need to specify the path to the executable. \n",
    "# In the course repository folder, there is a folder named \"bin\" which contians all the necessary executables. \n",
    "# The MODFLOW 6 executable is named \"mf6.exe\":\n",
    "exe_name = os.path.join('..','bin', 'mf6.exe')\n",
    "\n",
    "# define the location of the model working directory; this is where all the MF6 files will be written\n",
    "# the folder path is relative to the location in which python is running. In our case, relative to the location of the jupyter notebok file.\n",
    "workspace = os.path.join('..','models','symple_ex01')\n",
    "\n",
    "# Usually you will want to assing the Simulation Object to a variable (common practice is to name it \"sim\") so that it can be accessed later\n",
    "sim = flopy.mf6.MFSimulation(sim_name=sim_name,\n",
    "                            exe_name=exe_name,\n",
    "                            version=\"mf6\", \n",
    "                            sim_ws=workspace)"
   ]
  },
  {
   "cell_type": "markdown",
   "metadata": {},
   "source": [
    "### The TDIS (time discretisation) object\n",
    "Time discretisation (i.e. the TDIS package) is defined at the simulation level. Let's instantiate a Tdis object. To do so, we need to define the stress period data.\n",
    "\n",
    "Stress period data needs to be passed to the Tdis object as a list of tuples. The list needs a tuple for each stress period. Each tuple contains the period length, the number of time steps and the time-step multiplier:\n",
    " \\[(perlen, nstp, tsmult)]\n",
    "\n",
    "We will have a single steady-state stress-period, so period length does not matter. In this case the number of time steps should be 1, and time-step multiplier does not matter."
   ]
  },
  {
   "cell_type": "code",
   "execution_count": 5,
   "metadata": {},
   "outputs": [],
   "source": [
    "# define the time units for the simulation. All model inputs must have time-units of \"day\"\n",
    "time_units = 'days'\n",
    "\n",
    "#perioddata[perlen, nstp, tsmult]\n",
    "perioddata = [(1.0, 1, 1.0)]\n",
    "\n",
    "# the number of periods is 1\n",
    "nper = 1 \n",
    "\n",
    "# Create the TDIS Object\n",
    "tdis = flopy.mf6.ModflowTdis(sim, pname=\"tdis\",\n",
    "                                  nper=nper, \n",
    "                                  perioddata=perioddata, \n",
    "                                  time_units=time_units)"
   ]
  },
  {
   "cell_type": "markdown",
   "metadata": {},
   "source": [
    "## The Flow Model\n",
    " Now we can create the FloPy MF6 Model Object and add the corresponding IMS package to the simulation."
   ]
  },
  {
   "cell_type": "code",
   "execution_count": 6,
   "metadata": {},
   "outputs": [],
   "source": [
    "# Instantiate the Flopy groundwater flow (gwf) model object, refercing the \"sim\" Simulation Object\n",
    "model_name = 'symp01'\n",
    "gwf = flopy.mf6.ModflowGwf(sim,\n",
    "                            modelname=model_name,\n",
    "                            save_flows=True, print_flows=True)\n",
    "\n",
    "# Instantiate a Flopy `IMS` Package object\n",
    "# Here you can set all the solver settings.\n",
    "ims = flopy.mf6.ModflowIms(sim,\n",
    "                            pname=\"ims\",\n",
    "                            complexity=\"SIMPLE\",\n",
    "                            linear_acceleration=\"BICGSTAB\",)\n",
    "\n",
    "# lastly we need to register the MF6 model to an IMS package in the Simulation\n",
    "sim.register_ims_package(ims, [gwf.name])"
   ]
  },
  {
   "cell_type": "markdown",
   "metadata": {},
   "source": [
    "### The Model Grid\n",
    "So far we have created the Simulation, defined the Simulations time-discretisation and created a Model as part of that Simulation. \n",
    "\n",
    "Now we will start constructing the model itself. The Model will be built by adding packages to it that describe the features of the system. The first step is to define the spatial discretisation, as this is required before trying to assign any of the hydraulic property or stress packages. \n",
    "\n",
    "Recall that we will be using a classical structured grid. A Flopy DIS Object is created with *flopy.mf6.ModflowGwfdis()*. Note that DISV or DISU grids are created with their respective functions, which will be covered in other exercises.\n",
    "\n",
    "To define sptial discretisation we require:\n",
    " - number of layers (3)\n",
    " - number of rows and columns\n",
    " - row and column lenght\n",
    " - elevation of the top of the model\n",
    " - elevation of the bottom of each layer"
   ]
  },
  {
   "cell_type": "code",
   "execution_count": 7,
   "metadata": {},
   "outputs": [
    {
     "name": "stdout",
     "output_type": "stream",
     "text": [
      "Cell size:100 x 100\n",
      "Number of rows:15\n",
      "Number of columns:10\n"
     ]
    }
   ],
   "source": [
    "# set the length units. All model input values must have untis of length in \"meters\"\n",
    "length_units = \"METERS\"\n",
    "# number of layers\n",
    "nlay = 3\n",
    "\n",
    "# define the number of rows/columns\n",
    "# our system covers a square area of 1x1.5 km. The extent in the x and y directions are 1000m and 1500m, respectively.\n",
    "Lx = 1000\n",
    "Ly = 1500\n",
    "# we want our model grid to have cell sizes of 100 x 100 m\n",
    "delr = 100 #row length\n",
    "delc = 100 #column length\n",
    "print(f'Cell size:{delr} x {delc}')\n",
    "# we can compute the number of rows/columns:\n",
    "ncol = int(Lx/delc)\n",
    "nrow = int(Ly/delr)\n",
    "print(f'Number of rows:{nrow}')\n",
    "print(f'Number of columns:{ncol}')\n",
    "\n",
    "# surface elevation of the systme is flat and equal to 50 m above some reference (e.g. sea-level)\n",
    "top = 50\n",
    "# the bottom of the upper-aquifer is at 40m; the aquitard at 35m and the lower aquifer at 0m\n",
    "botm = [40, 35, 0]\n",
    "\n",
    "# create the DIS object\n",
    "dis = flopy.mf6.ModflowGwfdis(\n",
    "                            gwf,\n",
    "                            nlay=nlay,\n",
    "                            nrow=nrow,\n",
    "                            ncol=ncol,\n",
    "                            delr=delr,\n",
    "                            delc=delc,\n",
    "                            top=top,\n",
    "                            botm=botm)"
   ]
  },
  {
   "cell_type": "code",
   "execution_count": 8,
   "metadata": {},
   "outputs": [
    {
     "data": {
      "text/plain": [
       "Layer_1{constant 40}\n",
       "Layer_2{constant 35}\n",
       "Layer_3{constant 0}"
      ]
     },
     "execution_count": 8,
     "metadata": {},
     "output_type": "execute_result"
    }
   ],
   "source": [
    "# Lets check out the layer bottom elevations\n",
    "dis.botm"
   ]
  },
  {
   "cell_type": "markdown",
   "metadata": {},
   "source": [
    "### Packages\n",
    "Now that we have the \"skeleton\" of the model (i.e. the grid) we can assign pacakges to define properties and stresses.\n",
    "\n",
    "For this exercise, we will assign:\n",
    " - initial condiction (IC) package to set initial conditions\n",
    " - node property flow (NPF) package to set hydraulic properties\n",
    " - recharge (RCH) pacakge to assign recharge to the upper layer\n",
    " - river (RIV) package to define the river boundary condition\n",
    " - the output control (OC) package to determine how model outputs are recorded\n",
    "\n",
    "\n"
   ]
  },
  {
   "cell_type": "markdown",
   "metadata": {},
   "source": [
    "#### Array data"
   ]
  },
  {
   "cell_type": "code",
   "execution_count": 9,
   "metadata": {},
   "outputs": [],
   "source": [
    "# Create the initial conditions package\n",
    "# you can set a single value for the entire model\n",
    "strt = 50 \n",
    "# or assign discrete values per layer. For example:\n",
    "strt = [50, 50, 50]\n",
    "# or even set the same value for each cell, by passing an array of shape (nlay, nrow, ncol).\n",
    "# Lets do that, and set initial heads equal to the model top:\n",
    "strt = top * np.ones((nlay, nrow, ncol))\n",
    "\n",
    "# Now we can create the IC package\n",
    "ic = flopy.mf6.ModflowGwfic(gwf, pname=\"ic\", strt=strt)"
   ]
  },
  {
   "cell_type": "code",
   "execution_count": 10,
   "metadata": {},
   "outputs": [],
   "source": [
    "# Next, let's create the NPF pacakge to assign values of hydraulic conductivity (K)\n",
    "# Each layer has different K, so we wish to assign diferent values to each layer. \n",
    "# set the value of k for each layer\n",
    "k = [5, 0.1, 10]\n",
    "\n",
    "# here we can also set the icelltype to determine whether a layer is trated as variably saturated or not.\n",
    "# let us set the top layer as variably saturated (i.e. unconfiend) and the others as saturated\n",
    "icelltype = [1, 0, 0]\n",
    "\n",
    "npf = flopy.mf6.ModflowGwfnpf(gwf, icelltype=icelltype, k=k)"
   ]
  },
  {
   "cell_type": "code",
   "execution_count": 11,
   "metadata": {},
   "outputs": [],
   "source": [
    "# Create the recharge package.\n",
    "# For this simple exercise we will simply assign a single uniform value for the entire model run. \n",
    "# To do so we can use the rechage array package.\n",
    "# Other exercises will demonstrate other ways to assign recharge using list-type data\n",
    "recharge = 50/1000/365 # 50mm/yr in m/d\n",
    "\n",
    "# Note that this is flopy.mf6.ModflowGwfrcha(). Different from flopy.mf6.ModflowGwfrch()\n",
    "rch = flopy.mf6.ModflowGwfrcha(gwf, pname='rch', recharge=recharge)"
   ]
  },
  {
   "cell_type": "markdown",
   "metadata": {},
   "source": [
    "#### List data"
   ]
  },
  {
   "cell_type": "code",
   "execution_count": 12,
   "metadata": {},
   "outputs": [],
   "source": [
    "# Lastly, we need to assign the river boundary condition in the upper layer using the RIV package.\n",
    "# The river will be assigned to cells in the upper layer, in row 7 (the middle of the model domain in this case)\n",
    "# Here we will use list\n",
    "\n",
    "riv_row = 7\n",
    "stage = top - 5\n",
    "rbot = botm[0]\n",
    "cond = 0.01\n",
    "\n",
    "riv_spd = []\n",
    "for col in range(ncol):\n",
    "    riv_spd.append(((0, riv_row, col), stage, cond, rbot))\n",
    "\n",
    "riv = flopy.mf6.ModflowGwfriv(gwf, stress_period_data=riv_spd, boundnames=True)"
   ]
  },
  {
   "cell_type": "markdown",
   "metadata": {},
   "source": [
    "### Write the Model files"
   ]
  },
  {
   "cell_type": "code",
   "execution_count": 13,
   "metadata": {},
   "outputs": [
    {
     "name": "stdout",
     "output_type": "stream",
     "text": [
      "writing simulation...\n",
      "  writing simulation name file...\n",
      "  writing simulation tdis package...\n",
      "  writing ims package ims...\n",
      "  writing model symp01...\n",
      "    writing model name file...\n",
      "    writing package dis...\n",
      "    writing package ic...\n",
      "    writing package npf...\n",
      "    writing package rch...\n",
      "    writing package riv_0...\n",
      "INFORMATION: maxbound in ('gwf6', 'riv', 'dimensions') changed to 10 based on size of stress_period_data\n"
     ]
    }
   ],
   "source": [
    "# Write the model files by calling .write_simulation(). You can then inspect the workspace folder to see the MF6 input files written by Flopy. \n",
    "sim.write_simulation()"
   ]
  },
  {
   "cell_type": "markdown",
   "metadata": {},
   "source": [
    "### Run the Model"
   ]
  },
  {
   "cell_type": "code",
   "execution_count": 14,
   "metadata": {},
   "outputs": [
    {
     "name": "stdout",
     "output_type": "stream",
     "text": [
      "FloPy is using the following  executable to run the model: ..\\bin\\mf6.exe\n",
      "                                   MODFLOW 6\n",
      "                U.S. GEOLOGICAL SURVEY MODULAR HYDROLOGIC MODEL\n",
      "                            VERSION 6.2.1 02/18/2021\n",
      "\n",
      "   MODFLOW 6 compiled Feb 18 2021 08:24:05 with IFORT compiler (ver. 19.10.2)\n",
      "\n",
      "This software has been approved for release by the U.S. Geological \n",
      "Survey (USGS). Although the software has been subjected to rigorous \n",
      "review, the USGS reserves the right to update the software as needed \n",
      "pursuant to further analysis and review. No warranty, expressed or \n",
      "implied, is made by the USGS or the U.S. Government as to the \n",
      "functionality of the software and related material nor shall the \n",
      "fact of release constitute any such warranty. Furthermore, the \n",
      "software is released on condition that neither the USGS nor the U.S. \n",
      "Government shall be held liable for any damages resulting from its \n",
      "authorized or unauthorized use. Also refer to the USGS Water \n",
      "Resources Software User Rights Notice for complete use, copyright, \n",
      "and distribution information.\n",
      "\n",
      " \n",
      " Run start date and time (yyyy/mm/dd hh:mm:ss): 2021/08/24 14:40:36\n",
      " \n",
      " Writing simulation list file: mfsim.lst\n",
      " Using Simulation name file: mfsim.nam\n",
      " \n",
      "    Solving:  Stress period:     1    Time step:     1\n",
      " \n",
      " Run end date and time (yyyy/mm/dd hh:mm:ss): 2021/08/24 14:40:36\n",
      " Elapsed run time:  0.069 Seconds\n",
      " \n",
      " Normal termination of simulation.\n"
     ]
    }
   ],
   "source": [
    "success, buff = sim.run_simulation()\n",
    "if not success:\n",
    "    raise Exception(\"MODFLOW 6 did not terminate normally.\")"
   ]
  },
  {
   "cell_type": "markdown",
   "metadata": {},
   "source": [
    "# Post-process model outputs\n",
    "\n",
    "For MODFLOW6, Flopy has builtin methods to get model outputs for some packages using the *.output* attribute"
   ]
  },
  {
   "cell_type": "code",
   "execution_count": 15,
   "metadata": {},
   "outputs": [
    {
     "ename": "AttributeError",
     "evalue": "'NoneType' object has no attribute 'budget'",
     "output_type": "error",
     "traceback": [
      "\u001b[1;31m---------------------------------------------------------------------------\u001b[0m",
      "\u001b[1;31mAttributeError\u001b[0m                            Traceback (most recent call last)",
      "\u001b[1;32m~\\AppData\\Local\\Temp/ipykernel_24536/3989804431.py\u001b[0m in \u001b[0;36m<module>\u001b[1;34m\u001b[0m\n\u001b[1;32m----> 1\u001b[1;33m \u001b[0mgwf\u001b[0m\u001b[1;33m.\u001b[0m\u001b[0moutput\u001b[0m\u001b[1;33m.\u001b[0m\u001b[0mbudget\u001b[0m\u001b[1;33m(\u001b[0m\u001b[1;33m)\u001b[0m\u001b[1;33m\u001b[0m\u001b[1;33m\u001b[0m\u001b[0m\n\u001b[0m",
      "\u001b[1;31mAttributeError\u001b[0m: 'NoneType' object has no attribute 'budget'"
     ]
    }
   ],
   "source": [
    "gwf.output.budget()"
   ]
  },
  {
   "cell_type": "code",
   "execution_count": null,
   "metadata": {},
   "outputs": [],
   "source": []
  }
 ],
 "metadata": {
  "interpreter": {
   "hash": "227dbd2fab8825bf983f485131159c82d0301ad97e15b736ca5b3747747c9c56"
  },
  "kernelspec": {
   "display_name": "Python 3 (ipykernel)",
   "language": "python",
   "name": "python3"
  },
  "language_info": {
   "codemirror_mode": {
    "name": "ipython",
    "version": 3
   },
   "file_extension": ".py",
   "mimetype": "text/x-python",
   "name": "python",
   "nbconvert_exporter": "python",
   "pygments_lexer": "ipython3",
   "version": "3.9.6"
  }
 },
 "nbformat": 4,
 "nbformat_minor": 2
}
