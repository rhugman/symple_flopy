{
 "cells": [
  {
   "cell_type": "code",
   "execution_count": null,
   "metadata": {},
   "outputs": [],
   "source": [
    "import os \n",
    "import sys\n",
    "sys.path.append('../dependencies/')\n",
    "\n",
    "import shutil\n",
    "import flopy\n",
    "# import specific FloPy modules\n",
    "from flopy.utils.gridgen import Gridgen \n",
    "from flopy.utils.gridintersect import GridIntersect\n",
    "\n",
    "import pandas as pd \n",
    "import numpy as np\n",
    "import matplotlib.pyplot as plt\n",
    "\n",
    "# for working with shapefiles\n",
    "import shapefile as sf\n",
    "from shapely.geometry import Polygon, LineString, MultiLineString, Point\n",
    "\n",
    "print(f'Flopy version:{flopy.__version__}')"
   ]
  },
  {
   "cell_type": "markdown",
   "metadata": {},
   "source": [
    "# Adding a transport model\n",
    "\n",
    "In this exercise we will add a transport model to a previsouly developed flow model. There is no reason why this couldn't have been done all in one step. I am just taking the oportunity to demonstrate how to edit pre-exsiting models.\n",
    "\n",
    "We are going to:\n",
    " - load the exsiting flow model\n",
    " - add a transport model\n",
    " - add mass BCs\n",
    " - add concentration observations"
   ]
  },
  {
   "cell_type": "code",
   "execution_count": null,
   "metadata": {},
   "outputs": [],
   "source": [
    "# define the location of the model working directory; this is where all the MF6 files will be written\n",
    "# the folder path is relative to the location in which python is running. In our case, relative to the location of the jupyter notebok file.\n",
    "org_workspace = os.path.join('..','models','sgn_model_1layer')  \n",
    "\n",
    "workspace = os.path.join('..','models','sgn_model_1layer_transport')\n",
    "\n",
    "# make sure that the folder exists. If it doesn't, create it.\n",
    "# copy the hisotry model to the new folder\n",
    "if os.path.exists(workspace):\n",
    "    shutil.rmtree(workspace)\n",
    "shutil.copytree(org_workspace, workspace)    \n",
    "\n",
    "# the relative pathto the input file folder\n",
    "datadir = os.path.join('..','data','sgn')\n",
    "\n",
    "# the relative path to the executables folder\n",
    "bindir = os.path.join('..','bin')"
   ]
  },
  {
   "cell_type": "code",
   "execution_count": null,
   "metadata": {},
   "outputs": [],
   "source": [
    "# get the spatial refernce from the model\n",
    "sim = flopy.mf6.MFSimulation.load(sim_ws=workspace)\n",
    "\n",
    "print(sim.model_names)"
   ]
  },
  {
   "cell_type": "code",
   "execution_count": null,
   "metadata": {},
   "outputs": [],
   "source": [
    "gwf = sim.get_model(\"sgn\")"
   ]
  },
  {
   "cell_type": "code",
   "execution_count": null,
   "metadata": {},
   "outputs": [],
   "source": [
    "# Time for transport: 1576800000 seconds = 50 years; set data in TDIS pacakge\n"
   ]
  },
  {
   "cell_type": "code",
   "execution_count": null,
   "metadata": {},
   "outputs": [],
   "source": [
    "# Instantiate storage package\n"
   ]
  },
  {
   "cell_type": "code",
   "execution_count": null,
   "metadata": {},
   "outputs": [],
   "source": [
    "# Instantiating MODFLOW 6 groundwater transport package\n",
    "name='sgn'\n",
    "gwtname = \"gwt-\" + name\n",
    "\n",
    "\n",
    "# create iterative model solution and register the gwt model with it\n",
    "nouter, ninner = 100, 500\n",
    "hclose, rclose, relax = 1e-6, 1e-6, 1.0\n",
    "\n",
    "\n",
    "\n",
    "# Instantiating MODFLOW 6 transport discretization package\n",
    "\n",
    "\n",
    "# Instantiating MODFLOW 6 transport initial concentrations\n",
    "\n",
    "# Instantiating MODFLOW 6 transport advection package\n",
    "\n",
    "\n",
    "# Instantiating MODFLOW 6 transport dispersion package\n",
    "al = 30  # Longitudinal dispersivity ($m$)\n",
    "# Dispersion\n",
    "ath1 = 3\n",
    "atv = 3\n",
    "dmcoef = 1.02E-9  # m^2/s\n",
    "\n",
    "\n",
    "# Instantiating MODFLOW 6 transport mass storage package\n",
    "prsity = 0.2\n",
    "\n",
    "\n",
    "# Instantiating MODFLOW 6 transport source-sink mixing package\n",
    "sourcerecarray = [()]#(\"CHD-1\", \"AUX\", \"CONCENTRATION\")]\n",
    "\n",
    "\n",
    "# Instantiating MODFLOW 6 transport output control package\n",
    "\n",
    "\n",
    "# Instantiating MODFLOW 6 flow-transport exchange mechanism\n"
   ]
  },
  {
   "cell_type": "code",
   "execution_count": null,
   "metadata": {},
   "outputs": [],
   "source": [
    "# Assign contamination sources to CNC package from .shp file: 'real_unknown_sources.shp'\n",
    "#hint: use gridintersect\n",
    "\n"
   ]
  },
  {
   "cell_type": "code",
   "execution_count": null,
   "metadata": {},
   "outputs": [],
   "source": [
    "# Assign observations of concentration for monitored sites using the shape file: 'Target_L1_sept2019_head_PCE.shp'\n",
    "# observations\n",
    "\n"
   ]
  },
  {
   "cell_type": "code",
   "execution_count": null,
   "metadata": {},
   "outputs": [],
   "source": [
    "sim.write_simulation()"
   ]
  },
  {
   "cell_type": "code",
   "execution_count": null,
   "metadata": {},
   "outputs": [],
   "source": [
    "sim.run_simulation()"
   ]
  },
  {
   "cell_type": "code",
   "execution_count": null,
   "metadata": {},
   "outputs": [],
   "source": [
    "fname = os.path.join(workspace, gwf.name + '.hds')\n",
    "hdobj = flopy.utils.HeadFile(fname, model=gwf)\n",
    "head = hdobj.get_alldata()\n",
    "\n",
    "hmin = head.min()\n",
    "hmax = head.max()\n",
    "\n",
    "print(f'Max head in model run: {hmax}')\n",
    "print(f'Min head in model run: {hmin}')\n",
    "\n",
    "head.shape"
   ]
  },
  {
   "cell_type": "code",
   "execution_count": null,
   "metadata": {},
   "outputs": [],
   "source": [
    "# get the times at which values are recorede in the heads file\n",
    "hdtimes = hdobj.get_times()\n",
    "# generic plot of head data\n",
    "hdobj.plot(mflay=0, totim=hdtimes[0] ,colorbar=True, contour=True, clabel=True)"
   ]
  },
  {
   "cell_type": "code",
   "execution_count": null,
   "metadata": {},
   "outputs": [],
   "source": [
    " #Get the MF6 concentration output\n",
    "fname_mf6 = os.path.join(workspace, list(sim.model_names)[1] + \".ucn\")\n",
    "ucnobj_mf6 = flopy.utils.HeadFile(fname_mf6, precision=\"double\", text=\"CONCENTRATION\")\n",
    "\n",
    "times_mf6 = ucnobj_mf6.get_times()\n",
    "conc_mf6 = ucnobj_mf6.get_alldata()"
   ]
  },
  {
   "cell_type": "code",
   "execution_count": null,
   "metadata": {},
   "outputs": [],
   "source": [
    "# get the head output\n",
    "fname = os.path.join(workspace, list(sim.model_names)[0] + '.hds')\n",
    "hdobj = flopy.utils.HeadFile(fname, model=gwf)\n",
    "head = hdobj.get_alldata()\n",
    "\n",
    "hmin = head.min()\n",
    "hmax = head.max()"
   ]
  },
  {
   "cell_type": "code",
   "execution_count": null,
   "metadata": {},
   "outputs": [],
   "source": [
    "# Plot a \"zoomed in\" map of concentration and heads near the contaminated site\n",
    "# hint: use 'extent'\n",
    "\n",
    "fig = plt.figure(figsize=(5, 5), tight_layout=True)\n",
    "ax = fig.add_subplot(111, aspect='equal')\n",
    "\n",
    "ext_offset = 500\n",
    "extent= () #(xmin, xmax, ymin, ymax)\n",
    "\n",
    "\n",
    "# plot the grid\n",
    "\n",
    "\n",
    "# plot head isolines\n",
    "\n",
    "\n",
    "# plot the concentration\n",
    "\n",
    "# plot the well cells\n"
   ]
  },
  {
   "cell_type": "code",
   "execution_count": null,
   "metadata": {},
   "outputs": [],
   "source": []
  }
 ],
 "metadata": {
  "interpreter": {
   "hash": "b3ba2566441a7c06988d0923437866b63cedc61552a5af99d1f4fb67d367b25f"
  },
  "kernelspec": {
   "display_name": "Python 3 (ipykernel)",
   "language": "python",
   "name": "python3"
  },
  "language_info": {
   "codemirror_mode": {
    "name": "ipython",
    "version": 3
   },
   "file_extension": ".py",
   "mimetype": "text/x-python",
   "name": "python",
   "nbconvert_exporter": "python",
   "pygments_lexer": "ipython3",
   "version": "3.9.7"
  }
 },
 "nbformat": 4,
 "nbformat_minor": 2
}
