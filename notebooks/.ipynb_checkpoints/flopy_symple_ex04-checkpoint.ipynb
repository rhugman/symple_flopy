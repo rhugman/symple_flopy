{
 "cells": [
  {
   "cell_type": "markdown",
   "metadata": {},
   "source": [
    "# Introduction\n",
    "\n",
    "This exercise addresses how to deal with data variables for MODFLOW 6 objects in FloPy. \n",
    "FloPy handles MODFLOW 6 model data in a diffferent manner from other MODFLOW model variants. \n",
    "\n",
    "FloPy stores MODFLOW 6 model data in data objects. These data objects are accesible via simulation or model packages. \n",
    "Data can be added to a package during construction or at a later stage through package attributes.\n",
    "\n",
    "There are three (at the time of writting) types of model data objects:\n",
    " - MFDataScalar\n",
    " - MFDataArray\n",
    " - MFDataList\n",
    "\n",
    "The current exercise will focus on Array Data (MFDataArray objects).\n",
    "\n",
    "## Array Data\n",
    "\n",
    "Array data contains data in arrays with a dimension of 1 or larger. In FloPy these data are stored in \"MFArray\" or \"MFTransientArray\" objects. \n",
    " - MFArray objects house time-invariant arrays with one, two or three dimensions. \n",
    "    - One and two dimensional arrays do not include a layer dimension. These are used for data which applies to a single alyer or is the same for all layers. Examples include an array of values for the \"top\" of the model (only applies to layer 1) or for column/row dimensions in a DIS grid which are the same for all layers.\n",
    "    - Three dimensional arrays additionaly contian a layer dimension. These usualy pertain to arrays of data applied to the entire model domain. \n",
    " - MFTransientArrays, as the name implies, house arrays of data which can change over time. These usualy pertain to data applied to the entire model domain, such as time-varying rechage arrays in the RCHA package. \n",
    "\n",
    "We will go through a few examples of how to set, view and change array data."
   ]
  },
  {
   "cell_type": "code",
   "execution_count": null,
   "metadata": {},
   "outputs": [],
   "source": [
    "# Import necessary libraries\n",
    "# for the purposes of this course we are using frozen versions of flopy to avoid depenecy failures.  \n",
    "import os \n",
    "import sys\n",
    "sys.path.append('../dependencies/')\n",
    "import flopy\n",
    "import numpy as np\n",
    "import matplotlib.pyplot as plt"
   ]
  },
  {
   "cell_type": "markdown",
   "metadata": {},
   "source": [
    "# Build a Model\n",
    "The following cell constructs the same model developed in exercise 1 with some modification. An additional stress period is added to the TDIS package so that MFTransientArrays can be demonstrated."
   ]
  },
  {
   "cell_type": "code",
   "execution_count": null,
   "metadata": {},
   "outputs": [],
   "source": [
    "# simulation\n",
    "sim_name = 'symple_ex04'\n",
    "exe_name = os.path.join('..','bin', 'mf6.exe')\n",
    "workspace = os.path.join('..','models','symple_ex04')\n",
    "\n",
    "sim = flopy.mf6.MFSimulation(sim_name=sim_name,\n",
    "                            exe_name=exe_name,\n",
    "                            version=\"mf6\", \n",
    "                            sim_ws=workspace)\n",
    "# tdis\n",
    "time_units = 'days'\n",
    "perioddata = [(1.0, 1, 1.0), (1.0, 1, 1.0)] # an additional stress period has been added\n",
    "nper = len(perioddata)\n",
    "tdis = flopy.mf6.ModflowTdis(sim, pname=\"tdis\",\n",
    "                                  nper=nper, \n",
    "                                  perioddata=perioddata, \n",
    "                                  time_units=time_units)\n",
    "# model\n",
    "model_name = 'symp03'\n",
    "gwf = flopy.mf6.ModflowGwf(sim,\n",
    "                            modelname=model_name,\n",
    "                            save_flows=True, print_flows=True)\n",
    "# ims pacakge\n",
    "ims = flopy.mf6.ModflowIms(sim,\n",
    "                            pname=\"ims\",\n",
    "                            complexity=\"SIMPLE\",\n",
    "                            linear_acceleration=\"BICGSTAB\",)\n",
    "sim.register_ims_package(ims, [gwf.name])\n",
    "\n",
    "# dis package\n",
    "length_units = \"METERS\"\n",
    "nlay = 3\n",
    "Lx = 1000\n",
    "Ly = 1500\n",
    "delr = 100 #row length\n",
    "delc = 100 #column length\n",
    "ncol = int(Lx/delc)\n",
    "nrow = int(Ly/delr)\n",
    "top = 50\n",
    "botm = [40, 35, 0]\n",
    "\n",
    "dis = flopy.mf6.ModflowGwfdis(\n",
    "                            gwf,\n",
    "                            nlay=nlay,\n",
    "                            nrow=nrow,\n",
    "                            ncol=ncol,\n",
    "                            delr=delr,\n",
    "                            delc=delc,\n",
    "                            top=top,\n",
    "                            botm=botm)\n",
    "\n",
    "# IC package\n",
    "strt = np.full((nlay, nrow, ncol), top)\n",
    "ic = flopy.mf6.ModflowGwfic(gwf, pname=\"ic\", strt=strt)\n",
    "\n",
    "# NPF package\n",
    "k = [5, 0.1, 10]\n",
    "icelltype = [1, 0, 0]\n",
    "\n",
    "npf = flopy.mf6.ModflowGwfnpf(gwf, icelltype=icelltype, k=k,\n",
    "                              save_flows=True, \n",
    "                              save_specific_discharge=True)\n",
    "\n",
    "# RCH package\n",
    "recharge = 50/1000/365\n",
    "rcha = flopy.mf6.ModflowGwfrcha(gwf, pname='rch', recharge=recharge)\n",
    "\n",
    "# RIV package\n",
    "riv_row = 7\n",
    "stage = top - 5\n",
    "rbot = botm[0]\n",
    "cond = 0.1 * delr*delc/1\n",
    "\n",
    "riv_spd = []\n",
    "for col in range(ncol):\n",
    "    riv_spd.append(((0, riv_row, col), stage, cond, rbot))\n",
    "\n",
    "riv = flopy.mf6.ModflowGwfriv(gwf, stress_period_data=riv_spd, boundnames=True)\n",
    "\n",
    "# OC package\n",
    "# the name of the binary head file\n",
    "headfile = f\"{gwf.name}.hds\"\n",
    "head_filerecord = [headfile]\n",
    "# the name of the binary budget file\n",
    "budgetfile = f\"{gwf.name}.cbb\"\n",
    "budget_filerecord = [budgetfile]\n",
    "\n",
    "# which outputs are crecored to the binary files\n",
    "saverecord = [(\"HEAD\", \"ALL\"), (\"BUDGET\", \"ALL\")]\n",
    "# which outputs are printed in the list file\n",
    "printrecord = [(\"HEAD\", \"LAST\")]\n",
    "oc = flopy.mf6.ModflowGwfoc(gwf,\n",
    "                            saverecord=saverecord,\n",
    "                            head_filerecord=head_filerecord,\n",
    "                            budget_filerecord=budget_filerecord,\n",
    "                            printrecord=printrecord)"
   ]
  },
  {
   "cell_type": "markdown",
   "metadata": {},
   "source": [
    "## **Specifying Array Data**\n",
    "\n",
    "Array data were used during the construction of the model in the first exercise (and in the cell above). \n",
    "\n",
    "Grid array data can be specified in several ways:\n",
    " - as a constant value (see for example the assignment of \"top\" in the DIS package)\n",
    " - as an n-dimensional list (see for example the assignment of \"k\" for each layer in the NPF package)\n",
    " - as a numpy array (see for example the assignment of \"strt\" for the IC package)\n",
    "\n",
    " The manner in which an array is assigned affects how it is written to the MODFLOW6 files and how it is stored by FloPy. The former has implications down-the-line if it relates to a parameter being adjusted during parameter estimation. The latter has implications on how the data can be accesed during model construction, should it be required.\n",
    "\n",
    " As an example we will assign array data to the k33 (vertical hydraulic conductivity) parameter in the NPF package. First, let's set the k33overk option to True, so that k33 represents the ratio of k33/k (i.e. the ratio of vertical to horizontal k). To do so, recall the lessons of the previous exercise on scaler data."
   ]
  },
  {
   "cell_type": "code",
   "execution_count": null,
   "metadata": {},
   "outputs": [],
   "source": [
    "# set k33overk to True in the NPF package\n"
   ]
  },
  {
   "cell_type": "markdown",
   "metadata": {},
   "source": [
    "## **Array data as a constant value**\n",
    "Constant value for entire domain."
   ]
  },
  {
   "cell_type": "code",
   "execution_count": null,
   "metadata": {},
   "outputs": [],
   "source": [
    "# let us start by assigning a single cnstant value of k33 to the entire model. \n"
   ]
  },
  {
   "cell_type": "code",
   "execution_count": null,
   "metadata": {},
   "outputs": [],
   "source": [
    "# we can inspect how FloPy is storing the data \n"
   ]
  },
  {
   "cell_type": "code",
   "execution_count": null,
   "metadata": {},
   "outputs": [],
   "source": [
    "# although a single value is stored, we can still access values as an array if required\n",
    "\n",
    "\n",
    "# this array has dimensions (nlay, nrow, ncol).\n",
    "# However, keep in mind the the model input files which FloPy will write (and MODFLOW will use) will have a single value. We will see this in a abit.\n"
   ]
  },
  {
   "cell_type": "markdown",
   "metadata": {},
   "source": [
    "## **Array data as a list**\n",
    "Unique constant values per layer."
   ]
  },
  {
   "cell_type": "code",
   "execution_count": null,
   "metadata": {},
   "outputs": [],
   "source": [
    "# set k22overk to True in the NPF package\n"
   ]
  },
  {
   "cell_type": "code",
   "execution_count": null,
   "metadata": {},
   "outputs": [],
   "source": [
    "# for example, if we wish to assign a diferent constant value of k22 (horizontal anisotropy) ratio to each layer\n",
    "\n",
    "\n",
    "# now we can see FloPy stores different values for each layer. \n",
    "# Seperate values for each layer will also be printed to the NPF input file.\n"
   ]
  },
  {
   "cell_type": "code",
   "execution_count": null,
   "metadata": {},
   "outputs": [],
   "source": [
    "# to update values for a specific layers \n"
   ]
  },
  {
   "cell_type": "markdown",
   "metadata": {},
   "source": [
    "## **Array data as an ndarray**\n",
    "Values on a cell by cell basis."
   ]
  },
  {
   "cell_type": "code",
   "execution_count": null,
   "metadata": {},
   "outputs": [],
   "source": [
    "# Array data can also be specifed on a cell-by-cell basis using an adeqautely shaped array\n",
    "# For example, for K for all model layers an array of shape (nlay, nrow, ncol). This is simple to generate using numpy\n",
    "# create an array of ones with the desired shape\n",
    "\n",
    "\n",
    "\n",
    "# update npf package\n"
   ]
  },
  {
   "cell_type": "code",
   "execution_count": null,
   "metadata": {},
   "outputs": [],
   "source": []
  },
  {
   "cell_type": "markdown",
   "metadata": {},
   "source": [
    "## **Mixed array types**\n",
    "Working with layered arrays provides some flexibility. Consnta values can be specified for layers where hetergoeneity is not necesary, with arrays used fro layers in which they are. This reduces file sizes as memory requirements."
   ]
  },
  {
   "cell_type": "code",
   "execution_count": null,
   "metadata": {},
   "outputs": [],
   "source": [
    "# assign a constatn value for k in layer 1 and 3, but an array in layer 2\n",
    "\n",
    "# pass the values and array to the package in a list\n"
   ]
  },
  {
   "cell_type": "markdown",
   "metadata": {},
   "source": [
    "The examples above have demonstrate how to update an exising NPF package. However, the same principlies apply when constructing a package. Below we reconstruct the npf package to illustrate."
   ]
  },
  {
   "cell_type": "code",
   "execution_count": null,
   "metadata": {},
   "outputs": [],
   "source": [
    "# rebuild the npf pacakge\n"
   ]
  },
  {
   "cell_type": "markdown",
   "metadata": {},
   "source": [
    "## **Write the model files**\n",
    "Write the model files. You can compare them to those in the exercise 01 folder to see how they have changed."
   ]
  },
  {
   "cell_type": "code",
   "execution_count": null,
   "metadata": {},
   "outputs": [],
   "source": []
  },
  {
   "cell_type": "markdown",
   "metadata": {},
   "source": [
    "# Transient Array Data\n",
    "Transient data arrays for several stress periods are specified as a dictionary of arrays, in which the dictionary key is an integer matching the (zero-based) the stress period. The dictionary value is the array data.\n",
    "\n",
    "As for other array types, single values, lists or ndarrays can be passed. \n",
    "\n",
    "The following example illustrates transient array data for the RCHA package. Recall that the model has two stress periods."
   ]
  },
  {
   "cell_type": "code",
   "execution_count": null,
   "metadata": {},
   "outputs": [],
   "source": [
    "# define recharge in stress period 1 wihth a single value \n",
    "\n",
    "\n",
    "# define recharge in stress period 2 with an array with recharge on only half the model domain\n",
    "\n",
    "\n",
    "# construct the dictionary of stress periods and recharge arrays\n"
   ]
  },
  {
   "cell_type": "code",
   "execution_count": null,
   "metadata": {},
   "outputs": [],
   "source": [
    "# RCHA package\n"
   ]
  },
  {
   "cell_type": "code",
   "execution_count": null,
   "metadata": {},
   "outputs": [],
   "source": [
    "# write and run \n"
   ]
  },
  {
   "cell_type": "code",
   "execution_count": null,
   "metadata": {},
   "outputs": [],
   "source": []
  },
  {
   "cell_type": "code",
   "execution_count": null,
   "metadata": {},
   "outputs": [],
   "source": [
    "# plot outputs from the upper layer. The code below is the same as used in Exercise 01.\n"
   ]
  },
  {
   "cell_type": "code",
   "execution_count": null,
   "metadata": {},
   "outputs": [],
   "source": []
  }
 ],
 "metadata": {
  "interpreter": {
   "hash": "227dbd2fab8825bf983f485131159c82d0301ad97e15b736ca5b3747747c9c56"
  },
  "kernelspec": {
   "display_name": "Python 3 (ipykernel)",
   "language": "python",
   "name": "python3"
  },
  "language_info": {
   "codemirror_mode": {
    "name": "ipython",
    "version": 3
   },
   "file_extension": ".py",
   "mimetype": "text/x-python",
   "name": "python",
   "nbconvert_exporter": "python",
   "pygments_lexer": "ipython3",
   "version": "3.9.6"
  }
 },
 "nbformat": 4,
 "nbformat_minor": 2
}
