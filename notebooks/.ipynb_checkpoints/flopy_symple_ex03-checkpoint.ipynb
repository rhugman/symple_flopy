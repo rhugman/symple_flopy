{
 "cells": [
  {
   "cell_type": "markdown",
   "metadata": {},
   "source": [
    "# Introduction\n",
    "\n",
    "This exercise addresses how to deal with data variables for MODFLOW 6 objects in FloPy. \n",
    "FloPy handles MODFLOW 6 model data in a diffferent manner from other MODFLOW model variants. \n",
    "\n",
    "FloPy stores MODFLOW 6 model data in data objects. These data objects are accesible via simulation or model packages. \n",
    "Data can be added to a package during construction or at a later stage through package attributes.\n",
    "\n",
    "There are three (at the time of writting) types of model data objects:\n",
    " - MFDataScalar\n",
    " - MFDataArray\n",
    " - MFDataList\n",
    "\n",
    "The current exercise will focus on Scalar Data (MFDataScalar objects).\n",
    "\n",
    "## Scalar Data\n",
    "Scalar data are data that consist of a single integer or string, or a boolean flag (True/False). \n",
    "Most model settings or package options are assigned with scalar data. For example, in exercise 01 scalar data were assigned to:\n",
    " - nper, ncol, nrow, nlay (single integer)\n",
    " - time and length units, complexity level in the IMS package (single string)\n",
    " - in the NPF package save_flows and save_specific_discharge were assigned a boolean flag (True) to activate recording of flows and specific discharge\n",
    "\n",
    "We will go through a few examples of how to set, view and change scalar data."
   ]
  },
  {
   "cell_type": "code",
   "execution_count": null,
   "metadata": {},
   "outputs": [],
   "source": [
    "# Import necessary libraries\n",
    "# for the purposes of this course we are using frozen versions of flopy to avoid depenecy failures.  \n",
    "import os \n",
    "import sys\n",
    "sys.path.append('../dependencies/')\n",
    "import flopy\n",
    "import matplotlib.pyplot as plt"
   ]
  },
  {
   "cell_type": "markdown",
   "metadata": {},
   "source": [
    "# Build a Model\n",
    "The following cell constructs the same model developed in exercise 1. See if you can identify examples of each of the scalar data types.\n",
    "\n",
    "We could also have simply loaded the existing model, as demonstrated in the previous exercise. However, we chose to include the entire code here to make it easier to follow."
   ]
  },
  {
   "cell_type": "code",
   "execution_count": null,
   "metadata": {},
   "outputs": [],
   "source": [
    "# simulation\n",
    "sim_name = 'symple_ex03'\n",
    "exe_name = os.path.join('..','bin', 'mf6.exe')\n",
    "workspace = os.path.join('..','models','symple_ex03')\n",
    "\n",
    "sim = flopy.mf6.MFSimulation(sim_name=sim_name,\n",
    "                            exe_name=exe_name,\n",
    "                            version=\"mf6\", \n",
    "                            sim_ws=workspace)\n",
    "# tdis\n",
    "time_units = 'days'\n",
    "perioddata = [(1.0, 1, 1.0)]\n",
    "nper = len(perioddata)\n",
    "tdis = flopy.mf6.ModflowTdis(sim, pname=\"tdis\",\n",
    "                                  nper=nper, \n",
    "                                  perioddata=perioddata, \n",
    "                                  time_units=time_units)\n",
    "# model\n",
    "model_name = 'symp03'\n",
    "gwf = flopy.mf6.ModflowGwf(sim,\n",
    "                            modelname=model_name,\n",
    "                            save_flows=True, print_flows=True)\n",
    "# ims pacakge\n",
    "ims = flopy.mf6.ModflowIms(sim,\n",
    "                            pname=\"ims\",\n",
    "                            complexity=\"SIMPLE\",\n",
    "                            linear_acceleration=\"BICGSTAB\",)\n",
    "sim.register_ims_package(ims, [gwf.name])\n",
    "\n",
    "# dis package\n",
    "length_units = \"METERS\"\n",
    "nlay = 3\n",
    "Lx = 1000\n",
    "Ly = 1500\n",
    "delr = 100 #row length\n",
    "delc = 100 #column length\n",
    "ncol = int(Lx/delc)\n",
    "nrow = int(Ly/delr)\n",
    "top = 50\n",
    "botm = [40, 35, 0]\n",
    "\n",
    "dis = flopy.mf6.ModflowGwfdis(\n",
    "                            gwf,\n",
    "                            nlay=nlay,\n",
    "                            nrow=nrow,\n",
    "                            ncol=ncol,\n",
    "                            delr=delr,\n",
    "                            delc=delc,\n",
    "                            top=top,\n",
    "                            botm=botm)\n",
    "\n",
    "# IC package\n",
    "ic = flopy.mf6.ModflowGwfic(gwf, pname=\"ic\", strt=top)\n",
    "\n",
    "# NPF package\n",
    "k = [5, 0.1, 10]\n",
    "icelltype = [1, 0, 0]\n",
    "\n",
    "npf = flopy.mf6.ModflowGwfnpf(gwf, icelltype=icelltype, k=k,\n",
    "                              save_flows=True, \n",
    "                              save_specific_discharge=True)\n",
    "\n",
    "# RCH package\n",
    "recharge = 50/1000/365\n",
    "rch = flopy.mf6.ModflowGwfrcha(gwf, pname='rch', recharge=recharge)\n",
    "\n",
    "# RIV package\n",
    "riv_row = 7\n",
    "stage = top - 5\n",
    "rbot = botm[0]\n",
    "cond = 0.1 * delr*delc/1\n",
    "\n",
    "riv_spd = []\n",
    "for col in range(ncol):\n",
    "    riv_spd.append(((0, riv_row, col), stage, cond, rbot))\n",
    "\n",
    "riv = flopy.mf6.ModflowGwfriv(gwf, stress_period_data=riv_spd, boundnames=True)\n",
    "\n",
    "# OC package\n",
    "# the name of the binary head file\n",
    "headfile = f\"{gwf.name}.hds\"\n",
    "head_filerecord = [headfile]\n",
    "# the name of the binary budget file\n",
    "budgetfile = f\"{gwf.name}.cbb\"\n",
    "budget_filerecord = [budgetfile]\n",
    "\n",
    "# which outputs are crecored to the binary files\n",
    "saverecord = [(\"HEAD\", \"ALL\"), (\"BUDGET\", \"ALL\")]\n",
    "# which outputs are printed in the list file\n",
    "printrecord = [(\"HEAD\", \"LAST\")]\n",
    "oc = flopy.mf6.ModflowGwfoc(gwf,\n",
    "                            saverecord=saverecord,\n",
    "                            head_filerecord=head_filerecord,\n",
    "                            budget_filerecord=budget_filerecord,\n",
    "                            printrecord=printrecord)"
   ]
  },
  {
   "cell_type": "markdown",
   "metadata": {},
   "source": [
    "## Accessing Scalar Data\n",
    "\n",
    "When we constructed the NPF pacakge, we set the option to \"save_specific_discharge\" by assigning a True value. In the next steps we will view the option and then change it to False."
   ]
  },
  {
   "cell_type": "code",
   "execution_count": null,
   "metadata": {},
   "outputs": [],
   "source": [
    "# to view the option in the package simply acces it using the npf package's attribute with the same name.\n"
   ]
  },
  {
   "cell_type": "markdown",
   "metadata": {},
   "source": [
    "## Editting Scalar Data"
   ]
  },
  {
   "cell_type": "code",
   "execution_count": null,
   "metadata": {},
   "outputs": [],
   "source": [
    "# To change the scalar data value simply\n",
    "\n",
    "\n",
    "# and then check it again\n"
   ]
  },
  {
   "cell_type": "code",
   "execution_count": null,
   "metadata": {},
   "outputs": [],
   "source": [
    "# the same applies for single string or integer scalar data\n"
   ]
  },
  {
   "cell_type": "code",
   "execution_count": null,
   "metadata": {},
   "outputs": [],
   "source": [
    "# alter the IMS solver settings\n"
   ]
  },
  {
   "cell_type": "markdown",
   "metadata": {},
   "source": [
    "## Write the model files \n",
    "Write the model files. You can compare them to those in the exercise 01 folder to see how they have changed."
   ]
  },
  {
   "cell_type": "code",
   "execution_count": null,
   "metadata": {},
   "outputs": [],
   "source": []
  },
  {
   "cell_type": "code",
   "execution_count": null,
   "metadata": {},
   "outputs": [],
   "source": []
  }
 ],
 "metadata": {
  "interpreter": {
   "hash": "227dbd2fab8825bf983f485131159c82d0301ad97e15b736ca5b3747747c9c56"
  },
  "kernelspec": {
   "display_name": "Python 3 (ipykernel)",
   "language": "python",
   "name": "python3"
  },
  "language_info": {
   "codemirror_mode": {
    "name": "ipython",
    "version": 3
   },
   "file_extension": ".py",
   "mimetype": "text/x-python",
   "name": "python",
   "nbconvert_exporter": "python",
   "pygments_lexer": "ipython3",
   "version": "3.9.6"
  }
 },
 "nbformat": 4,
 "nbformat_minor": 2
}
