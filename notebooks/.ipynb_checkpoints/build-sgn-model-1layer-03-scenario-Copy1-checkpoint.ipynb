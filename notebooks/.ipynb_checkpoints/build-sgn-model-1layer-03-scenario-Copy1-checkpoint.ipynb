{
 "cells": [
  {
   "cell_type": "code",
   "execution_count": null,
   "metadata": {},
   "outputs": [],
   "source": [
    "import os \n",
    "import sys\n",
    "sys.path.append('../dependencies/')\n",
    "\n",
    "import shutil\n",
    "import flopy\n",
    "# import specific FloPy modules\n",
    "from flopy.utils.gridgen import Gridgen \n",
    "from flopy.utils.gridintersect import GridIntersect\n",
    "\n",
    "import pandas as pd \n",
    "import numpy as np\n",
    "import matplotlib.pyplot as plt\n",
    "\n",
    "# for working with shapefiles\n",
    "import shapefile as sf\n",
    "from shapely.geometry import Polygon, LineString, MultiLineString, Point\n",
    "\n",
    "print(f'Flopy version:{flopy.__version__}')"
   ]
  },
  {
   "cell_type": "code",
   "execution_count": null,
   "metadata": {},
   "outputs": [],
   "source": [
    "# define the location of the model working directory; this is where all the MF6 files will be written\n",
    "# the folder path is relative to the location in which python is running. In our case, relative to the location of the jupyter notebok file.\n",
    "\n",
    "# set the path to the history model\n",
    "hist_workspace = os.path.join('..','models','sgn_model_1layer_transport')\n",
    "\n",
    "# set the new workspace\n",
    "workspace = os.path.join('..','models','sgn_model_1layer_scenario')\n",
    "\n",
    "# make sure that the folder exists. If it doesn't, create it.\n",
    "# copy the hisotry model to the new folder\n",
    "if os.path.exists(workspace):\n",
    "    shutil.rmtree(workspace)\n",
    "shutil.copytree(hist_workspace, workspace)    \n",
    "    \n",
    "# the relative pathto the input file folder\n",
    "datadir = os.path.join('..','data','sgn')\n",
    "\n",
    "# the relative path to the executables folder\n",
    "bindir = os.path.join('..','bin')"
   ]
  },
  {
   "cell_type": "code",
   "execution_count": null,
   "metadata": {},
   "outputs": [],
   "source": [
    "# load the model\n",
    "sim = flopy.mf6.MFSimulation.load(sim_ws=workspace, verbosity_level=1)\n",
    "\n",
    "print(sim.model_names)"
   ]
  },
  {
   "cell_type": "code",
   "execution_count": null,
   "metadata": {},
   "outputs": [],
   "source": [
    "gwf = sim.get_model(\"sgn\")"
   ]
  },
  {
   "cell_type": "code",
   "execution_count": null,
   "metadata": {},
   "outputs": [],
   "source": [
    "# GridIntersect works by first calling an intersect object on the model grid:\n"
   ]
  },
  {
   "cell_type": "code",
   "execution_count": null,
   "metadata": {},
   "outputs": [],
   "source": [
    "# hydraulic barrier data\n"
   ]
  },
  {
   "cell_type": "code",
   "execution_count": null,
   "metadata": {},
   "outputs": [],
   "source": [
    "# ineresect all model cells\n"
   ]
  },
  {
   "cell_type": "code",
   "execution_count": null,
   "metadata": {},
   "outputs": [],
   "source": []
  },
  {
   "cell_type": "code",
   "execution_count": null,
   "metadata": {},
   "outputs": [],
   "source": [
    "# append the barrier wells to the wel package SPD\n"
   ]
  },
  {
   "cell_type": "code",
   "execution_count": null,
   "metadata": {},
   "outputs": [],
   "source": [
    "# check if that worked; see the end of the array\n"
   ]
  },
  {
   "cell_type": "code",
   "execution_count": null,
   "metadata": {},
   "outputs": [],
   "source": [
    "sim.write_simulation()"
   ]
  },
  {
   "cell_type": "code",
   "execution_count": null,
   "metadata": {},
   "outputs": [],
   "source": [
    "sim.run_simulation()"
   ]
  },
  {
   "cell_type": "code",
   "execution_count": null,
   "metadata": {},
   "outputs": [],
   "source": [
    "fname = os.path.join(workspace, gwf.name + '.hds')\n",
    "hdobj = flopy.utils.HeadFile(fname, model=gwf)\n",
    "head = hdobj.get_alldata()\n",
    "\n",
    "hmin = head.min()\n",
    "hmax = head.max()\n",
    "\n",
    "print(f'Max head in model run: {hmax}')\n",
    "print(f'Min head in model run: {hmin}')\n",
    "\n",
    "head.shape"
   ]
  },
  {
   "cell_type": "code",
   "execution_count": null,
   "metadata": {},
   "outputs": [],
   "source": [
    "# get the times at which values are recorede in the heads file\n",
    "hdtimes = hdobj.get_times()\n",
    "# generic plot of head data\n",
    "hdobj.plot(mflay=0, totim=hdtimes[0] ,colorbar=True, contour=True, clabel=True)"
   ]
  },
  {
   "cell_type": "code",
   "execution_count": null,
   "metadata": {},
   "outputs": [],
   "source": [
    "# Visualy compare effect of inkection well\n",
    "\n",
    "#read the .hds file form the hisotry model\n"
   ]
  },
  {
   "cell_type": "code",
   "execution_count": null,
   "metadata": {},
   "outputs": [],
   "source": []
  },
  {
   "cell_type": "code",
   "execution_count": null,
   "metadata": {},
   "outputs": [],
   "source": [
    "# calc delta h\n"
   ]
  },
  {
   "cell_type": "code",
   "execution_count": null,
   "metadata": {},
   "outputs": [],
   "source": []
  },
  {
   "cell_type": "code",
   "execution_count": null,
   "metadata": {},
   "outputs": [],
   "source": [
    "# Get the MF6 concentration output\n",
    "\n",
    "# pre-hydraulic barrier simulation\n",
    "\n",
    "# difference between them\n"
   ]
  },
  {
   "cell_type": "code",
   "execution_count": null,
   "metadata": {},
   "outputs": [],
   "source": [
    "# plot differnece in concentration\n",
    "\n",
    "# plot the differnece in concnetration induced by the hydraulic barrier\n",
    "\n",
    "# plot the site shp\n",
    "\n",
    "# plot the well cells\n"
   ]
  },
  {
   "cell_type": "code",
   "execution_count": null,
   "metadata": {},
   "outputs": [],
   "source": []
  },
  {
   "cell_type": "code",
   "execution_count": null,
   "metadata": {},
   "outputs": [],
   "source": []
  }
 ],
 "metadata": {
  "interpreter": {
   "hash": "b3ba2566441a7c06988d0923437866b63cedc61552a5af99d1f4fb67d367b25f"
  },
  "kernelspec": {
   "display_name": "Python 3 (ipykernel)",
   "language": "python",
   "name": "python3"
  },
  "language_info": {
   "codemirror_mode": {
    "name": "ipython",
    "version": 3
   },
   "file_extension": ".py",
   "mimetype": "text/x-python",
   "name": "python",
   "nbconvert_exporter": "python",
   "pygments_lexer": "ipython3",
   "version": "3.9.7"
  }
 },
 "nbformat": 4,
 "nbformat_minor": 2
}
