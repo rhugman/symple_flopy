{
 "cells": [
  {
   "cell_type": "markdown",
   "metadata": {},
   "source": [
    "# Introduction\n",
    "\n",
    "This exercise addresses how to deal with the MODFLOW 6 Observation (OBS) Utility. The OBS utility provides options for extracting numeric values of interest generated during a model run (i.e. \"observations\").\n",
    "\n",
    "Observations are output at the end of each time-step and represent the value used by MODFLOW 6 during the time-step. Types of available observations are listed in the MODFLOW6 manual. Commonly used observations are heads, concentrations (for mass transport models) and flows through boundary conditions.\n",
    "\n",
    "The OBS utility can record outputs to either text or binary files. Text files are written in CSV format, making them easy to access using common spredsheet software or libraries (i.e. Pandas or Numpy).\n",
    "\n",
    "In this exercise we will:\n",
    " - configure observations of flow through the RIV boundary condition\n",
    " - define observations of heads at specified locations in the model\n",
    " - run the model and access simulated observation data using the .output method"
   ]
  },
  {
   "cell_type": "code",
   "execution_count": null,
   "metadata": {},
   "outputs": [],
   "source": [
    "# Import necessary libraries\n",
    "# for the purposes of this course we are using frozen versions of flopy to avoid depenecy failures.  \n",
    "import os \n",
    "import sys\n",
    "sys.path.append('../dependencies/')\n",
    "import flopy\n",
    "import numpy as np\n",
    "import matplotlib.pyplot as plt"
   ]
  },
  {
   "cell_type": "markdown",
   "metadata": {},
   "source": [
    "# Build a Model\n",
    "The following cell constructs the same model developed in exercise 1 with some modification. A few changes have been introduced:\n",
    "\n",
    " - One additional stress period is added to the TDIS package;\n",
    " - The new stress period is simulated under transient conditions for 365 days with 12 time-steps."
   ]
  },
  {
   "cell_type": "code",
   "execution_count": null,
   "metadata": {},
   "outputs": [],
   "source": [
    "# simulation\n",
    "sim_name = 'symple_ex06'\n",
    "exe_name = os.path.join('..','bin', 'mf6.exe')\n",
    "workspace = os.path.join('..','models','symple_ex06')\n",
    "\n",
    "sim = flopy.mf6.MFSimulation(sim_name=sim_name,\n",
    "                            exe_name=exe_name,\n",
    "                            version=\"mf6\", \n",
    "                            sim_ws=workspace)"
   ]
  },
  {
   "cell_type": "markdown",
   "metadata": {},
   "source": [
    "Change the TDIS perioddata."
   ]
  },
  {
   "cell_type": "code",
   "execution_count": null,
   "metadata": {},
   "outputs": [],
   "source": [
    "# THis time we will add an extra stress period with a perlen=365 days and nstp=12\n",
    "\n",
    "\n",
    "# the number of periods (nper) should match the number of tuples in the perioddata list\n"
   ]
  },
  {
   "cell_type": "code",
   "execution_count": null,
   "metadata": {},
   "outputs": [],
   "source": [
    "# tdis\n",
    "time_units = 'days'\n",
    "tdis = flopy.mf6.ModflowTdis(sim, pname=\"tdis\",\n",
    "                                  nper=nper, \n",
    "                                  perioddata=perioddata, \n",
    "                                  time_units=time_units)"
   ]
  },
  {
   "cell_type": "markdown",
   "metadata": {},
   "source": [
    "With the exception of the RIV, WEL and STO packages, the rest remains the same for now. \n",
    "Because we are adding a transient stress period we also need to include the storage (STO) package.\n",
    "We also add the WEL package, with two wells pumping during the transient stress peroid. This is so that we see some change in our observations. Otherwise it would be boring.\n"
   ]
  },
  {
   "cell_type": "code",
   "execution_count": null,
   "metadata": {},
   "outputs": [],
   "source": [
    "# model\n",
    "model_name = 'symp06'\n",
    "gwf = flopy.mf6.ModflowGwf(sim,\n",
    "                            modelname=model_name,\n",
    "                            save_flows=True, print_flows=True)\n",
    "# ims pacakge\n",
    "ims = flopy.mf6.ModflowIms(sim,\n",
    "                            pname=\"ims\",\n",
    "                            complexity=\"SIMPLE\",\n",
    "                            linear_acceleration=\"BICGSTAB\",)\n",
    "sim.register_ims_package(ims, [gwf.name])\n",
    "\n",
    "# dis package\n",
    "length_units = \"METERS\"\n",
    "nlay = 3\n",
    "Lx = 1000\n",
    "Ly = 1500\n",
    "delr = 100 #row length\n",
    "delc = 100 #column length\n",
    "ncol = int(Lx/delc)\n",
    "nrow = int(Ly/delr)\n",
    "top = 50\n",
    "botm = [40, 35, 0]\n",
    "\n",
    "dis = flopy.mf6.ModflowGwfdis(\n",
    "                            gwf,\n",
    "                            nlay=nlay,\n",
    "                            nrow=nrow,\n",
    "                            ncol=ncol,\n",
    "                            delr=delr,\n",
    "                            delc=delc,\n",
    "                            top=top,\n",
    "                            botm=botm)\n",
    "\n",
    "# IC package\n",
    "strt = np.full((nlay, nrow, ncol), top)\n",
    "ic = flopy.mf6.ModflowGwfic(gwf, pname=\"ic\", strt=strt)\n",
    "\n",
    "# NPF package\n",
    "k = [5, 0.1, 10]\n",
    "icelltype = [1, 0, 0]\n",
    "\n",
    "npf = flopy.mf6.ModflowGwfnpf(gwf, icelltype=icelltype, k=k,\n",
    "                              save_flows=True, \n",
    "                              save_specific_discharge=True)\n",
    "\n",
    "# RCH package\n",
    "recharge = 50/1000/365\n",
    "rcha = flopy.mf6.ModflowGwfrcha(gwf, pname='rch', recharge=recharge)\n",
    "\n",
    "# construct the WEL package\n",
    "wel_spd = {\n",
    "            0:[],\n",
    "            1:[((2, 5, 3), -100), ((2, 10, 6), -50)]\n",
    "            }\n",
    "wel = flopy.mf6.ModflowGwfwel(gwf, stress_period_data=wel_spd,\n",
    "                                    print_input=True, \n",
    "                                    print_flows=True,\n",
    "                                    save_flows=True)\n",
    "\n",
    "\n",
    "# OC package\n",
    "# the name of the binary head file\n",
    "headfile = f\"{gwf.name}.hds\"\n",
    "head_filerecord = [headfile]\n",
    "# the name of the binary budget file\n",
    "budgetfile = f\"{gwf.name}.cbb\"\n",
    "budget_filerecord = [budgetfile]\n",
    "\n",
    "# which outputs are crecored to the binary files\n",
    "saverecord = [(\"HEAD\", \"ALL\"), (\"BUDGET\", \"ALL\")]\n",
    "# which outputs are printed in the list file\n",
    "printrecord = [(\"HEAD\", \"LAST\")]\n",
    "oc = flopy.mf6.ModflowGwfoc(gwf,\n",
    "                            saverecord=saverecord,\n",
    "                            head_filerecord=head_filerecord,\n",
    "                            budget_filerecord=budget_filerecord,\n",
    "                            printrecord=printrecord)"
   ]
  },
  {
   "cell_type": "markdown",
   "metadata": {},
   "source": [
    "## **Adding the STO package**\n",
    "\n",
    "We will take the oportunity to introduce how to specify transient stress periods with the STO package. For this exercise we will simulate the frst stress period as steady state, followed by a transient stress period. \n",
    "\n",
    "These are defined using the \"steady_state\" and \"transient\" arguments when constructing the STO packge. These arguments take a list or dictionary of booleans (True/False). If a dictionary is passed, the dictionary keys refer to the stress period number (zero-based). Either steadystate or transient conditions will apply until a subsequent stress period is specified as bineg of the other type."
   ]
  },
  {
   "cell_type": "code",
   "execution_count": null,
   "metadata": {},
   "outputs": [],
   "source": [
    "# specify Sy and Ss\n",
    "\n",
    "\n",
    "# construct the STO package\n",
    "\n"
   ]
  },
  {
   "cell_type": "markdown",
   "metadata": {},
   "source": [
    "## **Adding Observations to a Stress Package**\n",
    "\n",
    "Observations can be set for any package using the package.obs object (for example: riv.obs). \n",
    "\n",
    "Observations can be specifed on a cell-by-cell basis or for groups of cells using \"boundnames\" when specifying list data. For things such as boundary conditions, the latter is likley to be a more common use case (i.e. you are morel likley to want to record the flow through all RIV cells rather than for each individual cell). \n",
    "\n",
    "Each observation also represents a unique column of data recorded in the output CSV file. So if you are monitoring every cell, such a file can get very large very quickly. Writting the file also slows down model run-times. \n",
    "\n",
    "We will go through both options in this exercise."
   ]
  },
  {
   "cell_type": "code",
   "execution_count": null,
   "metadata": {},
   "outputs": [],
   "source": [
    "# Start by specifying the same inputs as in previous exercises\n",
    "# RIV package\n",
    "\n",
    "\n",
    "# Now, when specifyin the list data a new value \"river_bc\" is added to the tuple. This is a string defining the \"boundname\". \n",
    "# Think of it as a tag for all the cells which make up this river boundary condition.\n",
    "\n",
    "\n",
    "# note that to use boundnames, the \"boundnames\" argument in the riv package is set to True.\n"
   ]
  },
  {
   "cell_type": "markdown",
   "metadata": {},
   "source": [
    "The next step is to build the observation data dictionary. The dictionary key is the filename of the output file. We shall record our observations to the file \"riv_obs.csv\". The dictionary value is a list of tuples with the contents of the OBS package's continuous block (see MF6 manual). Each tuple in the list is comprised of (the output file column header, the observation type, the boundname or cellid).\n",
    "\n",
    "We will record RIV obsservations assocaited to the \"river_bc\" boundname to \"riv_obs.csv\". We will add an additional observation to the same output file for a RIV observations at a single cell. Then we will add a second output file (\"riv_obs2.csv\") with observations from another cell."
   ]
  },
  {
   "cell_type": "code",
   "execution_count": null,
   "metadata": {},
   "outputs": [],
   "source": [
    "# build the observation data dictionary\n"
   ]
  },
  {
   "cell_type": "code",
   "execution_count": null,
   "metadata": {},
   "outputs": [],
   "source": [
    "# we can then initialize the observations\n"
   ]
  },
  {
   "cell_type": "markdown",
   "metadata": {},
   "source": [
    "## **Adding Observations of State Variables**\n",
    "\n",
    "Model outputs of heads, concentrations and flows between cells are not associated to any specific package. These are assigned in the same manner, but using *flopy.mf6.ModflowUtlobs()* for the OBS Utility.\n",
    "\n",
    "In the example below we will specify observations at two cells, one in each layer. We will record both head and drawdown."
   ]
  },
  {
   "cell_type": "code",
   "execution_count": null,
   "metadata": {},
   "outputs": [],
   "source": [
    "# as before, first we construct the observation data dictionary and lists\n"
   ]
  },
  {
   "cell_type": "code",
   "execution_count": null,
   "metadata": {},
   "outputs": [],
   "source": [
    "# then we initialize the OBS utility pacakge\n",
    "# initialize obs package\n"
   ]
  },
  {
   "cell_type": "markdown",
   "metadata": {},
   "source": [
    "## **Write the Model Files and Run**\n",
    "Write the model files. You can compare them to those in the exercise 01 folder to see how they have changed."
   ]
  },
  {
   "cell_type": "code",
   "execution_count": null,
   "metadata": {},
   "outputs": [],
   "source": []
  },
  {
   "cell_type": "markdown",
   "metadata": {},
   "source": [
    "# **Access Output Observations**\n",
    "\n",
    "Model outputs have been written to CSV's in the model workspace folder. These can be accessed as you would any CSV file. \n",
    "\n",
    "Alternatively you can use FloPy's .output method as shown below."
   ]
  },
  {
   "cell_type": "code",
   "execution_count": null,
   "metadata": {},
   "outputs": [],
   "source": [
    "# check how many obs pacakges are in the model\n"
   ]
  },
  {
   "cell_type": "code",
   "execution_count": null,
   "metadata": {},
   "outputs": [],
   "source": [
    "# access a list of observation ouput file names of the firs OBS package\n"
   ]
  },
  {
   "cell_type": "code",
   "execution_count": null,
   "metadata": {},
   "outputs": [],
   "source": [
    "# access a list of observation ouput file names of the second OBS package\n"
   ]
  },
  {
   "cell_type": "code",
   "execution_count": null,
   "metadata": {},
   "outputs": [],
   "source": [
    "# load the output obsevration csv by referencing the file name\n",
    "\n",
    "\n",
    "# access a recarray of the observation data with\n"
   ]
  },
  {
   "cell_type": "code",
   "execution_count": null,
   "metadata": {},
   "outputs": [],
   "source": [
    "# you can then manipulate or plot that data as desired. Personaly I find Pandas dataframes easier to handle\n"
   ]
  },
  {
   "cell_type": "code",
   "execution_count": null,
   "metadata": {},
   "outputs": [],
   "source": [
    "# a quick and dirty plot\n"
   ]
  },
  {
   "cell_type": "code",
   "execution_count": null,
   "metadata": {},
   "outputs": [],
   "source": []
  }
 ],
 "metadata": {
  "interpreter": {
   "hash": "227dbd2fab8825bf983f485131159c82d0301ad97e15b736ca5b3747747c9c56"
  },
  "kernelspec": {
   "display_name": "Python 3 (ipykernel)",
   "language": "python",
   "name": "python3"
  },
  "language_info": {
   "codemirror_mode": {
    "name": "ipython",
    "version": 3
   },
   "file_extension": ".py",
   "mimetype": "text/x-python",
   "name": "python",
   "nbconvert_exporter": "python",
   "pygments_lexer": "ipython3",
   "version": "3.9.6"
  }
 },
 "nbformat": 4,
 "nbformat_minor": 2
}
