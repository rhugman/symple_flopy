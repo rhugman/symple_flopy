{
    "cells": [
        {
            "cell_type": "markdown",
            "source": [
                "# Introduction\r\n",
                "\r\n",
                "This exercise addresses how to deal with data variables for MODFLOW 6 objects in FloPy. \r\n",
                "FloPy handles MODFLOW 6 model data in a diffferent manner from other MODFLOW model variants. \r\n",
                "\r\n",
                "FloPy stores MODFLOW 6 model data in data objects. These data objects are accesible via simulation or model packages. \r\n",
                "Data can be added to a package during construction or at a later stage through package attributes.\r\n",
                "\r\n",
                "There are three (at the time of writting) types of model data objects:\r\n",
                " - MFDataScalar\r\n",
                " - MFDataArray\r\n",
                " - MFDataList\r\n",
                "\r\n",
                "The current exercise will focus on Scalar Data (MFDataScalar objects).\r\n",
                "\r\n",
                "## Scalar Data\r\n",
                "Scalar data are data that consist of a single integer or string, or a boolean flag (True/False). \r\n",
                "Most model settings or package options are assigned with scalar data. For example, in exercise 01 scalar data were assigned to:\r\n",
                " - nper, ncol, nrow, nlay (single integer)\r\n",
                " - time and length units, complexity level in the IMS package (single string)\r\n",
                " - in the NPF package save_flows and save_specific_discharge were assigned a boolean flag (True) to activate recording of flows and specific discharge\r\n",
                "\r\n",
                "We will go through a few examples of how to set, view and change scalar data."
            ],
            "metadata": {}
        },
        {
            "cell_type": "code",
            "execution_count": 1,
            "source": [
                "# Import necessary libraries\r\n",
                "# for the purposes of this course we are using frozen versions of flopy to avoid depenecy failures.  \r\n",
                "import os \r\n",
                "import sys\r\n",
                "sys.path.append('../dependencies/')\r\n",
                "import flopy\r\n",
                "import matplotlib.pyplot as plt"
            ],
            "outputs": [],
            "metadata": {}
        },
        {
            "cell_type": "markdown",
            "source": [
                "# Build a Model\r\n",
                "The following cell constructs the same model developed in exercise 1. See if you can identify examples of each of the scalar data types.\r\n",
                "\r\n",
                "We could also have simply loaded the existing model, as demonstrated in the previous exercise. However, we chose to include the entire code here to make it easier to follow."
            ],
            "metadata": {}
        },
        {
            "cell_type": "code",
            "execution_count": 2,
            "source": [
                "# simulation\r\n",
                "sim_name = 'symple_ex03'\r\n",
                "exe_name = os.path.join('..','bin', 'mf6.exe')\r\n",
                "workspace = os.path.join('..','models','symple_ex03')\r\n",
                "\r\n",
                "sim = flopy.mf6.MFSimulation(sim_name=sim_name,\r\n",
                "                            exe_name=exe_name,\r\n",
                "                            version=\"mf6\", \r\n",
                "                            sim_ws=workspace)\r\n",
                "# tdis\r\n",
                "time_units = 'days'\r\n",
                "perioddata = [(1.0, 1, 1.0)]\r\n",
                "nper = len(perioddata)\r\n",
                "tdis = flopy.mf6.ModflowTdis(sim, pname=\"tdis\",\r\n",
                "                                  nper=nper, \r\n",
                "                                  perioddata=perioddata, \r\n",
                "                                  time_units=time_units)\r\n",
                "# model\r\n",
                "model_name = 'symp03'\r\n",
                "gwf = flopy.mf6.ModflowGwf(sim,\r\n",
                "                            modelname=model_name,\r\n",
                "                            save_flows=True, print_flows=True)\r\n",
                "# ims pacakge\r\n",
                "ims = flopy.mf6.ModflowIms(sim,\r\n",
                "                            pname=\"ims\",\r\n",
                "                            complexity=\"SIMPLE\",\r\n",
                "                            linear_acceleration=\"BICGSTAB\",)\r\n",
                "sim.register_ims_package(ims, [gwf.name])\r\n",
                "\r\n",
                "# dis package\r\n",
                "length_units = \"METERS\"\r\n",
                "nlay = 3\r\n",
                "Lx = 1000\r\n",
                "Ly = 1500\r\n",
                "delr = 100 #row length\r\n",
                "delc = 100 #column length\r\n",
                "ncol = int(Lx/delc)\r\n",
                "nrow = int(Ly/delr)\r\n",
                "top = 50\r\n",
                "botm = [40, 35, 0]\r\n",
                "\r\n",
                "dis = flopy.mf6.ModflowGwfdis(\r\n",
                "                            gwf,\r\n",
                "                            nlay=nlay,\r\n",
                "                            nrow=nrow,\r\n",
                "                            ncol=ncol,\r\n",
                "                            delr=delr,\r\n",
                "                            delc=delc,\r\n",
                "                            top=top,\r\n",
                "                            botm=botm)\r\n",
                "\r\n",
                "# IC package\r\n",
                "ic = flopy.mf6.ModflowGwfic(gwf, pname=\"ic\", strt=top)\r\n",
                "\r\n",
                "# NPF package\r\n",
                "k = [5, 0.1, 10]\r\n",
                "icelltype = [1, 0, 0]\r\n",
                "\r\n",
                "npf = flopy.mf6.ModflowGwfnpf(gwf, icelltype=icelltype, k=k,\r\n",
                "                              save_flows=True, \r\n",
                "                              save_specific_discharge=True)\r\n",
                "\r\n",
                "# RCH package\r\n",
                "recharge = 50/1000/365\r\n",
                "rch = flopy.mf6.ModflowGwfrcha(gwf, pname='rch', recharge=recharge)\r\n",
                "\r\n",
                "# RIV package\r\n",
                "riv_row = 7\r\n",
                "stage = top - 5\r\n",
                "rbot = botm[0]\r\n",
                "cond = 0.1 * delr*delc/1\r\n",
                "\r\n",
                "riv_spd = []\r\n",
                "for col in range(ncol):\r\n",
                "    riv_spd.append(((0, riv_row, col), stage, cond, rbot))\r\n",
                "\r\n",
                "riv = flopy.mf6.ModflowGwfriv(gwf, stress_period_data=riv_spd, boundnames=True)\r\n",
                "\r\n",
                "# OC package\r\n",
                "# the name of the binary head file\r\n",
                "headfile = f\"{gwf.name}.hds\"\r\n",
                "head_filerecord = [headfile]\r\n",
                "# the name of the binary budget file\r\n",
                "budgetfile = f\"{gwf.name}.cbb\"\r\n",
                "budget_filerecord = [budgetfile]\r\n",
                "\r\n",
                "# which outputs are crecored to the binary files\r\n",
                "saverecord = [(\"HEAD\", \"ALL\"), (\"BUDGET\", \"ALL\")]\r\n",
                "# which outputs are printed in the list file\r\n",
                "printrecord = [(\"HEAD\", \"LAST\")]\r\n",
                "oc = flopy.mf6.ModflowGwfoc(gwf,\r\n",
                "                            saverecord=saverecord,\r\n",
                "                            head_filerecord=head_filerecord,\r\n",
                "                            budget_filerecord=budget_filerecord,\r\n",
                "                            printrecord=printrecord)"
            ],
            "outputs": [],
            "metadata": {}
        },
        {
            "cell_type": "markdown",
            "source": [
                "## Accessing Scalar Data\r\n",
                "\r\n",
                "When we constructed the NPF pacakge, we set the option to \"save_specific_discharge\" by assigning a True value. In the next steps we will view the option and then change it to False."
            ],
            "metadata": {}
        },
        {
            "cell_type": "code",
            "execution_count": 3,
            "source": [
                "# to view the option in the package simply acces it using the npf package's attribute with the same name.\r\n",
                "npf.save_specific_discharge.get_data()"
            ],
            "outputs": [
                {
                    "output_type": "execute_result",
                    "data": {
                        "text/plain": [
                            "True"
                        ]
                    },
                    "metadata": {},
                    "execution_count": 3
                }
            ],
            "metadata": {}
        },
        {
            "cell_type": "markdown",
            "source": [
                "## Editting Scalar Data"
            ],
            "metadata": {}
        },
        {
            "cell_type": "code",
            "execution_count": 4,
            "source": [
                "# To change the scalar data value simply\r\n",
                "npf.save_specific_discharge = False\r\n",
                "\r\n",
                "# and then check it again\r\n",
                "npf.save_specific_discharge.get_data()"
            ],
            "outputs": [
                {
                    "output_type": "execute_result",
                    "data": {
                        "text/plain": [
                            "False"
                        ]
                    },
                    "metadata": {},
                    "execution_count": 4
                }
            ],
            "metadata": {}
        },
        {
            "cell_type": "code",
            "execution_count": 5,
            "source": [
                "# the same applies for single string or integer scalar data\r\n",
                "ims.complexity.get_data()"
            ],
            "outputs": [
                {
                    "output_type": "execute_result",
                    "data": {
                        "text/plain": [
                            "'simple'"
                        ]
                    },
                    "metadata": {},
                    "execution_count": 5
                }
            ],
            "metadata": {}
        },
        {
            "cell_type": "code",
            "execution_count": 6,
            "source": [
                "# alter the IMS solver settings\r\n",
                "ims.complexity = 'moderate'\r\n",
                "\r\n",
                "ims.complexity.get_data()"
            ],
            "outputs": [
                {
                    "output_type": "execute_result",
                    "data": {
                        "text/plain": [
                            "'moderate'"
                        ]
                    },
                    "metadata": {},
                    "execution_count": 6
                }
            ],
            "metadata": {}
        },
        {
            "cell_type": "markdown",
            "source": [
                "## Write the model files \r\n",
                "Write the model files. You can compare them to those in the exercise 01 folder to see how they have changed."
            ],
            "metadata": {}
        },
        {
            "cell_type": "code",
            "execution_count": 7,
            "source": [
                "sim.write_simulation()"
            ],
            "outputs": [
                {
                    "output_type": "stream",
                    "name": "stdout",
                    "text": [
                        "writing simulation...\n",
                        "  writing simulation name file...\n",
                        "  writing simulation tdis package...\n",
                        "  writing ims package ims...\n",
                        "  writing model symp03...\n",
                        "    writing model name file...\n",
                        "    writing package dis...\n",
                        "    writing package ic...\n",
                        "    writing package npf...\n",
                        "    writing package rch...\n",
                        "    writing package riv_0...\n",
                        "INFORMATION: maxbound in ('gwf6', 'riv', 'dimensions') changed to 10 based on size of stress_period_data\n",
                        "    writing package oc...\n"
                    ]
                }
            ],
            "metadata": {}
        }
    ],
    "metadata": {
        "orig_nbformat": 4,
        "language_info": {
            "name": "python",
            "version": "3.9.6",
            "mimetype": "text/x-python",
            "codemirror_mode": {
                "name": "ipython",
                "version": 3
            },
            "pygments_lexer": "ipython3",
            "nbconvert_exporter": "python",
            "file_extension": ".py"
        },
        "kernelspec": {
            "name": "python3",
            "display_name": "Python 3.8.10 64-bit ('symple': conda)"
        },
        "interpreter": {
            "hash": "227dbd2fab8825bf983f485131159c82d0301ad97e15b736ca5b3747747c9c56"
        }
    },
    "nbformat": 4,
    "nbformat_minor": 2
}