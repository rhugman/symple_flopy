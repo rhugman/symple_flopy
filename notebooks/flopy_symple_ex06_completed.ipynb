{
    "cells": [
        {
            "cell_type": "markdown",
            "source": [
                "# Introduction\r\n",
                "\r\n",
                "This exercise addresses how to deal with the MODFLOW 6 Observation (OBS) Utility. The OBS utility provides options for extracting numeric values of interest generated during a model run (i.e. \"observations\").\r\n",
                "\r\n",
                "Observations are output at the end of each time-step and represent the value used by MODFLOW 6 during the time-step. Types of available observations are listed in the MODFLOW6 manual. Commonly used observations are heads, concentrations (for mass transport models) and flows through boundary conditions.\r\n",
                "\r\n",
                "The OBS utility can record outputs to either text or binary files. Text files are written in CSV format, making them easy to access using common spredsheet software or libraries (i.e. Pandas or Numpy).\r\n",
                "\r\n",
                "In this exercise we will:\r\n",
                " - configure observations of flow through the RIV boundary condition\r\n",
                " - define observations of heads at specified locations in the model\r\n",
                " - run the model and access simulated observation data using the .output method"
            ],
            "metadata": {}
        },
        {
            "cell_type": "code",
            "execution_count": 18,
            "source": [
                "# Import necessary libraries\r\n",
                "# for the purposes of this course we are using frozen versions of flopy to avoid depenecy failures.  \r\n",
                "import os \r\n",
                "import sys\r\n",
                "sys.path.append('../dependencies/')\r\n",
                "import flopy\r\n",
                "import numpy as np\r\n",
                "import matplotlib.pyplot as plt"
            ],
            "outputs": [],
            "metadata": {}
        },
        {
            "cell_type": "markdown",
            "source": [
                "# Build a Model\r\n",
                "The following cell constructs the same model developed in exercise 1 with some modification. A few changes have been introduced:\r\n",
                "\r\n",
                " - One additional stress period is added to the TDIS package;\r\n",
                " - The new stress period is simulated under transient conditions for 365 days with 12 time-steps."
            ],
            "metadata": {}
        },
        {
            "cell_type": "code",
            "execution_count": 19,
            "source": [
                "# simulation\r\n",
                "sim_name = 'symple_ex06'\r\n",
                "exe_name = os.path.join('..','bin', 'mf6.exe')\r\n",
                "workspace = os.path.join('..','models','symple_ex06')\r\n",
                "\r\n",
                "sim = flopy.mf6.MFSimulation(sim_name=sim_name,\r\n",
                "                            exe_name=exe_name,\r\n",
                "                            version=\"mf6\", \r\n",
                "                            sim_ws=workspace)"
            ],
            "outputs": [],
            "metadata": {}
        },
        {
            "cell_type": "markdown",
            "source": [
                "Change the TDIS perioddata."
            ],
            "metadata": {}
        },
        {
            "cell_type": "code",
            "execution_count": 20,
            "source": [
                "# THis time we will add an extra stress period with a perlen=365 days and nstp=12\r\n",
                "perioddata = [(1.0, 1, 1.0), \r\n",
                "                (365, 12, 1.0)] # an additional stress period has been added\r\n",
                "\r\n",
                "# the number of periods (nper) should match the number of tuples in the perioddata list\r\n",
                "nper = len(perioddata)\r\n",
                "\r\n",
                "# tdis\r\n",
                "time_units = 'days'\r\n",
                "tdis = flopy.mf6.ModflowTdis(sim, pname=\"tdis\",\r\n",
                "                                  nper=nper, \r\n",
                "                                  perioddata=perioddata, \r\n",
                "                                  time_units=time_units)"
            ],
            "outputs": [],
            "metadata": {}
        },
        {
            "cell_type": "markdown",
            "source": [
                "With the exception of the RIV, WEL and STO packages, the rest remains the same for now. \r\n",
                "Because we are adding a transient stress period we also need to include the storage (STO) package.\r\n",
                "We also add the WEL package, with two wells pumping during the transient stress peroid. This is so that we see some change in our observations. Otherwise it would be boring.\r\n"
            ],
            "metadata": {}
        },
        {
            "cell_type": "code",
            "execution_count": 21,
            "source": [
                "# model\r\n",
                "model_name = 'symp06'\r\n",
                "gwf = flopy.mf6.ModflowGwf(sim,\r\n",
                "                            modelname=model_name,\r\n",
                "                            save_flows=True, print_flows=True)\r\n",
                "# ims pacakge\r\n",
                "ims = flopy.mf6.ModflowIms(sim,\r\n",
                "                            pname=\"ims\",\r\n",
                "                            complexity=\"SIMPLE\",\r\n",
                "                            linear_acceleration=\"BICGSTAB\",)\r\n",
                "sim.register_ims_package(ims, [gwf.name])\r\n",
                "\r\n",
                "# dis package\r\n",
                "length_units = \"METERS\"\r\n",
                "nlay = 3\r\n",
                "Lx = 1000\r\n",
                "Ly = 1500\r\n",
                "delr = 100 #row length\r\n",
                "delc = 100 #column length\r\n",
                "ncol = int(Lx/delc)\r\n",
                "nrow = int(Ly/delr)\r\n",
                "top = 50\r\n",
                "botm = [40, 35, 0]\r\n",
                "\r\n",
                "dis = flopy.mf6.ModflowGwfdis(\r\n",
                "                            gwf,\r\n",
                "                            nlay=nlay,\r\n",
                "                            nrow=nrow,\r\n",
                "                            ncol=ncol,\r\n",
                "                            delr=delr,\r\n",
                "                            delc=delc,\r\n",
                "                            top=top,\r\n",
                "                            botm=botm)\r\n",
                "\r\n",
                "# IC package\r\n",
                "strt = np.full((nlay, nrow, ncol), top)\r\n",
                "ic = flopy.mf6.ModflowGwfic(gwf, pname=\"ic\", strt=strt)\r\n",
                "\r\n",
                "# NPF package\r\n",
                "k = [5, 0.1, 10]\r\n",
                "icelltype = [1, 0, 0]\r\n",
                "\r\n",
                "npf = flopy.mf6.ModflowGwfnpf(gwf, icelltype=icelltype, k=k,\r\n",
                "                              save_flows=True, \r\n",
                "                              save_specific_discharge=True)\r\n",
                "\r\n",
                "# RCH package\r\n",
                "recharge = 50/1000/365\r\n",
                "rcha = flopy.mf6.ModflowGwfrcha(gwf, pname='rch', recharge=recharge)\r\n",
                "\r\n",
                "# construct the WEL package\r\n",
                "wel_spd = {\r\n",
                "            0:[],\r\n",
                "            1:[((2, 5, 3), -100), ((2, 10, 6), -50)]\r\n",
                "            }\r\n",
                "wel = flopy.mf6.ModflowGwfwel(gwf, stress_period_data=wel_spd,\r\n",
                "                                    print_input=True, \r\n",
                "                                    print_flows=True,\r\n",
                "                                    save_flows=True)\r\n",
                "\r\n",
                "\r\n",
                "# OC package\r\n",
                "# the name of the binary head file\r\n",
                "headfile = f\"{gwf.name}.hds\"\r\n",
                "head_filerecord = [headfile]\r\n",
                "# the name of the binary budget file\r\n",
                "budgetfile = f\"{gwf.name}.cbb\"\r\n",
                "budget_filerecord = [budgetfile]\r\n",
                "\r\n",
                "# which outputs are crecored to the binary files\r\n",
                "saverecord = [(\"HEAD\", \"ALL\"), (\"BUDGET\", \"ALL\")]\r\n",
                "# which outputs are printed in the list file\r\n",
                "printrecord = [(\"HEAD\", \"LAST\")]\r\n",
                "oc = flopy.mf6.ModflowGwfoc(gwf,\r\n",
                "                            saverecord=saverecord,\r\n",
                "                            head_filerecord=head_filerecord,\r\n",
                "                            budget_filerecord=budget_filerecord,\r\n",
                "                            printrecord=printrecord)"
            ],
            "outputs": [],
            "metadata": {}
        },
        {
            "cell_type": "markdown",
            "source": [
                "## **Adding the STO package**\r\n",
                "\r\n",
                "We will take the oportunity to introduce how to specify transient stress periods with the STO package. For this exercise we will simulate the frst stress period as steady state, followed by a transient stress period. \r\n",
                "\r\n",
                "These are defined using the \"steady_state\" and \"transient\" arguments when constructing the STO packge. These arguments take a list or dictionary of booleans (True/False). If a dictionary is passed, the dictionary keys refer to the stress period number (zero-based). Either steadystate or transient conditions will apply until a subsequent stress period is specified as bineg of the other type."
            ],
            "metadata": {}
        },
        {
            "cell_type": "code",
            "execution_count": 22,
            "source": [
                "ss = nlay * [1e-5]\r\n",
                "sy = nlay * [0.2]\r\n",
                "\r\n",
                "sto = flopy.mf6.ModflowGwfsto(gwf,\r\n",
                "                                steady_state={0:True}, \r\n",
                "                                transient={1:True},\r\n",
                "                                iconvert = [1, 0, 0],\r\n",
                "                                ss=ss, \r\n",
                "                                sy=sy,\r\n",
                "                                save_flows=True)"
            ],
            "outputs": [],
            "metadata": {}
        },
        {
            "cell_type": "markdown",
            "source": [
                "## **Adding Observations to a Stress Package**\r\n",
                "\r\n",
                "Observations can be set for any package using the package.obs object (for example: riv.obs). \r\n",
                "\r\n",
                "Observations can be specifed on a cell-by-cell basis or for groups of cells using \"boundnames\" when specifying list data. For things such as boundary conditions, the latter is likley to be a more common use case (i.e. you are morel likley to want to record the flow through all RIV cells rather than for each individual cell). \r\n",
                "\r\n",
                "Each observation also represents a unique column of data recorded in the output CSV file. So if you are monitoring every cell, such a file can get very large very quickly. Writting the file also slows down model run-times. \r\n",
                "\r\n",
                "We will go through both options in this exercise."
            ],
            "metadata": {}
        },
        {
            "cell_type": "code",
            "execution_count": 23,
            "source": [
                "# Start by specifying the same inputs as in previous exercises\r\n",
                "# RIV package\r\n",
                "riv_row = 7\r\n",
                "stage = top - 5\r\n",
                "rbot = botm[0]\r\n",
                "cond = 0.1 * delr*delc/1\r\n",
                "\r\n",
                "# Now, when specifyin the list data a new value \"river_bc\" is added to the tuple. This is a string defining the \"boundname\". \r\n",
                "# Think of it as a tag for all the cells which make up this river boundary condition.\r\n",
                "riv_spd = []\r\n",
                "for col in range(ncol):\r\n",
                "    riv_spd.append(((0, riv_row, col), stage, cond, rbot, 'river_bc'))\r\n",
                "\r\n",
                "\r\n",
                "# note that to use boundamens, the \"boundnames\" argument in the riv package is set to True.\r\n",
                "riv = flopy.mf6.ModflowGwfriv(gwf,\r\n",
                "                                stress_period_data=riv_spd,\r\n",
                "                                boundnames=True)"
            ],
            "outputs": [],
            "metadata": {}
        },
        {
            "cell_type": "markdown",
            "source": [
                "The next step is to build the observation data dictionary. The dictionary key is the filename of the output file. We shall record our observations to the file \"riv_obs.csv\". The dictionary value is a list of tuples with the contents of the OBS package's continuous block (see MF6 manual). Each tuple in the list is comprised of (the output file column header, the observation type, the boundname or cellid).\r\n",
                "\r\n",
                "We will record RIV obsservations assocaited to the \"river_bc\" boundname to \"riv_obs.csv\". We will add an additional observation to the same output file for a RIV observations at a single cell. Then we will add a second output file (\"riv_obs2.csv\") with observations from another cell."
            ],
            "metadata": {}
        },
        {
            "cell_type": "code",
            "execution_count": 24,
            "source": [
                "# build the observation data dictionary\r\n",
                "riv_obs = {\r\n",
                "            \"riv_obs.csv\": [(\"river\", \"RIV\", \"river_bc\"), (\"riv_7_9\", \"RIV\", (0, 7, 9))],\r\n",
                "            \"riv_obs2.csv\": [(\"riv_7_0\", \"RIV\", (0, 7, 0))]\r\n",
                "            }"
            ],
            "outputs": [],
            "metadata": {}
        },
        {
            "cell_type": "code",
            "execution_count": 25,
            "source": [
                "# we can then initialize the observations\r\n",
                "riv.obs.initialize(digits=10, \r\n",
                "                    print_input=False,\r\n",
                "                    continuous=riv_obs)"
            ],
            "outputs": [],
            "metadata": {}
        },
        {
            "cell_type": "markdown",
            "source": [
                "## **Adding Observations of State Variables**\r\n",
                "\r\n",
                "Model outputs of heads, concentrations and flows between cells are not associated to any specific package. These are assigned in the same manner, but using *flopy.mf6.ModflowUtlobs()* for the OBS Utility.\r\n",
                "\r\n",
                "In the example below we will specify observations at two cells, one in each layer. We will record both head and drawdown."
            ],
            "metadata": {}
        },
        {
            "cell_type": "code",
            "execution_count": 26,
            "source": [
                "# as before, first we construct the observation data dictionary and lists\r\n",
                "hd_obs_list = [\r\n",
                "                ('h_0_7_4', 'HEAD', (0, 7, 4)), # head in the upper aquifer\r\n",
                "                ('h_2_7_4', 'HEAD', (2, 7, 4)), # head in the lower aquifer\r\n",
                "                ]\r\n",
                "\r\n",
                "dd_obs_list = [\r\n",
                "                ('dd_0_7_4', 'DRAWDOWN', (0, 7, 4)), # drawdown in the upper aquifer\r\n",
                "                ('dd_2_7_4', 'DRAWDOWN', (2, 7, 4)), # drawdown in the lower aquifer\r\n",
                "                ]\r\n",
                "\r\n",
                "\r\n",
                "obs_data = {\r\n",
                "            'head_obs.csv':hd_obs_list,\r\n",
                "            'drawdown_obs.csv':dd_obs_list,\r\n",
                "            }"
            ],
            "outputs": [],
            "metadata": {}
        },
        {
            "cell_type": "code",
            "execution_count": 27,
            "source": [
                "# then we initialize the OBS utility pacakge\r\n",
                "# initialize obs package\r\n",
                "obs_package = flopy.mf6.ModflowUtlobs(gwf, \r\n",
                "                                      digits=10, \r\n",
                "                                      print_input=False,\r\n",
                "                                      continuous=obs_data)"
            ],
            "outputs": [],
            "metadata": {}
        },
        {
            "cell_type": "markdown",
            "source": [
                "## **Write the Model Files and Run**\r\n",
                "Write the model files. You can compare them to those in the exercise 01 folder to see how they have changed."
            ],
            "metadata": {}
        },
        {
            "cell_type": "code",
            "execution_count": 28,
            "source": [
                "sim.write_simulation()\r\n",
                "sim.run_simulation()"
            ],
            "outputs": [
                {
                    "output_type": "stream",
                    "name": "stdout",
                    "text": [
                        "writing simulation...\n",
                        "  writing simulation name file...\n",
                        "  writing simulation tdis package...\n",
                        "  writing ims package ims...\n",
                        "  writing model symp06...\n",
                        "    writing model name file...\n",
                        "    writing package dis...\n",
                        "    writing package ic...\n",
                        "    writing package npf...\n",
                        "    writing package rch...\n",
                        "    writing package wel_0...\n",
                        "INFORMATION: maxbound in ('gwf6', 'wel', 'dimensions') changed to 2 based on size of stress_period_data\n",
                        "    writing package oc...\n",
                        "    writing package sto...\n",
                        "    writing package riv_0...\n",
                        "INFORMATION: maxbound in ('gwf6', 'riv', 'dimensions') changed to 10 based on size of stress_period_data\n",
                        "    writing package obs_0...\n",
                        "    writing package obs_1...\n",
                        "FloPy is using the following  executable to run the model: ..\\bin\\mf6.exe\n",
                        "                                   MODFLOW 6\n",
                        "                U.S. GEOLOGICAL SURVEY MODULAR HYDROLOGIC MODEL\n",
                        "                            VERSION 6.2.1 02/18/2021\n",
                        "\n",
                        "   MODFLOW 6 compiled Feb 18 2021 08:24:05 with IFORT compiler (ver. 19.10.2)\n",
                        "\n",
                        "This software has been approved for release by the U.S. Geological \n",
                        "Survey (USGS). Although the software has been subjected to rigorous \n",
                        "review, the USGS reserves the right to update the software as needed \n",
                        "pursuant to further analysis and review. No warranty, expressed or \n",
                        "implied, is made by the USGS or the U.S. Government as to the \n",
                        "functionality of the software and related material nor shall the \n",
                        "fact of release constitute any such warranty. Furthermore, the \n",
                        "software is released on condition that neither the USGS nor the U.S. \n",
                        "Government shall be held liable for any damages resulting from its \n",
                        "authorized or unauthorized use. Also refer to the USGS Water \n",
                        "Resources Software User Rights Notice for complete use, copyright, \n",
                        "and distribution information.\n",
                        "\n",
                        " \n",
                        " Run start date and time (yyyy/mm/dd hh:mm:ss): 2021/08/26 14:19:59\n",
                        " \n",
                        " Writing simulation list file: mfsim.lst\n",
                        " Using Simulation name file: mfsim.nam\n",
                        " \n",
                        "    Solving:  Stress period:     1    Time step:     1\n",
                        "    Solving:  Stress period:     2    Time step:     1\n",
                        "    Solving:  Stress period:     2    Time step:     2\n",
                        "    Solving:  Stress period:     2    Time step:     3\n",
                        "    Solving:  Stress period:     2    Time step:     4\n",
                        "    Solving:  Stress period:     2    Time step:     5\n",
                        "    Solving:  Stress period:     2    Time step:     6\n",
                        "    Solving:  Stress period:     2    Time step:     7\n",
                        "    Solving:  Stress period:     2    Time step:     8\n",
                        "    Solving:  Stress period:     2    Time step:     9\n",
                        "    Solving:  Stress period:     2    Time step:    10\n",
                        "    Solving:  Stress period:     2    Time step:    11\n",
                        "    Solving:  Stress period:     2    Time step:    12\n",
                        " \n",
                        " Run end date and time (yyyy/mm/dd hh:mm:ss): 2021/08/26 14:19:59\n",
                        " Elapsed run time:  0.152 Seconds\n",
                        " \n",
                        " Normal termination of simulation.\n"
                    ]
                },
                {
                    "output_type": "execute_result",
                    "data": {
                        "text/plain": [
                            "(True, [])"
                        ]
                    },
                    "metadata": {},
                    "execution_count": 28
                }
            ],
            "metadata": {}
        },
        {
            "cell_type": "markdown",
            "source": [
                "# **Access Output Observations**\r\n",
                "\r\n",
                "Model outputs have been written to CSV's in the model workspace folder. These can be accessed as you would any CSV file. \r\n",
                "\r\n",
                "Alternatively you can use FloPy's .output method as shown below."
            ],
            "metadata": {}
        },
        {
            "cell_type": "code",
            "execution_count": 29,
            "source": [
                "# check how many obs pacakges are in the model\r\n",
                "print(f'Number of obs packages: {len(gwf.obs)}')"
            ],
            "outputs": [
                {
                    "output_type": "stream",
                    "name": "stdout",
                    "text": [
                        "Number of obs packages: 2\n"
                    ]
                }
            ],
            "metadata": {}
        },
        {
            "cell_type": "code",
            "execution_count": 30,
            "source": [
                "# access a list of observation ouput file names of the firs OBS package\r\n",
                "gwf.obs[0].output.obs_names"
            ],
            "outputs": [
                {
                    "output_type": "execute_result",
                    "data": {
                        "text/plain": [
                            "['riv_obs.csv', 'riv_obs2.csv']"
                        ]
                    },
                    "metadata": {},
                    "execution_count": 30
                }
            ],
            "metadata": {}
        },
        {
            "cell_type": "code",
            "execution_count": 31,
            "source": [
                "# access a list of observation ouput file names of the second OBS package\r\n",
                "gwf.obs[1].output.obs_names"
            ],
            "outputs": [
                {
                    "output_type": "execute_result",
                    "data": {
                        "text/plain": [
                            "['head_obs.csv', 'drawdown_obs.csv']"
                        ]
                    },
                    "metadata": {},
                    "execution_count": 31
                }
            ],
            "metadata": {}
        },
        {
            "cell_type": "code",
            "execution_count": 32,
            "source": [
                "# load the output obsevration csv by referencing the file name\r\n",
                "riv_obs_csv = gwf.obs[0].output.obs(f='riv_obs.csv')\r\n",
                "\r\n",
                "# access a recarray of the observation data with\r\n",
                "riv_obs_csv.data"
            ],
            "outputs": [
                {
                    "output_type": "execute_result",
                    "data": {
                        "text/plain": [
                            "rec.array([(  1.        , -205.5162359 , -20.55064817),\n",
                            "           ( 31.41666667, -175.5626117 , -19.03731715),\n",
                            "           ( 61.83333333, -158.1785763 , -17.76890749),\n",
                            "           ( 92.25      , -145.0744799 , -16.66133965),\n",
                            "           (122.66666667, -134.4598181 , -15.69454821),\n",
                            "           (153.08333333, -125.5059045 , -14.8458321 ),\n",
                            "           (183.5       , -117.7677195 , -14.09621838),\n",
                            "           (213.91666667, -110.9832541 , -13.43094113),\n",
                            "           (244.33333333, -104.9861642 , -12.83869259),\n",
                            "           (274.75      ,  -99.66088497, -12.31052518),\n",
                            "           (305.16666667,  -94.92024738, -11.8390684 ),\n",
                            "           (335.58333333,  -90.69420584, -11.41804706),\n",
                            "           (366.        ,  -86.92400923, -11.04199775)],\n",
                            "          dtype=[('totim', '<f8'), ('RIVER', '<f8'), ('RIV_7_9', '<f8')])"
                        ]
                    },
                    "metadata": {},
                    "execution_count": 32
                }
            ],
            "metadata": {}
        },
        {
            "cell_type": "code",
            "execution_count": 33,
            "source": [
                "# you can then manipulate or plot that data as desired. Personaly I find Pandas dataframes easier to handle\r\n",
                "import pandas  as pd\r\n",
                "obs_df = pd.DataFrame(riv_obs_csv.data)\r\n",
                "\r\n",
                "obs_df.head()"
            ],
            "outputs": [
                {
                    "output_type": "execute_result",
                    "data": {
                        "text/plain": [
                            "        totim       RIVER    RIV_7_9\n",
                            "0    1.000000 -205.516236 -20.550648\n",
                            "1   31.416667 -175.562612 -19.037317\n",
                            "2   61.833333 -158.178576 -17.768907\n",
                            "3   92.250000 -145.074480 -16.661340\n",
                            "4  122.666667 -134.459818 -15.694548"
                        ],
                        "text/html": [
                            "<div>\n",
                            "<style scoped>\n",
                            "    .dataframe tbody tr th:only-of-type {\n",
                            "        vertical-align: middle;\n",
                            "    }\n",
                            "\n",
                            "    .dataframe tbody tr th {\n",
                            "        vertical-align: top;\n",
                            "    }\n",
                            "\n",
                            "    .dataframe thead th {\n",
                            "        text-align: right;\n",
                            "    }\n",
                            "</style>\n",
                            "<table border=\"1\" class=\"dataframe\">\n",
                            "  <thead>\n",
                            "    <tr style=\"text-align: right;\">\n",
                            "      <th></th>\n",
                            "      <th>totim</th>\n",
                            "      <th>RIVER</th>\n",
                            "      <th>RIV_7_9</th>\n",
                            "    </tr>\n",
                            "  </thead>\n",
                            "  <tbody>\n",
                            "    <tr>\n",
                            "      <th>0</th>\n",
                            "      <td>1.000000</td>\n",
                            "      <td>-205.516236</td>\n",
                            "      <td>-20.550648</td>\n",
                            "    </tr>\n",
                            "    <tr>\n",
                            "      <th>1</th>\n",
                            "      <td>31.416667</td>\n",
                            "      <td>-175.562612</td>\n",
                            "      <td>-19.037317</td>\n",
                            "    </tr>\n",
                            "    <tr>\n",
                            "      <th>2</th>\n",
                            "      <td>61.833333</td>\n",
                            "      <td>-158.178576</td>\n",
                            "      <td>-17.768907</td>\n",
                            "    </tr>\n",
                            "    <tr>\n",
                            "      <th>3</th>\n",
                            "      <td>92.250000</td>\n",
                            "      <td>-145.074480</td>\n",
                            "      <td>-16.661340</td>\n",
                            "    </tr>\n",
                            "    <tr>\n",
                            "      <th>4</th>\n",
                            "      <td>122.666667</td>\n",
                            "      <td>-134.459818</td>\n",
                            "      <td>-15.694548</td>\n",
                            "    </tr>\n",
                            "  </tbody>\n",
                            "</table>\n",
                            "</div>"
                        ]
                    },
                    "metadata": {},
                    "execution_count": 33
                }
            ],
            "metadata": {}
        },
        {
            "cell_type": "code",
            "execution_count": 34,
            "source": [
                "# a quick and dirty plot\r\n",
                "obs_df.plot(x='totim')"
            ],
            "outputs": [
                {
                    "output_type": "execute_result",
                    "data": {
                        "text/plain": [
                            "<AxesSubplot:xlabel='totim'>"
                        ]
                    },
                    "metadata": {},
                    "execution_count": 34
                },
                {
                    "output_type": "display_data",
                    "data": {
                        "text/plain": [
                            "<Figure size 432x288 with 1 Axes>"
                        ],
                        "image/svg+xml": "<?xml version=\"1.0\" encoding=\"utf-8\" standalone=\"no\"?>\r\n<!DOCTYPE svg PUBLIC \"-//W3C//DTD SVG 1.1//EN\"\r\n  \"http://www.w3.org/Graphics/SVG/1.1/DTD/svg11.dtd\">\r\n<svg height=\"262.19625pt\" version=\"1.1\" viewBox=\"0 0 383.667187 262.19625\" width=\"383.667187pt\" xmlns=\"http://www.w3.org/2000/svg\" xmlns:xlink=\"http://www.w3.org/1999/xlink\">\r\n <metadata>\r\n  <rdf:RDF xmlns:cc=\"http://creativecommons.org/ns#\" xmlns:dc=\"http://purl.org/dc/elements/1.1/\" xmlns:rdf=\"http://www.w3.org/1999/02/22-rdf-syntax-ns#\">\r\n   <cc:Work>\r\n    <dc:type rdf:resource=\"http://purl.org/dc/dcmitype/StillImage\"/>\r\n    <dc:date>2021-08-26T14:20:00.278851</dc:date>\r\n    <dc:format>image/svg+xml</dc:format>\r\n    <dc:creator>\r\n     <cc:Agent>\r\n      <dc:title>Matplotlib v3.4.3, https://matplotlib.org/</dc:title>\r\n     </cc:Agent>\r\n    </dc:creator>\r\n   </cc:Work>\r\n  </rdf:RDF>\r\n </metadata>\r\n <defs>\r\n  <style type=\"text/css\">*{stroke-linecap:butt;stroke-linejoin:round;}</style>\r\n </defs>\r\n <g id=\"figure_1\">\r\n  <g id=\"patch_1\">\r\n   <path d=\"M 0 262.19625 \r\nL 383.667187 262.19625 \r\nL 383.667187 0 \r\nL 0 0 \r\nz\r\n\" style=\"fill:none;\"/>\r\n  </g>\r\n  <g id=\"axes_1\">\r\n   <g id=\"patch_2\">\r\n    <path d=\"M 41.667188 224.64 \r\nL 376.467188 224.64 \r\nL 376.467188 7.2 \r\nL 41.667188 7.2 \r\nz\r\n\" style=\"fill:#ffffff;\"/>\r\n   </g>\r\n   <g id=\"matplotlib.axis_1\">\r\n    <g id=\"xtick_1\">\r\n     <g id=\"line2d_1\">\r\n      <defs>\r\n       <path d=\"M 0 0 \r\nL 0 3.5 \r\n\" id=\"me230cab994\" style=\"stroke:#000000;stroke-width:0.8;\"/>\r\n      </defs>\r\n      <g>\r\n       <use style=\"stroke:#000000;stroke-width:0.8;\" x=\"56.051496\" xlink:href=\"#me230cab994\" y=\"224.64\"/>\r\n      </g>\r\n     </g>\r\n     <g id=\"text_1\">\r\n      <!-- 0 -->\r\n      <g transform=\"translate(52.870246 239.238437)scale(0.1 -0.1)\">\r\n       <defs>\r\n        <path d=\"M 2034 4250 \r\nQ 1547 4250 1301 3770 \r\nQ 1056 3291 1056 2328 \r\nQ 1056 1369 1301 889 \r\nQ 1547 409 2034 409 \r\nQ 2525 409 2770 889 \r\nQ 3016 1369 3016 2328 \r\nQ 3016 3291 2770 3770 \r\nQ 2525 4250 2034 4250 \r\nz\r\nM 2034 4750 \r\nQ 2819 4750 3233 4129 \r\nQ 3647 3509 3647 2328 \r\nQ 3647 1150 3233 529 \r\nQ 2819 -91 2034 -91 \r\nQ 1250 -91 836 529 \r\nQ 422 1150 422 2328 \r\nQ 422 3509 836 4129 \r\nQ 1250 4750 2034 4750 \r\nz\r\n\" id=\"DejaVuSans-30\" transform=\"scale(0.015625)\"/>\r\n       </defs>\r\n       <use xlink:href=\"#DejaVuSans-30\"/>\r\n      </g>\r\n     </g>\r\n    </g>\r\n    <g id=\"xtick_2\">\r\n     <g id=\"line2d_2\">\r\n      <g>\r\n       <use style=\"stroke:#000000;stroke-width:0.8;\" x=\"97.745145\" xlink:href=\"#me230cab994\" y=\"224.64\"/>\r\n      </g>\r\n     </g>\r\n     <g id=\"text_2\">\r\n      <!-- 50 -->\r\n      <g transform=\"translate(91.382645 239.238437)scale(0.1 -0.1)\">\r\n       <defs>\r\n        <path d=\"M 691 4666 \r\nL 3169 4666 \r\nL 3169 4134 \r\nL 1269 4134 \r\nL 1269 2991 \r\nQ 1406 3038 1543 3061 \r\nQ 1681 3084 1819 3084 \r\nQ 2600 3084 3056 2656 \r\nQ 3513 2228 3513 1497 \r\nQ 3513 744 3044 326 \r\nQ 2575 -91 1722 -91 \r\nQ 1428 -91 1123 -41 \r\nQ 819 9 494 109 \r\nL 494 744 \r\nQ 775 591 1075 516 \r\nQ 1375 441 1709 441 \r\nQ 2250 441 2565 725 \r\nQ 2881 1009 2881 1497 \r\nQ 2881 1984 2565 2268 \r\nQ 2250 2553 1709 2553 \r\nQ 1456 2553 1204 2497 \r\nQ 953 2441 691 2322 \r\nL 691 4666 \r\nz\r\n\" id=\"DejaVuSans-35\" transform=\"scale(0.015625)\"/>\r\n       </defs>\r\n       <use xlink:href=\"#DejaVuSans-35\"/>\r\n       <use x=\"63.623047\" xlink:href=\"#DejaVuSans-30\"/>\r\n      </g>\r\n     </g>\r\n    </g>\r\n    <g id=\"xtick_3\">\r\n     <g id=\"line2d_3\">\r\n      <g>\r\n       <use style=\"stroke:#000000;stroke-width:0.8;\" x=\"139.438794\" xlink:href=\"#me230cab994\" y=\"224.64\"/>\r\n      </g>\r\n     </g>\r\n     <g id=\"text_3\">\r\n      <!-- 100 -->\r\n      <g transform=\"translate(129.895044 239.238437)scale(0.1 -0.1)\">\r\n       <defs>\r\n        <path d=\"M 794 531 \r\nL 1825 531 \r\nL 1825 4091 \r\nL 703 3866 \r\nL 703 4441 \r\nL 1819 4666 \r\nL 2450 4666 \r\nL 2450 531 \r\nL 3481 531 \r\nL 3481 0 \r\nL 794 0 \r\nL 794 531 \r\nz\r\n\" id=\"DejaVuSans-31\" transform=\"scale(0.015625)\"/>\r\n       </defs>\r\n       <use xlink:href=\"#DejaVuSans-31\"/>\r\n       <use x=\"63.623047\" xlink:href=\"#DejaVuSans-30\"/>\r\n       <use x=\"127.246094\" xlink:href=\"#DejaVuSans-30\"/>\r\n      </g>\r\n     </g>\r\n    </g>\r\n    <g id=\"xtick_4\">\r\n     <g id=\"line2d_4\">\r\n      <g>\r\n       <use style=\"stroke:#000000;stroke-width:0.8;\" x=\"181.132443\" xlink:href=\"#me230cab994\" y=\"224.64\"/>\r\n      </g>\r\n     </g>\r\n     <g id=\"text_4\">\r\n      <!-- 150 -->\r\n      <g transform=\"translate(171.588693 239.238437)scale(0.1 -0.1)\">\r\n       <use xlink:href=\"#DejaVuSans-31\"/>\r\n       <use x=\"63.623047\" xlink:href=\"#DejaVuSans-35\"/>\r\n       <use x=\"127.246094\" xlink:href=\"#DejaVuSans-30\"/>\r\n      </g>\r\n     </g>\r\n    </g>\r\n    <g id=\"xtick_5\">\r\n     <g id=\"line2d_5\">\r\n      <g>\r\n       <use style=\"stroke:#000000;stroke-width:0.8;\" x=\"222.826092\" xlink:href=\"#me230cab994\" y=\"224.64\"/>\r\n      </g>\r\n     </g>\r\n     <g id=\"text_5\">\r\n      <!-- 200 -->\r\n      <g transform=\"translate(213.282342 239.238437)scale(0.1 -0.1)\">\r\n       <defs>\r\n        <path d=\"M 1228 531 \r\nL 3431 531 \r\nL 3431 0 \r\nL 469 0 \r\nL 469 531 \r\nQ 828 903 1448 1529 \r\nQ 2069 2156 2228 2338 \r\nQ 2531 2678 2651 2914 \r\nQ 2772 3150 2772 3378 \r\nQ 2772 3750 2511 3984 \r\nQ 2250 4219 1831 4219 \r\nQ 1534 4219 1204 4116 \r\nQ 875 4013 500 3803 \r\nL 500 4441 \r\nQ 881 4594 1212 4672 \r\nQ 1544 4750 1819 4750 \r\nQ 2544 4750 2975 4387 \r\nQ 3406 4025 3406 3419 \r\nQ 3406 3131 3298 2873 \r\nQ 3191 2616 2906 2266 \r\nQ 2828 2175 2409 1742 \r\nQ 1991 1309 1228 531 \r\nz\r\n\" id=\"DejaVuSans-32\" transform=\"scale(0.015625)\"/>\r\n       </defs>\r\n       <use xlink:href=\"#DejaVuSans-32\"/>\r\n       <use x=\"63.623047\" xlink:href=\"#DejaVuSans-30\"/>\r\n       <use x=\"127.246094\" xlink:href=\"#DejaVuSans-30\"/>\r\n      </g>\r\n     </g>\r\n    </g>\r\n    <g id=\"xtick_6\">\r\n     <g id=\"line2d_6\">\r\n      <g>\r\n       <use style=\"stroke:#000000;stroke-width:0.8;\" x=\"264.51974\" xlink:href=\"#me230cab994\" y=\"224.64\"/>\r\n      </g>\r\n     </g>\r\n     <g id=\"text_6\">\r\n      <!-- 250 -->\r\n      <g transform=\"translate(254.97599 239.238437)scale(0.1 -0.1)\">\r\n       <use xlink:href=\"#DejaVuSans-32\"/>\r\n       <use x=\"63.623047\" xlink:href=\"#DejaVuSans-35\"/>\r\n       <use x=\"127.246094\" xlink:href=\"#DejaVuSans-30\"/>\r\n      </g>\r\n     </g>\r\n    </g>\r\n    <g id=\"xtick_7\">\r\n     <g id=\"line2d_7\">\r\n      <g>\r\n       <use style=\"stroke:#000000;stroke-width:0.8;\" x=\"306.213389\" xlink:href=\"#me230cab994\" y=\"224.64\"/>\r\n      </g>\r\n     </g>\r\n     <g id=\"text_7\">\r\n      <!-- 300 -->\r\n      <g transform=\"translate(296.669639 239.238437)scale(0.1 -0.1)\">\r\n       <defs>\r\n        <path d=\"M 2597 2516 \r\nQ 3050 2419 3304 2112 \r\nQ 3559 1806 3559 1356 \r\nQ 3559 666 3084 287 \r\nQ 2609 -91 1734 -91 \r\nQ 1441 -91 1130 -33 \r\nQ 819 25 488 141 \r\nL 488 750 \r\nQ 750 597 1062 519 \r\nQ 1375 441 1716 441 \r\nQ 2309 441 2620 675 \r\nQ 2931 909 2931 1356 \r\nQ 2931 1769 2642 2001 \r\nQ 2353 2234 1838 2234 \r\nL 1294 2234 \r\nL 1294 2753 \r\nL 1863 2753 \r\nQ 2328 2753 2575 2939 \r\nQ 2822 3125 2822 3475 \r\nQ 2822 3834 2567 4026 \r\nQ 2313 4219 1838 4219 \r\nQ 1578 4219 1281 4162 \r\nQ 984 4106 628 3988 \r\nL 628 4550 \r\nQ 988 4650 1302 4700 \r\nQ 1616 4750 1894 4750 \r\nQ 2613 4750 3031 4423 \r\nQ 3450 4097 3450 3541 \r\nQ 3450 3153 3228 2886 \r\nQ 3006 2619 2597 2516 \r\nz\r\n\" id=\"DejaVuSans-33\" transform=\"scale(0.015625)\"/>\r\n       </defs>\r\n       <use xlink:href=\"#DejaVuSans-33\"/>\r\n       <use x=\"63.623047\" xlink:href=\"#DejaVuSans-30\"/>\r\n       <use x=\"127.246094\" xlink:href=\"#DejaVuSans-30\"/>\r\n      </g>\r\n     </g>\r\n    </g>\r\n    <g id=\"xtick_8\">\r\n     <g id=\"line2d_8\">\r\n      <g>\r\n       <use style=\"stroke:#000000;stroke-width:0.8;\" x=\"347.907038\" xlink:href=\"#me230cab994\" y=\"224.64\"/>\r\n      </g>\r\n     </g>\r\n     <g id=\"text_8\">\r\n      <!-- 350 -->\r\n      <g transform=\"translate(338.363288 239.238437)scale(0.1 -0.1)\">\r\n       <use xlink:href=\"#DejaVuSans-33\"/>\r\n       <use x=\"63.623047\" xlink:href=\"#DejaVuSans-35\"/>\r\n       <use x=\"127.246094\" xlink:href=\"#DejaVuSans-30\"/>\r\n      </g>\r\n     </g>\r\n    </g>\r\n    <g id=\"text_9\">\r\n     <!-- totim -->\r\n     <g transform=\"translate(195.828125 252.916562)scale(0.1 -0.1)\">\r\n      <defs>\r\n       <path d=\"M 1172 4494 \r\nL 1172 3500 \r\nL 2356 3500 \r\nL 2356 3053 \r\nL 1172 3053 \r\nL 1172 1153 \r\nQ 1172 725 1289 603 \r\nQ 1406 481 1766 481 \r\nL 2356 481 \r\nL 2356 0 \r\nL 1766 0 \r\nQ 1100 0 847 248 \r\nQ 594 497 594 1153 \r\nL 594 3053 \r\nL 172 3053 \r\nL 172 3500 \r\nL 594 3500 \r\nL 594 4494 \r\nL 1172 4494 \r\nz\r\n\" id=\"DejaVuSans-74\" transform=\"scale(0.015625)\"/>\r\n       <path d=\"M 1959 3097 \r\nQ 1497 3097 1228 2736 \r\nQ 959 2375 959 1747 \r\nQ 959 1119 1226 758 \r\nQ 1494 397 1959 397 \r\nQ 2419 397 2687 759 \r\nQ 2956 1122 2956 1747 \r\nQ 2956 2369 2687 2733 \r\nQ 2419 3097 1959 3097 \r\nz\r\nM 1959 3584 \r\nQ 2709 3584 3137 3096 \r\nQ 3566 2609 3566 1747 \r\nQ 3566 888 3137 398 \r\nQ 2709 -91 1959 -91 \r\nQ 1206 -91 779 398 \r\nQ 353 888 353 1747 \r\nQ 353 2609 779 3096 \r\nQ 1206 3584 1959 3584 \r\nz\r\n\" id=\"DejaVuSans-6f\" transform=\"scale(0.015625)\"/>\r\n       <path d=\"M 603 3500 \r\nL 1178 3500 \r\nL 1178 0 \r\nL 603 0 \r\nL 603 3500 \r\nz\r\nM 603 4863 \r\nL 1178 4863 \r\nL 1178 4134 \r\nL 603 4134 \r\nL 603 4863 \r\nz\r\n\" id=\"DejaVuSans-69\" transform=\"scale(0.015625)\"/>\r\n       <path d=\"M 3328 2828 \r\nQ 3544 3216 3844 3400 \r\nQ 4144 3584 4550 3584 \r\nQ 5097 3584 5394 3201 \r\nQ 5691 2819 5691 2113 \r\nL 5691 0 \r\nL 5113 0 \r\nL 5113 2094 \r\nQ 5113 2597 4934 2840 \r\nQ 4756 3084 4391 3084 \r\nQ 3944 3084 3684 2787 \r\nQ 3425 2491 3425 1978 \r\nL 3425 0 \r\nL 2847 0 \r\nL 2847 2094 \r\nQ 2847 2600 2669 2842 \r\nQ 2491 3084 2119 3084 \r\nQ 1678 3084 1418 2786 \r\nQ 1159 2488 1159 1978 \r\nL 1159 0 \r\nL 581 0 \r\nL 581 3500 \r\nL 1159 3500 \r\nL 1159 2956 \r\nQ 1356 3278 1631 3431 \r\nQ 1906 3584 2284 3584 \r\nQ 2666 3584 2933 3390 \r\nQ 3200 3197 3328 2828 \r\nz\r\n\" id=\"DejaVuSans-6d\" transform=\"scale(0.015625)\"/>\r\n      </defs>\r\n      <use xlink:href=\"#DejaVuSans-74\"/>\r\n      <use x=\"39.208984\" xlink:href=\"#DejaVuSans-6f\"/>\r\n      <use x=\"100.390625\" xlink:href=\"#DejaVuSans-74\"/>\r\n      <use x=\"139.599609\" xlink:href=\"#DejaVuSans-69\"/>\r\n      <use x=\"167.382812\" xlink:href=\"#DejaVuSans-6d\"/>\r\n     </g>\r\n    </g>\r\n   </g>\r\n   <g id=\"matplotlib.axis_2\">\r\n    <g id=\"ytick_1\">\r\n     <g id=\"line2d_9\">\r\n      <defs>\r\n       <path d=\"M 0 0 \r\nL -3.5 0 \r\n\" id=\"m746fff8f77\" style=\"stroke:#000000;stroke-width:0.8;\"/>\r\n      </defs>\r\n      <g>\r\n       <use style=\"stroke:#000000;stroke-width:0.8;\" x=\"41.667188\" xlink:href=\"#m746fff8f77\" y=\"209.149403\"/>\r\n      </g>\r\n     </g>\r\n     <g id=\"text_10\">\r\n      <!-- −200 -->\r\n      <g transform=\"translate(7.2 212.948622)scale(0.1 -0.1)\">\r\n       <defs>\r\n        <path d=\"M 678 2272 \r\nL 4684 2272 \r\nL 4684 1741 \r\nL 678 1741 \r\nL 678 2272 \r\nz\r\n\" id=\"DejaVuSans-2212\" transform=\"scale(0.015625)\"/>\r\n       </defs>\r\n       <use xlink:href=\"#DejaVuSans-2212\"/>\r\n       <use x=\"83.789062\" xlink:href=\"#DejaVuSans-32\"/>\r\n       <use x=\"147.412109\" xlink:href=\"#DejaVuSans-30\"/>\r\n       <use x=\"211.035156\" xlink:href=\"#DejaVuSans-30\"/>\r\n      </g>\r\n     </g>\r\n    </g>\r\n    <g id=\"ytick_2\">\r\n     <g id=\"line2d_10\">\r\n      <g>\r\n       <use style=\"stroke:#000000;stroke-width:0.8;\" x=\"41.667188\" xlink:href=\"#m746fff8f77\" y=\"183.738232\"/>\r\n      </g>\r\n     </g>\r\n     <g id=\"text_11\">\r\n      <!-- −175 -->\r\n      <g transform=\"translate(7.2 187.53745)scale(0.1 -0.1)\">\r\n       <defs>\r\n        <path d=\"M 525 4666 \r\nL 3525 4666 \r\nL 3525 4397 \r\nL 1831 0 \r\nL 1172 0 \r\nL 2766 4134 \r\nL 525 4134 \r\nL 525 4666 \r\nz\r\n\" id=\"DejaVuSans-37\" transform=\"scale(0.015625)\"/>\r\n       </defs>\r\n       <use xlink:href=\"#DejaVuSans-2212\"/>\r\n       <use x=\"83.789062\" xlink:href=\"#DejaVuSans-31\"/>\r\n       <use x=\"147.412109\" xlink:href=\"#DejaVuSans-37\"/>\r\n       <use x=\"211.035156\" xlink:href=\"#DejaVuSans-35\"/>\r\n      </g>\r\n     </g>\r\n    </g>\r\n    <g id=\"ytick_3\">\r\n     <g id=\"line2d_11\">\r\n      <g>\r\n       <use style=\"stroke:#000000;stroke-width:0.8;\" x=\"41.667188\" xlink:href=\"#m746fff8f77\" y=\"158.32706\"/>\r\n      </g>\r\n     </g>\r\n     <g id=\"text_12\">\r\n      <!-- −150 -->\r\n      <g transform=\"translate(7.2 162.126279)scale(0.1 -0.1)\">\r\n       <use xlink:href=\"#DejaVuSans-2212\"/>\r\n       <use x=\"83.789062\" xlink:href=\"#DejaVuSans-31\"/>\r\n       <use x=\"147.412109\" xlink:href=\"#DejaVuSans-35\"/>\r\n       <use x=\"211.035156\" xlink:href=\"#DejaVuSans-30\"/>\r\n      </g>\r\n     </g>\r\n    </g>\r\n    <g id=\"ytick_4\">\r\n     <g id=\"line2d_12\">\r\n      <g>\r\n       <use style=\"stroke:#000000;stroke-width:0.8;\" x=\"41.667188\" xlink:href=\"#m746fff8f77\" y=\"132.915889\"/>\r\n      </g>\r\n     </g>\r\n     <g id=\"text_13\">\r\n      <!-- −125 -->\r\n      <g transform=\"translate(7.2 136.715108)scale(0.1 -0.1)\">\r\n       <use xlink:href=\"#DejaVuSans-2212\"/>\r\n       <use x=\"83.789062\" xlink:href=\"#DejaVuSans-31\"/>\r\n       <use x=\"147.412109\" xlink:href=\"#DejaVuSans-32\"/>\r\n       <use x=\"211.035156\" xlink:href=\"#DejaVuSans-35\"/>\r\n      </g>\r\n     </g>\r\n    </g>\r\n    <g id=\"ytick_5\">\r\n     <g id=\"line2d_13\">\r\n      <g>\r\n       <use style=\"stroke:#000000;stroke-width:0.8;\" x=\"41.667188\" xlink:href=\"#m746fff8f77\" y=\"107.504718\"/>\r\n      </g>\r\n     </g>\r\n     <g id=\"text_14\">\r\n      <!-- −100 -->\r\n      <g transform=\"translate(7.2 111.303937)scale(0.1 -0.1)\">\r\n       <use xlink:href=\"#DejaVuSans-2212\"/>\r\n       <use x=\"83.789062\" xlink:href=\"#DejaVuSans-31\"/>\r\n       <use x=\"147.412109\" xlink:href=\"#DejaVuSans-30\"/>\r\n       <use x=\"211.035156\" xlink:href=\"#DejaVuSans-30\"/>\r\n      </g>\r\n     </g>\r\n    </g>\r\n    <g id=\"ytick_6\">\r\n     <g id=\"line2d_14\">\r\n      <g>\r\n       <use style=\"stroke:#000000;stroke-width:0.8;\" x=\"41.667188\" xlink:href=\"#m746fff8f77\" y=\"82.093546\"/>\r\n      </g>\r\n     </g>\r\n     <g id=\"text_15\">\r\n      <!-- −75 -->\r\n      <g transform=\"translate(13.5625 85.892765)scale(0.1 -0.1)\">\r\n       <use xlink:href=\"#DejaVuSans-2212\"/>\r\n       <use x=\"83.789062\" xlink:href=\"#DejaVuSans-37\"/>\r\n       <use x=\"147.412109\" xlink:href=\"#DejaVuSans-35\"/>\r\n      </g>\r\n     </g>\r\n    </g>\r\n    <g id=\"ytick_7\">\r\n     <g id=\"line2d_15\">\r\n      <g>\r\n       <use style=\"stroke:#000000;stroke-width:0.8;\" x=\"41.667188\" xlink:href=\"#m746fff8f77\" y=\"56.682375\"/>\r\n      </g>\r\n     </g>\r\n     <g id=\"text_16\">\r\n      <!-- −50 -->\r\n      <g transform=\"translate(13.5625 60.481594)scale(0.1 -0.1)\">\r\n       <use xlink:href=\"#DejaVuSans-2212\"/>\r\n       <use x=\"83.789062\" xlink:href=\"#DejaVuSans-35\"/>\r\n       <use x=\"147.412109\" xlink:href=\"#DejaVuSans-30\"/>\r\n      </g>\r\n     </g>\r\n    </g>\r\n    <g id=\"ytick_8\">\r\n     <g id=\"line2d_16\">\r\n      <g>\r\n       <use style=\"stroke:#000000;stroke-width:0.8;\" x=\"41.667188\" xlink:href=\"#m746fff8f77\" y=\"31.271204\"/>\r\n      </g>\r\n     </g>\r\n     <g id=\"text_17\">\r\n      <!-- −25 -->\r\n      <g transform=\"translate(13.5625 35.070423)scale(0.1 -0.1)\">\r\n       <use xlink:href=\"#DejaVuSans-2212\"/>\r\n       <use x=\"83.789062\" xlink:href=\"#DejaVuSans-32\"/>\r\n       <use x=\"147.412109\" xlink:href=\"#DejaVuSans-35\"/>\r\n      </g>\r\n     </g>\r\n    </g>\r\n   </g>\r\n   <g id=\"line2d_17\">\r\n    <path clip-path=\"url(#pf1f525b6b5)\" d=\"M 56.885369 214.756364 \r\nL 82.249006 184.310097 \r\nL 107.612642 166.640149 \r\nL 132.976278 153.320531 \r\nL 158.339915 142.531291 \r\nL 183.703551 133.430114 \r\nL 209.067188 125.56466 \r\nL 234.430824 118.668612 \r\nL 259.79446 112.572889 \r\nL 285.158097 107.160025 \r\nL 310.521733 102.341419 \r\nL 335.885369 98.045873 \r\nL 361.249006 94.213668 \r\n\" style=\"fill:none;stroke:#1f77b4;stroke-linecap:square;stroke-width:1.5;\"/>\r\n   </g>\r\n   <g id=\"line2d_18\">\r\n    <path clip-path=\"url(#pf1f525b6b5)\" d=\"M 56.885369 26.748674 \r\nL 82.249006 25.210454 \r\nL 107.612642 23.921183 \r\nL 132.976278 22.795399 \r\nL 158.339915 21.812707 \r\nL 183.703551 20.950032 \r\nL 209.067188 20.188089 \r\nL 234.430824 19.51187 \r\nL 259.79446 18.909881 \r\nL 285.158097 18.373027 \r\nL 310.521733 17.893816 \r\nL 335.885369 17.465871 \r\nL 361.249006 17.083636 \r\n\" style=\"fill:none;stroke:#ff7f0e;stroke-linecap:square;stroke-width:1.5;\"/>\r\n   </g>\r\n   <g id=\"patch_3\">\r\n    <path d=\"M 41.667188 224.64 \r\nL 41.667188 7.2 \r\n\" style=\"fill:none;stroke:#000000;stroke-linecap:square;stroke-linejoin:miter;stroke-width:0.8;\"/>\r\n   </g>\r\n   <g id=\"patch_4\">\r\n    <path d=\"M 376.467188 224.64 \r\nL 376.467188 7.2 \r\n\" style=\"fill:none;stroke:#000000;stroke-linecap:square;stroke-linejoin:miter;stroke-width:0.8;\"/>\r\n   </g>\r\n   <g id=\"patch_5\">\r\n    <path d=\"M 41.667188 224.64 \r\nL 376.467188 224.64 \r\n\" style=\"fill:none;stroke:#000000;stroke-linecap:square;stroke-linejoin:miter;stroke-width:0.8;\"/>\r\n   </g>\r\n   <g id=\"patch_6\">\r\n    <path d=\"M 41.667188 7.2 \r\nL 376.467188 7.2 \r\n\" style=\"fill:none;stroke:#000000;stroke-linecap:square;stroke-linejoin:miter;stroke-width:0.8;\"/>\r\n   </g>\r\n   <g id=\"legend_1\">\r\n    <g id=\"patch_7\">\r\n     <path d=\"M 298.003125 219.64 \r\nL 369.467188 219.64 \r\nQ 371.467188 219.64 371.467188 217.64 \r\nL 371.467188 189.005625 \r\nQ 371.467188 187.005625 369.467188 187.005625 \r\nL 298.003125 187.005625 \r\nQ 296.003125 187.005625 296.003125 189.005625 \r\nL 296.003125 217.64 \r\nQ 296.003125 219.64 298.003125 219.64 \r\nz\r\n\" style=\"fill:#ffffff;opacity:0.8;stroke:#cccccc;stroke-linejoin:miter;\"/>\r\n    </g>\r\n    <g id=\"line2d_19\">\r\n     <path d=\"M 300.003125 195.104062 \r\nL 320.003125 195.104062 \r\n\" style=\"fill:none;stroke:#1f77b4;stroke-linecap:square;stroke-width:1.5;\"/>\r\n    </g>\r\n    <g id=\"line2d_20\"/>\r\n    <g id=\"text_18\">\r\n     <!-- RIVER -->\r\n     <g transform=\"translate(328.003125 198.604062)scale(0.1 -0.1)\">\r\n      <defs>\r\n       <path d=\"M 2841 2188 \r\nQ 3044 2119 3236 1894 \r\nQ 3428 1669 3622 1275 \r\nL 4263 0 \r\nL 3584 0 \r\nL 2988 1197 \r\nQ 2756 1666 2539 1819 \r\nQ 2322 1972 1947 1972 \r\nL 1259 1972 \r\nL 1259 0 \r\nL 628 0 \r\nL 628 4666 \r\nL 2053 4666 \r\nQ 2853 4666 3247 4331 \r\nQ 3641 3997 3641 3322 \r\nQ 3641 2881 3436 2590 \r\nQ 3231 2300 2841 2188 \r\nz\r\nM 1259 4147 \r\nL 1259 2491 \r\nL 2053 2491 \r\nQ 2509 2491 2742 2702 \r\nQ 2975 2913 2975 3322 \r\nQ 2975 3731 2742 3939 \r\nQ 2509 4147 2053 4147 \r\nL 1259 4147 \r\nz\r\n\" id=\"DejaVuSans-52\" transform=\"scale(0.015625)\"/>\r\n       <path d=\"M 628 4666 \r\nL 1259 4666 \r\nL 1259 0 \r\nL 628 0 \r\nL 628 4666 \r\nz\r\n\" id=\"DejaVuSans-49\" transform=\"scale(0.015625)\"/>\r\n       <path d=\"M 1831 0 \r\nL 50 4666 \r\nL 709 4666 \r\nL 2188 738 \r\nL 3669 4666 \r\nL 4325 4666 \r\nL 2547 0 \r\nL 1831 0 \r\nz\r\n\" id=\"DejaVuSans-56\" transform=\"scale(0.015625)\"/>\r\n       <path d=\"M 628 4666 \r\nL 3578 4666 \r\nL 3578 4134 \r\nL 1259 4134 \r\nL 1259 2753 \r\nL 3481 2753 \r\nL 3481 2222 \r\nL 1259 2222 \r\nL 1259 531 \r\nL 3634 531 \r\nL 3634 0 \r\nL 628 0 \r\nL 628 4666 \r\nz\r\n\" id=\"DejaVuSans-45\" transform=\"scale(0.015625)\"/>\r\n      </defs>\r\n      <use xlink:href=\"#DejaVuSans-52\"/>\r\n      <use x=\"69.482422\" xlink:href=\"#DejaVuSans-49\"/>\r\n      <use x=\"98.974609\" xlink:href=\"#DejaVuSans-56\"/>\r\n      <use x=\"167.382812\" xlink:href=\"#DejaVuSans-45\"/>\r\n      <use x=\"230.566406\" xlink:href=\"#DejaVuSans-52\"/>\r\n     </g>\r\n    </g>\r\n    <g id=\"line2d_21\">\r\n     <path d=\"M 300.003125 209.782187 \r\nL 320.003125 209.782187 \r\n\" style=\"fill:none;stroke:#ff7f0e;stroke-linecap:square;stroke-width:1.5;\"/>\r\n    </g>\r\n    <g id=\"line2d_22\"/>\r\n    <g id=\"text_19\">\r\n     <!-- RIV_7_9 -->\r\n     <g transform=\"translate(328.003125 213.282187)scale(0.1 -0.1)\">\r\n      <defs>\r\n       <path d=\"M 3263 -1063 \r\nL 3263 -1509 \r\nL -63 -1509 \r\nL -63 -1063 \r\nL 3263 -1063 \r\nz\r\n\" id=\"DejaVuSans-5f\" transform=\"scale(0.015625)\"/>\r\n       <path d=\"M 703 97 \r\nL 703 672 \r\nQ 941 559 1184 500 \r\nQ 1428 441 1663 441 \r\nQ 2288 441 2617 861 \r\nQ 2947 1281 2994 2138 \r\nQ 2813 1869 2534 1725 \r\nQ 2256 1581 1919 1581 \r\nQ 1219 1581 811 2004 \r\nQ 403 2428 403 3163 \r\nQ 403 3881 828 4315 \r\nQ 1253 4750 1959 4750 \r\nQ 2769 4750 3195 4129 \r\nQ 3622 3509 3622 2328 \r\nQ 3622 1225 3098 567 \r\nQ 2575 -91 1691 -91 \r\nQ 1453 -91 1209 -44 \r\nQ 966 3 703 97 \r\nz\r\nM 1959 2075 \r\nQ 2384 2075 2632 2365 \r\nQ 2881 2656 2881 3163 \r\nQ 2881 3666 2632 3958 \r\nQ 2384 4250 1959 4250 \r\nQ 1534 4250 1286 3958 \r\nQ 1038 3666 1038 3163 \r\nQ 1038 2656 1286 2365 \r\nQ 1534 2075 1959 2075 \r\nz\r\n\" id=\"DejaVuSans-39\" transform=\"scale(0.015625)\"/>\r\n      </defs>\r\n      <use xlink:href=\"#DejaVuSans-52\"/>\r\n      <use x=\"69.482422\" xlink:href=\"#DejaVuSans-49\"/>\r\n      <use x=\"98.974609\" xlink:href=\"#DejaVuSans-56\"/>\r\n      <use x=\"167.382812\" xlink:href=\"#DejaVuSans-5f\"/>\r\n      <use x=\"217.382812\" xlink:href=\"#DejaVuSans-37\"/>\r\n      <use x=\"281.005859\" xlink:href=\"#DejaVuSans-5f\"/>\r\n      <use x=\"331.005859\" xlink:href=\"#DejaVuSans-39\"/>\r\n     </g>\r\n    </g>\r\n   </g>\r\n  </g>\r\n </g>\r\n <defs>\r\n  <clipPath id=\"pf1f525b6b5\">\r\n   <rect height=\"217.44\" width=\"334.8\" x=\"41.667188\" y=\"7.2\"/>\r\n  </clipPath>\r\n </defs>\r\n</svg>\r\n",
                        "image/png": "[encoded data removed]"
                    },
                    "metadata": {
                        "needs_background": "light"
                    }
                }
            ],
            "metadata": {}
        },
        {
            "cell_type": "code",
            "execution_count": null,
            "source": [],
            "outputs": [],
            "metadata": {}
        }
    ],
    "metadata": {
        "orig_nbformat": 4,
        "language_info": {
            "name": "python",
            "version": "3.9.6",
            "mimetype": "text/x-python",
            "codemirror_mode": {
                "name": "ipython",
                "version": 3
            },
            "pygments_lexer": "ipython3",
            "nbconvert_exporter": "python",
            "file_extension": ".py"
        },
        "kernelspec": {
            "name": "python3",
            "display_name": "Python 3.8.10 64-bit ('symple': conda)"
        },
        "interpreter": {
            "hash": "227dbd2fab8825bf983f485131159c82d0301ad97e15b736ca5b3747747c9c56"
        }
    },
    "nbformat": 4,
    "nbformat_minor": 2
}