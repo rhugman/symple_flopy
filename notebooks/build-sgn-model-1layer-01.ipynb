{
 "cells": [
  {
   "cell_type": "code",
   "execution_count": null,
   "metadata": {},
   "outputs": [],
   "source": [
    "import os\n",
    "import shutil\n",
    "import pandas as pd \n",
    "import numpy as np\n",
    "import matplotlib.pyplot as plt\n",
    "\n",
    "import flopy\n",
    "\n",
    "# import specific FloPy modules\n",
    "from flopy.utils.gridgen import Gridgen \n",
    "from flopy.utils.gridintersect import GridIntersect\n",
    "\n",
    "# for working with shapefiles\n",
    "import shapefile as sf\n",
    "from shapely.geometry import Polygon, LineString, MultiLineString\n",
    "\n",
    "print(f'Flopy version:{flopy.__version__}')"
   ]
  },
  {
   "cell_type": "markdown",
   "metadata": {},
   "source": [
    "# Introduction\n",
    "In this notebook we will construct the SGN model. This is a model of a geothermal instalation in Milan. It is the same case-study site which is addressed in the PEST/PEST++ part of this course. However, the model used in the PEST/PEST++ class will be slightly diferent as it is constructed in Groundwater Vistas. The purpose of the current class is to demonstrate how to use Flopy using a real-world case and input files. \n",
    "\n",
    "## General Outline\n",
    "- For the current exercise, we will construct a model using MODFLOW6. This model will use a DISV grid type. This allows us to add zones of greater grid resolution, whilst retaining a layered approach. We will use the USGS software GRIDGEN to construct the model grid. GRIDGEN executables are in the \"bin\" folder. \n",
    "- Next we will create the MF6 simulation object, along with the time discretisation.\n",
    "- Then we will create the MF6 model object, based on the DISV grid created using GRIDGEN.\n",
    "- Then we will assign model properties and boundary conditions.\n",
    "- Next we will write the model files. At this stage you can inspect the MF6 input files if you wish (not a bad practice...)\n",
    "- Then we can run the model.\n",
    "- Then we can inspect the results."
   ]
  },
  {
   "cell_type": "markdown",
   "metadata": {},
   "source": [
    "# Getting started\n",
    "## Workspace and often accessed folders\n",
    "The \"workspace\" is the folder in which the model files will be written. Flopy needs to be informed where to read/write model files from.\n",
    "\n",
    "\n",
    "Depending on how input files and data are orgnaised, it may also be convenient to define the folder in which data files are stored (assuming we will be loading in lots of files from that folder throughout the model construction process). This is not a requirement, merely personal preference. For the current case, all input data files are housed in the folder \"..\\data\\sgn\".\n",
    "\n",
    "We will be using a few executables (*.exe) files trought this exercise. Usualy they should be in your PATH. Alterantively, you will need to specify the full path to the exectuable when it is called. They are housed in the \"bin\" folder."
   ]
  },
  {
   "cell_type": "code",
   "execution_count": null,
   "metadata": {},
   "outputs": [],
   "source": [
    "# define the location of the model working directory; this is where all the MF6 files will be written\n",
    "# the folder path is relative to the location in which python is running. In our case, relative to the location of the jupyter notebok file.\n",
    "workspace = os.path.join('..','models','sgn_model_1layer')\n",
    "\n",
    "# Create the folder and make sure it is clean/empty.\n",
    "if os.path.exists(workspace):\n",
    "    shutil.rmtree(workspace)\n",
    "\n",
    "# the relative pathto the input file folder\n",
    "datadir = os.path.join('..','data','sgn')\n",
    "\n",
    "# the relative path to the executables folder\n",
    "bindir = os.path.join('..','bin')"
   ]
  },
  {
   "cell_type": "markdown",
   "metadata": {},
   "source": [
    "After you ran the previous cell, you will find a new directory in the repository folder \"models\" named \"sgn_model\". It will be empty, but this is where your model files will be going. It is usefull to chekc these files, specialy if a model is giving you trouble. When using GUI's (or flopy) users often lose touch with what is actualy going on with MODFLOW in the background. Get to know MODFLOW file structures. Trust me, you'll appreciate it in the long run.\n"
   ]
  },
  {
   "cell_type": "markdown",
   "metadata": {},
   "source": [
    "# Construct the grid\n",
    "## GRIDGEN\n",
    "GRIDGEN allows you to create layered quad-tree refined model grids. It is possible to set up and run GRIDGEN using FlopY, allowing for easy grid construction and import.\n",
    "\n",
    "There are other ways to create unstructructured grids which FLopy can then use to build a model grid. TRIANGLE can be used to generate triangular or voronoi grids (there is a FloPy module to drive TRIANGLE as well). You can also write your own program to build grid inputs. Or you can use external software such as Algomesh or Processing Modflow to construct the grids and then import them. However, that kind of defeats the purpose of scripted model develpment. \n",
    "\n",
    "The FloPy git-hub repository has example notebooks on how to use the GRIDGEN and TRIANGLE modules."
   ]
  },
  {
   "cell_type": "code",
   "execution_count": null,
   "metadata": {},
   "outputs": [],
   "source": [
    "# define the fullpath to the gridgen exe \n",
    "\n",
    "\n",
    "# gridgen will write a bunch of files; lets keep them seperate from the MF6 files, but within the same model workspace folder. To do so create a gridgen workspace sub-folder\n"
   ]
  },
  {
   "cell_type": "markdown",
   "metadata": {},
   "source": [
    "GRIDGEN works off of a base structured MODFLOW grid. So first we need to define a \"base grid\". This is the smae as createing an old-school rectangular grid which covers the extent of the model we are going to construct. Think of it as a rectangle which covers the model extent. \n",
    "\n",
    "The \"box\" around the model area of interest which we wish to model is roughly 4500m by 5000 m. In the coordinate system in which all the input files are recorded, the coordinate of the upper left corner is aproximately x=1516500, y=5033650. The main direction of flow is roughly 14.1 deg.\n",
    "\n",
    "Let's create a grid with these conditions."
   ]
  },
  {
   "cell_type": "code",
   "execution_count": null,
   "metadata": {},
   "outputs": [],
   "source": [
    "#Creating the initial Grid\n",
    "# grid dimmensions\n",
    "Lx = 4150.\n",
    "Ly = 4810.\n",
    "xul, yul = 1516769.1487, 5033577.7911 # the upper left corner of the bounding box\n",
    "rot = 14\n",
    "\n",
    "# create a uniform cell size 50 x 50\n",
    "\n",
    "# calculate the number of rows and columns\n",
    "\n",
    "# set some dummy values for top and bottom. We will get values for the model from raster files later on.\n",
    "\n",
    "\n",
    "# we can then use the FloPy Modflow module to create a DIS object\n",
    "\n",
    "\n",
    "# lets plot the bottom of the grid, just so we can see it makes sense\n",
    "#dis.botm.plot(colorbar=True, grid=True);"
   ]
  },
  {
   "cell_type": "code",
   "execution_count": null,
   "metadata": {},
   "outputs": [],
   "source": [
    "# Now we can instantiate a gridgen objct using the dis we just created.\n"
   ]
  },
  {
   "cell_type": "code",
   "execution_count": null,
   "metadata": {},
   "outputs": [],
   "source": [
    "# lets quickly build that and see what it looks like\n",
    "# build the grid\n",
    "\n",
    "\n",
    "# Visualize the grid\n"
   ]
  },
  {
   "cell_type": "markdown",
   "metadata": {},
   "source": [
    "Thats great, but we wanted to add some refinment to certain areas. \n",
    "\n",
    "We wish to increase the refinement in a two zones of the model domain around an area of greater interest. These zones are outlined by a shapefile that we have in the \"data\" folder.\n",
    "\n",
    "We will start by loading the shapefile and then passing it to GRIDGEN to add refinment. For this we will use the \"shapefile\" library which we imported as \"sf\".\n"
   ]
  },
  {
   "cell_type": "code",
   "execution_count": null,
   "metadata": {},
   "outputs": [],
   "source": [
    "# the path to the shapefile\n",
    "\n",
    "\n",
    "# use the sf.Reader function to load the shape as a sf Shapefile object\n",
    "\n",
    "\n",
    "# see how many features are in the shape file\n"
   ]
  },
  {
   "cell_type": "code",
   "execution_count": null,
   "metadata": {},
   "outputs": [],
   "source": [
    "# We want to add diferent levels of refinement to each of those features\n",
    "# the input formats are a bit weird..I am sure there is a reason for it, but oh well\n",
    "# the add_refinment_features requires a list of list of tuples. The tuples contian the (x,y) coordinates of the refinment shape. \n",
    "\n",
    "\n",
    "# lets quickly build that and see what it looks like\n",
    "# build the grid\n",
    "\n",
    "\n",
    "# Visualize the grid\n"
   ]
  },
  {
   "cell_type": "code",
   "execution_count": null,
   "metadata": {},
   "outputs": [],
   "source": [
    "# Let us also add refinement along the river\n",
    "# the path to the shapefile\n",
    "\n",
    "# use the sf.Reader function to load the shape as a sf Shapefile object\n",
    "\n",
    "# see how many features are in the shape file\n",
    "\n",
    "\n",
    "# add refinement, this time define as line not polygon\n",
    "\n",
    "# lets quickly build that and see what it looks like\n",
    "# build the grid\n",
    "\n",
    "\n",
    "# Visualize the grid\n",
    "\n",
    "\n",
    "# lets also plot the shape file polygon that contains the desired model boundary, for comparison\n"
   ]
  },
  {
   "cell_type": "code",
   "execution_count": null,
   "metadata": {},
   "outputs": [],
   "source": [
    "# finaly, lets set the active domain\n",
    "# add the active domain\n",
    "\n",
    "# lets quickly build that and see what it looks like\n",
    "# build the grid\n",
    "\n",
    "\n",
    "# Visualize the grid\n"
   ]
  },
  {
   "cell_type": "markdown",
   "metadata": {},
   "source": [
    "Now that we have created created a GRidGEN grid object, we can use inbuilt functions to obtain grid properties to construct the MODFLOW6 grid object."
   ]
  },
  {
   "cell_type": "code",
   "execution_count": null,
   "metadata": {},
   "outputs": [],
   "source": [
    "# get the grid properties and store them in rec array\n",
    "\n",
    "# get the number of cell per layer\n",
    "\n",
    "# get the number of vertices\n",
    "\n",
    "#get the vertices and their coordinates\n",
    "\n",
    "# get the cell2d properties\n"
   ]
  },
  {
   "cell_type": "markdown",
   "metadata": {},
   "source": [
    "Each of the lists above are used as input when building a MF6 disv grid. But a few things are still missing:\n",
    "- number of layers. Our model is to have **ONE** layer.\n",
    "- the elevation of the top of the model. In the data folder there is a raster file of the DEM.\n",
    "- the elevation of the bootom of the layer. In the data folder there are raster files for the bottom of layer1."
   ]
  },
  {
   "cell_type": "code",
   "execution_count": null,
   "metadata": {},
   "outputs": [],
   "source": [
    "# start by defining a variable for the number of layers, call it nlay\n"
   ]
  },
  {
   "cell_type": "markdown",
   "metadata": {},
   "source": [
    "# MODFLOW 6\n",
    "\n",
    "## The Simulation\n",
    "FloPy requires that we first create a \"simulation\" object. This simulation can have multiple models. There are a couple of things that you will generaly have to assign:\n",
    "- a Simulation package\n",
    "- a TDIS package\n",
    "- a MF6 Model, which will generaly require:\n",
    "    - an IMS (i.e. the solver settings) package\n",
    "    - a spatial discretisation (DIS, DISV or DISU) package\n",
    "    - initial condition package\n",
    "    - hydraulic property package(s)\n",
    "    - boundary condition pacakge(s)"
   ]
  },
  {
   "cell_type": "code",
   "execution_count": null,
   "metadata": {},
   "outputs": [],
   "source": [
    "# the Flopy simulation object\n",
    "# if the MF6 executable is in your PATH, you can simply assign the string \"mf6\". If not, you need to specify the location of the executable as shown here:\n"
   ]
  },
  {
   "cell_type": "markdown",
   "metadata": {},
   "source": [
    "### The TDIS (time discretisation) object\n",
    "Time discretisation (i.e. the TDIS package) is defined at the simulation level. Lets instantioante a Tdis object. To do so, we need to define the stress period data.\n",
    "\n",
    "Stress period data needs to be passed to the Tdis object as a list of tuples. The list needs a tuple for each stress period. Each tuple contains the period length, the number of time steps and the time-sep multiplier:\n",
    " \\[(perlen, nstp, tsmult)]\n",
    "\n",
    "We will have a single steady-state stress-period and not considering transport, so period length does not matter. Number of time steps should be 1, and time-step multiplier does not matter."
   ]
  },
  {
   "cell_type": "code",
   "execution_count": null,
   "metadata": {},
   "outputs": [],
   "source": [
    "# we will use units of \"seconds\"; so all time related values must be in seconds\n",
    "\n",
    "#perioddata[perlen, nstp, tsmult]\n",
    "\n",
    "# set the number of periods, in this case 1\n",
    "\n",
    "\n",
    "\n",
    "# we can deinfe the sarting date_time; it doesnt matter here, but we will do so for demo purposes:\n"
   ]
  },
  {
   "cell_type": "markdown",
   "metadata": {},
   "source": [
    "## The Flow Model\n",
    " Now we can create the FloPy MF6 model object and add the corresponding IMS package to the simulation."
   ]
  },
  {
   "cell_type": "code",
   "execution_count": null,
   "metadata": {},
   "outputs": [],
   "source": [
    "# Instantiate the Flopy groundwater flow (gwf) model object\n",
    "\n",
    "\n",
    "# Instantiate a Flopy `IMS` Package object\n",
    "# Here you can set all the solver settings, all of these have default values so you dont need to specify them if the defaults are suficient.\n",
    "\n",
    "\n",
    "# lastly we need to register the MF6 model to an IMS package in the Simulation\n"
   ]
  },
  {
   "cell_type": "code",
   "execution_count": null,
   "metadata": {},
   "outputs": [],
   "source": [
    "# Now, you wouldnt necessarily start writting model files yet, but lets do so just to see what happens.\n"
   ]
  },
  {
   "cell_type": "markdown",
   "metadata": {},
   "source": [
    "Inspect the model workspace folder. You will see the files:\n",
    "\n",
    "\\['gridgen', 'mfsim.nam', 'sgn.nam', 'sim.ims', 'sim.tdis']"
   ]
  },
  {
   "cell_type": "markdown",
   "metadata": {},
   "source": [
    "### The DISV package\n",
    "Right! So we can get back to assigning our model grid (Remember all that stuff we were doing earlier with GRIDGEN?).\n",
    "\n",
    "To do so, we create a FlopY DISV object with *flopy.mf6.ModflowGwfdisv()*"
   ]
  },
  {
   "cell_type": "code",
   "execution_count": null,
   "metadata": {},
   "outputs": [],
   "source": [
    "#Creating grid in mf6 with DISV\n",
    "# For disv input info: ncpl, nvert, vertices, cell2d (center x,y for each cell)\n",
    "\n",
    "\n",
    "# create grid object\n",
    "\n",
    "# we can plot it as well! \n",
    "# Lets check out the layer bottom elevations\n",
    "\n",
    "\n",
    "# we can also plot the top\n"
   ]
  },
  {
   "cell_type": "markdown",
   "metadata": {},
   "source": [
    "### Sampling from a raster file\n",
    "Next, we need to create an array (or list) of elevations for each cell to sign to the top of the model. We want to obtain these from the DEM raster. To do so, we need to obtain the elevation in the raster that coincides with the cell coordinates. For that, we need to know the cell coordinates."
   ]
  },
  {
   "cell_type": "code",
   "execution_count": null,
   "metadata": {},
   "outputs": [],
   "source": [
    "# Import the DEM raster\n",
    "# set the raster file path and name\n",
    "\n",
    "\n",
    "# use the FloPy utils Raster object to load the raster file\n",
    "\n",
    "\n",
    "# we can even plot the raster while we are at it. Isnt that cool? Always good to check coordinate systems are the same, for example. \n"
   ]
  },
  {
   "cell_type": "code",
   "execution_count": null,
   "metadata": {},
   "outputs": [],
   "source": [
    "# We can use the modelgrid attribute to pass the cell locations to the the resample_to_grid function.\n",
    "# There are several interpolation methods available, lets just use \"nearest\" because it is faster.\n",
    "# assign the values to a variable named \"top\". This will become an array of equal length to ncpl (number of cells per layer)\n"
   ]
  },
  {
   "cell_type": "markdown",
   "metadata": {},
   "source": [
    " Now lets create the data to define the bottom of each layer. This requires an array of shape (nlay, ncpl). In our case nlay = 1.\n",
    "\n",
    " Lets start by creating a dummy array with ones.\n",
    " "
   ]
  },
  {
   "cell_type": "code",
   "execution_count": null,
   "metadata": {},
   "outputs": [],
   "source": []
  },
  {
   "cell_type": "markdown",
   "metadata": {},
   "source": [
    "Now we need to populate that array from the raster files of layer bottoms. I will do it the \"slow way\" so that it is easy to follow what is going on. It could be done alot more pythonicly."
   ]
  },
  {
   "cell_type": "code",
   "execution_count": null,
   "metadata": {},
   "outputs": [],
   "source": [
    "# do the same for the two bottom rasters as we did for the DEM\n",
    "# set the file names\n",
    "\n",
    "# load the rasters\n",
    "\n",
    "\n",
    "# sample the rasters to the cell xy's\n"
   ]
  },
  {
   "cell_type": "markdown",
   "metadata": {},
   "source": [
    "Awesome, we can now update the top and botm data in the model disv package."
   ]
  },
  {
   "cell_type": "code",
   "execution_count": null,
   "metadata": {},
   "outputs": [],
   "source": []
  },
  {
   "cell_type": "code",
   "execution_count": null,
   "metadata": {},
   "outputs": [],
   "source": []
  },
  {
   "cell_type": "markdown",
   "metadata": {},
   "source": [
    "### Zonning\n",
    "Our conceptal model is that the top aquifer (layer 1) has distinct geological zones. The aquiatrd and and lower aquifer are considered to be uniform geological units. The shape file *Geology_250000_clip.shp* defines the geological units in the upper aquifer.\n",
    "\n",
    "We will be assiginign diferent parameters to diferent zones. Additionaly, when you get to the PESt pat of this course, parameterisation will require zoning. To make life easier, we will distinguish between zones using different IDOMAIN values for each zone.\n",
    "\n",
    "Let's start by setting up the zones. Load in the shp file and inspect it."
   ]
  },
  {
   "cell_type": "code",
   "execution_count": null,
   "metadata": {},
   "outputs": [],
   "source": [
    "# the path to the shapefile\n",
    "\n",
    "# Visualize the grid\n",
    "\n",
    "\n",
    "# lets  plot the shape file \n"
   ]
  },
  {
   "cell_type": "markdown",
   "metadata": {},
   "source": [
    "As you can see. There are several polygons within the model domain. However there are only suposed to be two zones. Lets inspect the shapefile records (i.e. the \"attribute table\" if you open it in QGIS or ArcGIS).\n",
    "\n",
    "Use the sf.Reader *records()* method to inspect the shapefile records."
   ]
  },
  {
   "cell_type": "code",
   "execution_count": null,
   "metadata": {},
   "outputs": [],
   "source": []
  },
  {
   "cell_type": "code",
   "execution_count": null,
   "metadata": {},
   "outputs": [],
   "source": [
    "# as it is a list, you can access the record for each shape by indexing\n"
   ]
  },
  {
   "cell_type": "code",
   "execution_count": null,
   "metadata": {},
   "outputs": [],
   "source": [
    "# and then specific attributes within the shape record by indexing again\n"
   ]
  },
  {
   "cell_type": "code",
   "execution_count": null,
   "metadata": {},
   "outputs": [],
   "source": [
    "# you can also use the sf.Reader.record() function to access specifc records. Note record vs records. The \"s\" refers to a diferent method.\n"
   ]
  },
  {
   "cell_type": "markdown",
   "metadata": {},
   "source": [
    "What you see there is a list of lists. Each sub-list contians the recoords assocaited to each polygon (i.e. shape) in the **zones_shpfile**.\n",
    "\n",
    "As you can see, the information repeats. So there are multiple \"shapes\", but they all belong to one of two geological units. The numeric code for each unit is given as the first element of the sub-list. In this case, either \"301\" or \"205\", which correspon to the \"alluvial deposits\" and \"sands and gravels\" respectively. \n",
    "\n",
    "To assign zones in the model, we need to know which cells coincide with those zones. To accomplish this for the zones in the top layer we shall use FloPy's GridIntersect module: *flopy.utils.gridintersect.GridIntersect* which we have imported as *GridIntersect*."
   ]
  },
  {
   "cell_type": "code",
   "execution_count": null,
   "metadata": {},
   "outputs": [],
   "source": [
    "# GridIntersect works by first calling an intersect object on the model grid:\n"
   ]
  },
  {
   "cell_type": "code",
   "execution_count": null,
   "metadata": {
    "tags": []
   },
   "outputs": [],
   "source": [
    "# Once ix is instantiated, you can now call interscets on the grid using shapely objects\n",
    "# use the sf.Reader function to load a list of sf Shapefile objects\n",
    "\n",
    "# As there are multiple shapes in the zones_shpfile, zones_shp is a list of shapely objects.\n",
    "# GridIntersect needs to be applied to each shape in that list of shapes.\n",
    "# For example, applying to the first shape in the list returns:\n",
    "\n",
    "\n",
    "# x is a numpy rec.array containting a bunch of information on the intersection between the shape and the model grid.\n",
    "# it can be easier to visualize as a Pandas dataframe as shown below\n",
    "# x contains the cellids of model cells intersected by the first shape in zones_shp, as well as the vertices and area of the interesected(!) part of the cell\n"
   ]
  },
  {
   "cell_type": "code",
   "execution_count": null,
   "metadata": {},
   "outputs": [],
   "source": [
    "# you can access cellids or areas directly through the rec.array attributes, by using x.areas or x.cellids\n"
   ]
  },
  {
   "cell_type": "code",
   "execution_count": null,
   "metadata": {},
   "outputs": [],
   "source": [
    "# So now, we can loop through all the shapes and idntify cellids which belong to each zone\n",
    "# we will assign corresponding zone numbers to the Idomain array so that we can reuse them in future\n",
    "# You can acces the idomain values for each layer from the disv object like thus: disv.idomain.data\n"
   ]
  },
  {
   "cell_type": "code",
   "execution_count": null,
   "metadata": {},
   "outputs": [],
   "source": [
    "# alluviums will be assigned to zone 4, gravels to zone 1\n",
    "# as we assigned values of 1 to idomain be default, we only need to update cells that interesect alluviaums (i.e. zone 4)\n",
    "# Note that this will include ANY cell intersected by the polygon shape. So it can include cells that only have a small portion of thier area included in the geological zone. In practice you may wish to consider more elabraote selection criteria (i.e. minimum % of cell area or something like that).\n",
    "\n",
    "# update the disv idomain values using the .set_data() method\n",
    "\n",
    "\n",
    "# now lets chck the disv idomain values in layer 1\n",
    "\n",
    "\n",
    "# Visualize the grid\n",
    "\n",
    "# plot idomain for top layer\n",
    "\n",
    "# plot the shape file \n"
   ]
  },
  {
   "cell_type": "markdown",
   "metadata": {},
   "source": [
    "## Initial conditions\n",
    "### The intial condition (IC) package"
   ]
  },
  {
   "cell_type": "code",
   "execution_count": null,
   "metadata": {},
   "outputs": [],
   "source": [
    "# set the initial conditions with the IC package\n"
   ]
  },
  {
   "cell_type": "markdown",
   "metadata": {},
   "source": [
    "## Hydraulic conductivity\n",
    "### per model zone\n",
    "As we did for strt, k can be assigned per individual cell, layer, or as a single constant value. Recall that we are using units of \"meter\" and \"seconds\". So k must be passed as units of \"m/s\".\n",
    "\n",
    "From our model brief, we have been given distinct values of for all four zones. Let us assign unique values per zone. Conveniently, we can use the Idomain values to \"select\" cells from each zone.\n",
    "\n",
    "zone1 (shallow aquifer; layer 1): 2.3E-3 m/s <br>\n",
    "zone4 (shallow aquifer; layer 1): 4.1E-3 m/s <br>\n",
    "zone2 (aquitard): 1E-08 m/s <br>\n",
    "zone3 (deep aquifer): 2.3E-3 m/s<br>\n",
    "\n"
   ]
  },
  {
   "cell_type": "code",
   "execution_count": null,
   "metadata": {},
   "outputs": [],
   "source": [
    "# let us start by creating a template for our k input data; we can do so easily enough by making a copy of the idomain. \n"
   ]
  },
  {
   "cell_type": "code",
   "execution_count": null,
   "metadata": {},
   "outputs": [],
   "source": [
    "# now it is a simple to task to slice the k array to assign the values we want\n",
    "# update the values for each zone\n"
   ]
  },
  {
   "cell_type": "markdown",
   "metadata": {},
   "source": [
    "All the MODFLOW6 NPF pacakge variables can be assigned to the FloPy *flopy.mf6.ModflowGwfnpf* object. We also want to set the k vertical anisotropy to have a ratio of 0.1 (i.e.  kv = kh/10). This can be assigned using the k33 variable. Vertical hydraulic conductivity can be assinged explicitly (i.e. kv = 1e-3 m/s) or as a ratio. In both cases the k33 variable is used. Defining whether k33 is a ratio is defined with k33overk variable."
   ]
  },
  {
   "cell_type": "code",
   "execution_count": null,
   "metadata": {},
   "outputs": [],
   "source": [
    "# unique values per layer\n"
   ]
  },
  {
   "cell_type": "markdown",
   "metadata": {},
   "source": [
    "When working with PEST/PEST++, it is usualy good practice to set packages to write model input data to external files. You will learn more about this in the PEST module of this course. To do, you can simply write *npf.set_all_data_external()*. However, this writes ALL the NPF package files. This can get messy...\n",
    "\n",
    "Alterantively, you can  specify which files to write using the *npf.k.store_as_external_file()*, for example. Lets do this for the K parameters of all three layers.\n",
    "\n",
    "To do so, we need to specify the external file and path. You can specify to store values individualy per layer, or all in a single file. Which to choose depends on your case...Let us store the values of K for each layer in a seperate file. Let us name each file with the model name followed by the letter \"k\" and the layer number (i.e. sgn.k1.txt)\n",
    "\n",
    "Note that this function will write the package files imediately, not requiring the *sim.write_simulation()* call."
   ]
  },
  {
   "cell_type": "code",
   "execution_count": null,
   "metadata": {},
   "outputs": [],
   "source": [
    "# write files externaly\n",
    "\n",
    "# Check the model workspace folder.  You will see the three new files written \n"
   ]
  },
  {
   "cell_type": "markdown",
   "metadata": {},
   "source": [
    "Lets write the simulation files again so that we can check what FloPy is doing. Run *sim.write_simultion()* and then inspect the files in your model workspace folder. The *sgn.npf* file has the details of the NPF package, with arrays of K per alyer written in the external files. You can open any of these files in a text editor or even here in your notebook as shown below."
   ]
  },
  {
   "cell_type": "code",
   "execution_count": null,
   "metadata": {},
   "outputs": [],
   "source": []
  },
  {
   "cell_type": "code",
   "execution_count": null,
   "metadata": {},
   "outputs": [],
   "source": [
    "# Check the model workspace folder. \n"
   ]
  },
  {
   "cell_type": "code",
   "execution_count": null,
   "metadata": {},
   "outputs": [],
   "source": [
    "# read the npf file\n"
   ]
  },
  {
   "cell_type": "markdown",
   "metadata": {},
   "source": [
    "## Recharge\n",
    "### Set the recharge over the top layer\n",
    "We are going to assing a recharge rate to the top layer. We have been provided with a .shp file of recharge polygons which is the file named \"Recharge_4.shp\" in the data folder.\n",
    "\n",
    "The shp polygons do not match our grid, so we need to assign spatialy weighted values of interesected shp polygons to each model cell. The shp file contains recharge rates stored as mm/yr in the \"records\". The model units are m/s. So values also need to be converted to the correct units.\n",
    "\n",
    "To accomplish this we shall use FloPy's GridIntersect module: *flopy.utils.gridintersect.GridIntersect* which we have imported as *GridIntersect*."
   ]
  },
  {
   "cell_type": "code",
   "execution_count": null,
   "metadata": {},
   "outputs": [],
   "source": [
    "# the path to the shapefile\n",
    "\n",
    "# use the sf.Reader function to load the shape as a sf Shapefile object\n",
    "\n",
    "\n",
    "# Visualize the grid\n"
   ]
  },
  {
   "cell_type": "code",
   "execution_count": null,
   "metadata": {},
   "outputs": [],
   "source": [
    "# check the records; the recharge rate (mm/yr) is the last element of the record. Zero in hte case shwon below:\n"
   ]
  },
  {
   "cell_type": "code",
   "execution_count": null,
   "metadata": {},
   "outputs": [],
   "source": [
    "# first we need to get the areas of all cells. As we used GRIDGEN to generate the grid, we COULD access cell areas from the gridgen object using \"g.get_area()\"\n",
    "# However, if the grid were generated in another way we would need an alternative method.\n"
   ]
  },
  {
   "cell_type": "code",
   "execution_count": null,
   "metadata": {},
   "outputs": [],
   "source": [
    "# lets isntead get the cell areas using GridIntersect as this is a more generalizable case.\n",
    "# To do so, we create a polygon which extends over the enitre model domain and intersect the grid\n",
    "# We create the polygon using the shapely.geometry Polygon module that we imported at the beggingin\n",
    "# get the x and y coordiantes fro the boundaing box; \n",
    "\n",
    "\n",
    "# make the polygon\n",
    "\n",
    "# ineresect all model cells\n",
    "\n",
    "# get the areas of all interesected cells\n",
    "\n",
    "# note that values are slightly differnt, but not significantly so.\n"
   ]
  },
  {
   "cell_type": "code",
   "execution_count": null,
   "metadata": {},
   "outputs": [],
   "source": [
    "# Now we have all that we need to start building the RCH package input.\n",
    "# We can cyclce through each intersect, and fill in the RCH stress period data as we go\n",
    "# Start by creating the rch spd list which we will populate\n",
    "\n",
    "\n",
    "# for checking purposes\n",
    "\n",
    "\n",
    "# for each feature in the shapefile\n",
    "\n",
    "\n",
    "\n",
    "# assign the spd data to the RCH package\n",
    "\n",
    "\n",
    "# added observation timeseries of recharge so that you can check the mdoel outputs\n",
    "\n",
    "\n",
    "# if we parameterize recharge using PEST...\n",
    "\n",
    "\n",
    "# we will use this value as a check to confirm our model outputs later\n"
   ]
  },
  {
   "cell_type": "markdown",
   "metadata": {},
   "source": [
    "## River BC\n",
    "On the east side of the model, the First aquifer could be in communication with the River Lambro, which is inserted in the model as a RIVER condition (Figure 10). The levels of the watercourse were taken from LIDAR quotas and compared with the hydrometer upstream of the model area (Stazione 869 Milano v. Feltre, Figure 11):\n",
    " - Hydrometer altitude: average level September 2019: 69.05 cm from hydrometric zero (115.1 m asl) = 115.79 m asl;\n",
    " - LIDAR altitude in correspondence with the Hydrometer: 116.2 m asl.\n",
    "\n",
    "\n",
    "River stages are stored in the shapefile: *River_stages_polyline.shp*"
   ]
  },
  {
   "cell_type": "code",
   "execution_count": null,
   "metadata": {},
   "outputs": [],
   "source": [
    "# the path to the shapefile\n",
    "\n",
    "# use the sf.Reader function to load the shape as a sf Shapefile object\n",
    "\n",
    "\n",
    "\n",
    "\n",
    "#initilize pacakge\n",
    "\n",
    "# build obs data\n",
    "\n",
    "# initialize obs package\n"
   ]
  },
  {
   "cell_type": "code",
   "execution_count": null,
   "metadata": {},
   "outputs": [],
   "source": [
    "# plot"
   ]
  },
  {
   "cell_type": "markdown",
   "metadata": {},
   "source": [
    "## Set all surfaces cells as DRN to avoid \"flooding\""
   ]
  },
  {
   "cell_type": "code",
   "execution_count": null,
   "metadata": {},
   "outputs": [],
   "source": [
    "# set all surface to drain\n",
    "\n",
    "#initilize pacakge\n",
    "\n",
    "# build obs data\n",
    "\n",
    "# initialize obs package\n"
   ]
  },
  {
   "cell_type": "code",
   "execution_count": null,
   "metadata": {},
   "outputs": [],
   "source": [
    "#plot"
   ]
  },
  {
   "cell_type": "markdown",
   "metadata": {},
   "source": [
    "# WEll BCs"
   ]
  },
  {
   "cell_type": "code",
   "execution_count": null,
   "metadata": {},
   "outputs": [],
   "source": [
    "# the path to the shapefile\n",
    "\n",
    "# use the sf.Reader function to load the shape as a sf Shapefile object\n",
    "\n",
    "# for each feature in the shapefile\n",
    "\n",
    "\n",
    "# build obs data \n",
    "\n",
    "\n",
    "# initialize obs package\n",
    "\n",
    "\n"
   ]
  },
  {
   "cell_type": "code",
   "execution_count": null,
   "metadata": {},
   "outputs": [],
   "source": [
    "# plot"
   ]
  },
  {
   "cell_type": "markdown",
   "metadata": {},
   "source": [
    "# GHB outer boundary\n",
    "\n",
    "In order to reproduce the regional flow, the model boundaries were defined by imposing General Head Boundary (GHB) boundary conditions around the model boundary. The values assigned to the GHB conditions were entered taking into account the results of the September 2019 field msurment campaign.\n",
    "\n",
    "### Note:\n",
    "At this stage this model will diverge a bit from that which is constructed with GW Vistas. BCs for GHB heads are assigned in a slightly different manner. Here we will assign values directly from an inpolated surface if piezometric measuremnts. iIn the GW Vistas version, values are assigned according to an interpreted linear gradient along the model boundary. "
   ]
  },
  {
   "cell_type": "code",
   "execution_count": null,
   "metadata": {},
   "outputs": [],
   "source": [
    "# get the points of the polygon shapefile used to create the model boundary\n",
    "\n",
    "#transform into a polyline\n",
    "\n",
    "\n",
    "# now we can intersect and ge tthe cellids of cells along the model boundary\n",
    "# use .buffer() on the sahpely object to interesect bounday lines\n",
    "\n",
    "# confirm that intersect worked as intended:\n"
   ]
  },
  {
   "cell_type": "code",
   "execution_count": null,
   "metadata": {},
   "outputs": [],
   "source": [
    "# Import a raster with interpolated hydralic heads from a afield campaign in september 2019\n",
    "# set the raster file path and name\n",
    "\n",
    "# use the FloPy utils Raster object to load the raster file\n",
    "\n",
    "# and plot \n"
   ]
  },
  {
   "cell_type": "code",
   "execution_count": null,
   "metadata": {},
   "outputs": [],
   "source": [
    "# now lets build up the GHB stress period data \n",
    "\n",
    "\n",
    "# create the package\n",
    "\n",
    "\n",
    "# build obs data\n",
    "\n",
    "\n",
    "# initialize obs package\n"
   ]
  },
  {
   "cell_type": "code",
   "execution_count": null,
   "metadata": {},
   "outputs": [],
   "source": [
    "# plot"
   ]
  },
  {
   "cell_type": "markdown",
   "metadata": {},
   "source": [
    "## Observation Points"
   ]
  },
  {
   "cell_type": "code",
   "execution_count": null,
   "metadata": {},
   "outputs": [],
   "source": [
    "# the path to the shapefile\n",
    "\n",
    "# use the sf.Reader function to load the shape as a sf Shapefile object\n",
    "\n",
    "\n",
    "# initialize obs package\n"
   ]
  },
  {
   "cell_type": "markdown",
   "metadata": {},
   "source": [
    "## Output control (OC) package"
   ]
  },
  {
   "cell_type": "code",
   "execution_count": null,
   "metadata": {},
   "outputs": [],
   "source": [
    "# output control\n"
   ]
  },
  {
   "cell_type": "code",
   "execution_count": null,
   "metadata": {},
   "outputs": [],
   "source": []
  },
  {
   "cell_type": "code",
   "execution_count": null,
   "metadata": {},
   "outputs": [],
   "source": []
  },
  {
   "cell_type": "markdown",
   "metadata": {},
   "source": [
    "# Post-Processing\n",
    "## Load the budget list file"
   ]
  },
  {
   "cell_type": "code",
   "execution_count": null,
   "metadata": {},
   "outputs": [],
   "source": []
  },
  {
   "cell_type": "code",
   "execution_count": null,
   "metadata": {},
   "outputs": [],
   "source": []
  },
  {
   "cell_type": "markdown",
   "metadata": {},
   "source": [
    "## Load the Heads file\n",
    "\n",
    "In previous exercises we used the FloPy .output method, available for MODFLOW6 models. Here is an alterantive method to access a MODFLOW binary head file."
   ]
  },
  {
   "cell_type": "code",
   "execution_count": null,
   "metadata": {},
   "outputs": [],
   "source": []
  },
  {
   "cell_type": "code",
   "execution_count": null,
   "metadata": {},
   "outputs": [],
   "source": [
    "# get the times at which values are recorede in the heads file\n"
   ]
  },
  {
   "cell_type": "code",
   "execution_count": null,
   "metadata": {},
   "outputs": [],
   "source": [
    "# you can export heads to a shp file for display in a GIS, for example\n"
   ]
  },
  {
   "cell_type": "code",
   "execution_count": null,
   "metadata": {},
   "outputs": [],
   "source": [
    "# generic plot of head data\n"
   ]
  },
  {
   "cell_type": "markdown",
   "metadata": {},
   "source": [
    "### A (slightly) more elaborate figure"
   ]
  },
  {
   "cell_type": "code",
   "execution_count": null,
   "metadata": {},
   "outputs": [],
   "source": []
  },
  {
   "cell_type": "code",
   "execution_count": null,
   "metadata": {},
   "outputs": [],
   "source": []
  }
 ],
 "metadata": {
  "interpreter": {
   "hash": "b3ba2566441a7c06988d0923437866b63cedc61552a5af99d1f4fb67d367b25f"
  },
  "kernelspec": {
   "display_name": "Python 3 (ipykernel)",
   "language": "python",
   "name": "python3"
  },
  "language_info": {
   "codemirror_mode": {
    "name": "ipython",
    "version": 3
   },
   "file_extension": ".py",
   "mimetype": "text/x-python",
   "name": "python",
   "nbconvert_exporter": "python",
   "pygments_lexer": "ipython3",
   "version": "3.7.9"
  }
 },
 "nbformat": 4,
 "nbformat_minor": 2
}
