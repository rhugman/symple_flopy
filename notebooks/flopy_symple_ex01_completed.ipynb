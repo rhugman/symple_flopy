{
 "cells": [
  {
   "cell_type": "markdown",
   "metadata": {},
   "source": [
    "# Introduction\n",
    "\n",
    "The purpose of this exercise is to introduce the basics of using Flopy to construct, run and visualize a MODFLOW 6 model and its outputs. It is assumed you are familiar with MODFLOW 6.\n",
    "\n",
    "We will cover the following:\n",
    " - creating a Simulation Object\n",
    " - creating a Model Object\n",
    " - defining time and spatial discretisation\n",
    " - adding Packages\n",
    " - writting the MODFLOW files and running the model\n",
    " - post-processing some results\n",
    "\n",
    "This exercise is based on a simple groundwater system composed of two aquifer layers, separated by a thin low-permeability layer. A river flows across the center of the system in a straight line (not very natural, I know, but it keeps things simple for the tutorial), from West to East (left to right). The river only intersects the upper aquifer layer. The upper layer also receives recharge from rainfall.\n",
    "\n",
    "We will represent the system using a classical structured grid. "
   ]
  },
  {
   "cell_type": "code",
   "execution_count": 2,
   "metadata": {},
   "outputs": [],
   "source": [
    "# Import necessary libraries\n",
    "# for the purposes of this course we are using frozen versions of flopy to avoid depedency failures.  \n",
    "import os \n",
    "import sys\n",
    "sys.path.append('../dependencies/')\n",
    "import flopy\n",
    "import numpy as np\n",
    "import pandas as pd\n",
    "import matplotlib.pyplot as plt"
   ]
  },
  {
   "cell_type": "markdown",
   "metadata": {},
   "source": [
    "## The Simulation\n",
    "FloPy requires that we first create a \"simulation\" object. This simulation can have multiple models. There are a couple of things that you will generaly have to assign:\n",
    "- a Simulation package\n",
    "- a TDIS package\n",
    "- one or more MF6 Models, which will generaly require:\n",
    "    - an IMS (i.e. the solver settings) package\n",
    "    - a spatial discretisation (DIS, DISV or DISU) package\n",
    "    - initial condition package\n",
    "    - hydraulic property package(s)\n",
    "    - boundary condition pacakge(s)\n",
    "\n",
    "\n",
    "A Simulation Object is instantiated with the command: *flopy.mf6.MFSimulation()*\n",
    "\n",
    "Three inputs are usually necessary (they all have default values):\n",
    " - the simulation name\n",
    " - the path to the executable (in our case mf6.exe)\n",
    " - the path to the simulation folder"
   ]
  },
  {
   "cell_type": "code",
   "execution_count": 3,
   "metadata": {},
   "outputs": [],
   "source": [
    "# you can customize the simulation name\n",
    "sim_name = 'symple_ex01'\n",
    "\n",
    "# if the MF6 executable is in your PATH, you can simply assign the string \"mf6\". \n",
    "# If not, you need to specify the path to the executable. \n",
    "# In the course repository folder, there is a folder named \"bin\" which contians all the necessary executables. \n",
    "# The MODFLOW 6 executable is named \"mf6.exe\":\n",
    "exe_name = os.path.join('..','bin', 'mf6.exe')\n",
    "\n",
    "# define the location of the model working directory; this is where all the MF6 files will be written\n",
    "# the folder path is relative to the location in which python is running. In our case, relative to the location of the jupyter notebok file.\n",
    "workspace = os.path.join('..','models','symple_ex01')\n",
    "\n",
    "# Usually you will want to assign the Simulation Object to a variable (common practice is to name it \"sim\") so that it can be accessed later\n",
    "sim = flopy.mf6.MFSimulation(sim_name=sim_name,\n",
    "                            exe_name=exe_name,\n",
    "                            version=\"mf6\", \n",
    "                            sim_ws=workspace)"
   ]
  },
  {
   "cell_type": "markdown",
   "metadata": {},
   "source": [
    "### The TDIS (time discretisation) object\n",
    "Time discretisation (i.e. the TDIS package) is defined at the simulation level. Let's instantiate a Tdis object. To do so, we need to define the stress period data.\n",
    "\n",
    "Stress period data needs to be passed to the Tdis object as a list of tuples. The list needs a tuple for each stress period. Each tuple contains the period length, the number of time steps and the time-step multiplier:\n",
    " \\[(perlen, nstp, tsmult)]\n",
    "\n",
    "We will have a single steady-state stress-period, so period length does not matter. In this case the number of time steps should be 1, and time-step multiplier does not matter."
   ]
  },
  {
   "cell_type": "code",
   "execution_count": 4,
   "metadata": {},
   "outputs": [],
   "source": [
    "# define the time units for the simulation. All model inputs must have time-units of \"day\"\n",
    "time_units = 'days'\n",
    "\n",
    "#perioddata[perlen, nstp, tsmult]\n",
    "perioddata = [(1.0, 1, 1.0)]\n",
    "\n",
    "# the number of periods is 1\n",
    "nper = 1 \n",
    "\n",
    "# Create the TDIS Object\n",
    "tdis = flopy.mf6.ModflowTdis(sim, pname=\"tdis\",\n",
    "                                  nper=nper, \n",
    "                                  perioddata=perioddata, \n",
    "                                  time_units=time_units)"
   ]
  },
  {
   "cell_type": "markdown",
   "metadata": {},
   "source": [
    "## The Flow Model\n",
    " Now we can create the FloPy MF6 Model Object and add the corresponding IMS package to the simulation."
   ]
  },
  {
   "cell_type": "code",
   "execution_count": 5,
   "metadata": {},
   "outputs": [],
   "source": [
    "# Instantiate the Flopy groundwater flow (gwf) model object, refercing the \"sim\" Simulation Object\n",
    "model_name = 'symp01'\n",
    "gwf = flopy.mf6.ModflowGwf(sim,\n",
    "                            modelname=model_name,\n",
    "                            save_flows=True, print_flows=True)\n",
    "\n",
    "# Instantiate a Flopy `IMS` Package object\n",
    "# Here you can set all the solver settings.\n",
    "ims = flopy.mf6.ModflowIms(sim,\n",
    "                            pname=\"ims\",\n",
    "                            complexity=\"SIMPLE\",\n",
    "                            linear_acceleration=\"BICGSTAB\",)\n",
    "\n",
    "# lastly we need to register the MF6 model to an IMS package in the Simulation\n",
    "sim.register_ims_package(ims, [gwf.name])"
   ]
  },
  {
   "cell_type": "markdown",
   "metadata": {},
   "source": [
    "### The Model Grid\n",
    "So far we have created the Simulation, defined the Simulations time-discretisation and created a Model as part of that Simulation. \n",
    "\n",
    "Now we will start constructing the model itself. The Model will be built by adding packages to it that describe the features of the system. The first step is to define the spatial discretisation, as this is required before trying to assign any of the hydraulic property or stress packages. \n",
    "\n",
    "Recall that we will be using a classical structured grid. A Flopy DIS Object is created with *flopy.mf6.ModflowGwfdis()*. Note that DISV or DISU grids are created with their respective functions, which will be covered in other exercises.\n",
    "\n",
    "To define sptial discretisation we require:\n",
    " - number of layers (3)\n",
    " - number of rows and columns\n",
    " - row and column lenght\n",
    " - elevation of the top of the model\n",
    " - elevation of the bottom of each layer"
   ]
  },
  {
   "cell_type": "code",
   "execution_count": 6,
   "metadata": {},
   "outputs": [
    {
     "name": "stdout",
     "output_type": "stream",
     "text": [
      "Cell size:100 x 100\n",
      "Number of rows:15\n",
      "Number of columns:10\n"
     ]
    }
   ],
   "source": [
    "# set the length units. All model input values must have untis of length in \"meters\"\n",
    "length_units = \"METERS\"\n",
    "# number of layers\n",
    "nlay = 3\n",
    "\n",
    "# define the number of rows/columns\n",
    "# our system covers a square area of 1x1.5 km. The extent in the x and y directions are 1000m and 1500m, respectively.\n",
    "Lx = 1000\n",
    "Ly = 1500\n",
    "# we want our model grid to have cell sizes of 100 x 100 m\n",
    "delr = 100 #row length\n",
    "delc = 100 #column length\n",
    "print(f'Cell size:{delr} x {delc}')\n",
    "# we can compute the number of rows/columns:\n",
    "ncol = int(Lx/delc)\n",
    "nrow = int(Ly/delr)\n",
    "print(f'Number of rows:{nrow}')\n",
    "print(f'Number of columns:{ncol}')\n",
    "\n",
    "# surface elevation of the systme is flat and equal to 50 m above some reference (e.g. sea-level)\n",
    "top = 50\n",
    "# the bottom of the upper-aquifer is at 40m; the aquitard at 35m and the lower aquifer at 0m\n",
    "botm = [40, 35, 0]\n",
    "\n",
    "# create the DIS object\n",
    "dis = flopy.mf6.ModflowGwfdis(\n",
    "                            gwf,\n",
    "                            nlay=nlay,\n",
    "                            nrow=nrow,\n",
    "                            ncol=ncol,\n",
    "                            delr=delr,\n",
    "                            delc=delc,\n",
    "                            top=top,\n",
    "                            botm=botm)"
   ]
  },
  {
   "cell_type": "code",
   "execution_count": 7,
   "metadata": {},
   "outputs": [
    {
     "data": {
      "text/plain": [
       "Layer_1{constant 40}\n",
       "Layer_2{constant 35}\n",
       "Layer_3{constant 0}"
      ]
     },
     "execution_count": 7,
     "metadata": {},
     "output_type": "execute_result"
    }
   ],
   "source": [
    "# Lets check out the layer bottom elevations\n",
    "dis.botm"
   ]
  },
  {
   "cell_type": "markdown",
   "metadata": {},
   "source": [
    "### Packages\n",
    "Now that we have the \"skeleton\" of the model (i.e. the grid) we can assign pacakges to define properties and stresses.\n",
    "\n",
    "For this exercise, we will assign:\n",
    " - initial condiction (IC) package to set initial conditions\n",
    " - node property flow (NPF) package to set hydraulic properties\n",
    " - recharge (RCH) pacakge to assign recharge to the upper layer\n",
    " - river (RIV) package to define the river boundary condition\n",
    " - the output control (OC) package to determine how model outputs are recorded\n",
    "\n",
    "\n"
   ]
  },
  {
   "cell_type": "markdown",
   "metadata": {},
   "source": [
    "#### Array data"
   ]
  },
  {
   "cell_type": "code",
   "execution_count": 8,
   "metadata": {},
   "outputs": [],
   "source": [
    "# Create the initial conditions package\n",
    "# you can set a single value for the entire model\n",
    "strt = 50 \n",
    "# or assign discrete values per layer. For example:\n",
    "strt = [50, 50, 50]\n",
    "# or even set the same value for each cell, by passing an array of shape (nlay, nrow, ncol). side note: we will go into dfferent ways to handle array data in a later exercise\n",
    "# Lets do that, and set initial heads equal to the model top:\n",
    "strt = top * np.ones((nlay, nrow, ncol))\n",
    "\n",
    "\n",
    "# Now we can create the IC package\n",
    "ic = flopy.mf6.ModflowGwfic(gwf, pname=\"ic\", strt=strt)"
   ]
  },
  {
   "cell_type": "code",
   "execution_count": 9,
   "metadata": {},
   "outputs": [],
   "source": [
    "# Next, let's create the NPF pacakge to assign values of hydraulic conductivity (K)\n",
    "# Each layer has different K, so we wish to assign diferent values to each layer. \n",
    "# set the value of k for each layer\n",
    "k = [5, 0.1, 10]\n",
    "\n",
    "# here we can also set the icelltype to determine whether a layer is trated as variably saturated or not.\n",
    "# let us set the top layer as variably saturated (i.e. unconfiend) and the others as saturated\n",
    "icelltype = [1, 0, 0]\n",
    "\n",
    "npf = flopy.mf6.ModflowGwfnpf(gwf, icelltype=icelltype, k=k,\n",
    "                              save_flows=True, \n",
    "                              save_specific_discharge=True) # so that we can plot specific discharge later"
   ]
  },
  {
   "cell_type": "code",
   "execution_count": 10,
   "metadata": {},
   "outputs": [],
   "source": [
    "# Create the recharge package.\n",
    "# For this simple exercise we will simply assign a single uniform value for the entire model run. \n",
    "# To do so we can use the rechage array package.\n",
    "# Other exercises will demonstrate other ways to assign recharge using list-type data\n",
    "recharge = 50/1000/365 # 50mm/yr in m/d\n",
    "\n",
    "# Note that this is flopy.mf6.ModflowGwfrcha(). Different from flopy.mf6.ModflowGwfrch()\n",
    "rch = flopy.mf6.ModflowGwfrcha(gwf, pname='rch', recharge=recharge)"
   ]
  },
  {
   "cell_type": "markdown",
   "metadata": {},
   "source": [
    "#### List data"
   ]
  },
  {
   "cell_type": "code",
   "execution_count": 11,
   "metadata": {},
   "outputs": [],
   "source": [
    "# Lastly, we need to assign the river boundary condition in the upper layer using the RIV package.\n",
    "# The river will be assigned to cells in the upper layer, in row 7 (the middle of the model domain in this case)\n",
    "# Here we will use list data. We will go into greater detail on how to handle list data in a later exercise.\n",
    "\n",
    "riv_row = 7\n",
    "stage = top - 5\n",
    "rbot = botm[0]\n",
    "cond = 0.1 * delr*delc/1\n",
    "\n",
    "riv_spd = []\n",
    "for col in range(ncol):\n",
    "    riv_spd.append(((0, riv_row, col), stage, cond, rbot))\n",
    "\n",
    "riv = flopy.mf6.ModflowGwfriv(gwf, stress_period_data=riv_spd, boundnames=True)"
   ]
  },
  {
   "cell_type": "code",
   "execution_count": 12,
   "metadata": {},
   "outputs": [],
   "source": [
    "# create the output control (OC) package.\n",
    "# Here we define how model outputs are recorded. \n",
    "\n",
    "# Save heads and budget output to binary files and \n",
    "# print heads to the model list file at the end of the stress period.\n",
    "\n",
    "# the name of the binary head file\n",
    "headfile = f\"{gwf.name}.hds\"\n",
    "head_filerecord = [headfile]\n",
    "# the name of the binary budget file\n",
    "budgetfile = f\"{gwf.name}.cbb\"\n",
    "budget_filerecord = [budgetfile]\n",
    "\n",
    "# which outputs are recored to the binary files\n",
    "saverecord = [(\"HEAD\", \"ALL\"), (\"BUDGET\", \"ALL\")]\n",
    "# which outputs are printed in the list file\n",
    "printrecord = [(\"HEAD\", \"LAST\")]\n",
    "oc = flopy.mf6.ModflowGwfoc(gwf,\n",
    "                            saverecord=saverecord,\n",
    "                            head_filerecord=head_filerecord,\n",
    "                            budget_filerecord=budget_filerecord,\n",
    "                            printrecord=printrecord)"
   ]
  },
  {
   "cell_type": "markdown",
   "metadata": {},
   "source": [
    "## Write the Model files"
   ]
  },
  {
   "cell_type": "code",
   "execution_count": 13,
   "metadata": {},
   "outputs": [
    {
     "name": "stdout",
     "output_type": "stream",
     "text": [
      "writing simulation...\n",
      "  writing simulation name file...\n",
      "  writing simulation tdis package...\n",
      "  writing ims package ims...\n",
      "  writing model symp01...\n",
      "    writing model name file...\n",
      "    writing package dis...\n",
      "    writing package ic...\n",
      "    writing package npf...\n",
      "    writing package rch...\n",
      "    writing package riv_0...\n",
      "INFORMATION: maxbound in ('gwf6', 'riv', 'dimensions') changed to 10 based on size of stress_period_data\n",
      "    writing package oc...\n"
     ]
    }
   ],
   "source": [
    "# Write the model files by calling .write_simulation(). You can then inspect the workspace folder to see the MF6 input files written by Flopy. \n",
    "sim.write_simulation()"
   ]
  },
  {
   "cell_type": "markdown",
   "metadata": {},
   "source": [
    "## Run the Model"
   ]
  },
  {
   "cell_type": "code",
   "execution_count": 14,
   "metadata": {},
   "outputs": [
    {
     "name": "stdout",
     "output_type": "stream",
     "text": [
      "FloPy is using the following  executable to run the model: ..\\bin\\mf6.exe\n",
      "                                   MODFLOW 6\n",
      "                U.S. GEOLOGICAL SURVEY MODULAR HYDROLOGIC MODEL\n",
      "                            VERSION 6.2.1 02/18/2021\n",
      "\n",
      "   MODFLOW 6 compiled Feb 18 2021 08:24:05 with IFORT compiler (ver. 19.10.2)\n",
      "\n",
      "This software has been approved for release by the U.S. Geological \n",
      "Survey (USGS). Although the software has been subjected to rigorous \n",
      "review, the USGS reserves the right to update the software as needed \n",
      "pursuant to further analysis and review. No warranty, expressed or \n",
      "implied, is made by the USGS or the U.S. Government as to the \n",
      "functionality of the software and related material nor shall the \n",
      "fact of release constitute any such warranty. Furthermore, the \n",
      "software is released on condition that neither the USGS nor the U.S. \n",
      "Government shall be held liable for any damages resulting from its \n",
      "authorized or unauthorized use. Also refer to the USGS Water \n",
      "Resources Software User Rights Notice for complete use, copyright, \n",
      "and distribution information.\n",
      "\n",
      " \n",
      " Run start date and time (yyyy/mm/dd hh:mm:ss): 2021/08/27 18:57:14\n",
      " \n",
      " Writing simulation list file: mfsim.lst\n",
      " Using Simulation name file: mfsim.nam\n",
      " \n",
      "    Solving:  Stress period:     1    Time step:     1\n",
      " \n",
      " Run end date and time (yyyy/mm/dd hh:mm:ss): 2021/08/27 18:57:14\n",
      " Elapsed run time:  0.083 Seconds\n",
      " \n",
      " Normal termination of simulation.\n"
     ]
    }
   ],
   "source": [
    "success, buff = sim.run_simulation()\n",
    "if not success:\n",
    "    raise Exception(\"MODFLOW 6 did not terminate normally.\")"
   ]
  },
  {
   "cell_type": "markdown",
   "metadata": {},
   "source": [
    "# Post-process model outputs\n",
    "\n",
    "For MODFLOW6, Flopy has built-in methods to get model outputs for some packages using the *.output* attribute. There are other ways in which you can access model ouputs, however for the purposes of this course we will try and keep it as simple as possible. \n",
    "\n",
    "Common ouputs which you will likely wish to access may include:\n",
    " - heads at various times\n",
    " - budget components\n",
    " - specific discharge vectors\n",
    " - and mass, density and so on in transport models "
   ]
  },
  {
   "cell_type": "code",
   "execution_count": 15,
   "metadata": {},
   "outputs": [
    {
     "data": {
      "text/plain": [
       "['zonebudget()', 'budget()', 'head()']"
      ]
     },
     "execution_count": 15,
     "metadata": {},
     "output_type": "execute_result"
    }
   ],
   "source": [
    "# You can check which output functions are available for any given package by using the output.methods() function.\n",
    "# output functions available at the model level:\n",
    "gwf.output.methods()"
   ]
  },
  {
   "cell_type": "code",
   "execution_count": 16,
   "metadata": {},
   "outputs": [
    {
     "data": {
      "text/plain": [
       "['obs()']"
      ]
     },
     "execution_count": 16,
     "metadata": {},
     "output_type": "execute_result"
    }
   ],
   "source": [
    "# for example for the RIV package (although it will be empty because we havent recorded any observations yet):\n",
    "gwf.riv.output.methods()"
   ]
  },
  {
   "cell_type": "markdown",
   "metadata": {},
   "source": [
    "## Heads\n",
    "Depending on the settings in the OC package, simulated heads are recorded in the binary file (in our case named \"symp01.hds\"). \n",
    "We configured outputs to be recorded at all timesteps in the first stress period. \n",
    "As we only have a single steadystate stress period with 1 time step, heads are recorded only once. "
   ]
  },
  {
   "cell_type": "code",
   "execution_count": 17,
   "metadata": {},
   "outputs": [
    {
     "data": {
      "text/plain": [
       "(1, 3, 15, 10)"
      ]
     },
     "execution_count": 17,
     "metadata": {},
     "output_type": "execute_result"
    }
   ],
   "source": [
    "# the head file output can be loaded from the model object:\n",
    "hds = gwf.output.head()\n",
    "\n",
    "# head data can then be accessed using the get_data() or get_alldata() functions\n",
    "# get_alldata() returns an array with all recorded times\n",
    "heads = hds.get_alldata()\n",
    "\n",
    "# get_alldata() returns an array of shape (number of records, nlay, nrow, ncol)\n",
    "heads.shape"
   ]
  },
  {
   "cell_type": "code",
   "execution_count": 18,
   "metadata": {},
   "outputs": [
    {
     "data": {
      "text/plain": [
       "(3, 15, 10)"
      ]
     },
     "execution_count": 18,
     "metadata": {},
     "output_type": "execute_result"
    }
   ],
   "source": [
    "# get_data() returns an array with a single recorded time. Which time to read is passed by the user as either:\n",
    "# an index value, \n",
    "heads = hds.get_data(idx=0)\n",
    "# a tuple of stressperiod and timestep, \n",
    "heads = hds.get_data(kstpkper=(0,0))\n",
    "# or a value of time\n",
    "heads = hds.get_data(totim=1)\n",
    "\n",
    "# get_data() returns an array of shape (nlay, nrow, ncol)\n",
    "heads.shape"
   ]
  },
  {
   "cell_type": "markdown",
   "metadata": {},
   "source": [
    "### Plot heads\n",
    "Flopy has built-in utilities to facilitate plotting. Use the PlotMapView() to plot model outputs.\n",
    "\n",
    "Let us first create a plot of head in the upper layer:"
   ]
  },
  {
   "cell_type": "code",
   "execution_count": 27,
   "metadata": {},
   "outputs": [
    {
     "data": {
      "text/plain": [
       "<matplotlib.collections.LineCollection at 0x1b5ad71dca0>"
      ]
     },
     "execution_count": 27,
     "metadata": {},
     "output_type": "execute_result"
    },
    {
     "data": {
      "image/png": "[encoded data removed]",
      "text/plain": [
       "<Figure size 360x360 with 2 Axes>"
      ]
     },
     "metadata": {
      "needs_background": "light"
     },
     "output_type": "display_data"
    }
   ],
   "source": [
    "fig = plt.figure(figsize=(5, 5), constrained_layout=True)\n",
    "\n",
    "# first instantiate a PlotMapView\n",
    "mm = flopy.plot.PlotMapView(model=gwf)\n",
    "\n",
    "# Plot heads\n",
    "# plot the array of heads \n",
    "head_array = mm.plot_array(heads[0])\n",
    "# add contour lines with contour_array()\n",
    "contours = mm.contour_array(heads, colors='black')\n",
    "# add labels to contour lines\n",
    "plt.clabel(contours, fmt=\"%2.1f\")\n",
    "# add a color bar\n",
    "cb = plt.colorbar(head_array, shrink=0.5, )\n",
    "cb.ax.set_title('Heads')\n",
    "\n",
    "\n",
    "# Plot grid \n",
    "# you can plot BC cells using the plot_bc() \n",
    "mm.plot_bc('RIV', color='blue')\n",
    "# and plot the model grid if desired\n",
    "mm.plot_grid(lw=0.5)"
   ]
  },
  {
   "cell_type": "markdown",
   "metadata": {},
   "source": [
    "### Plot a cross-section\n",
    "Plot a cross section of heads along column 5."
   ]
  },
  {
   "cell_type": "code",
   "execution_count": 20,
   "metadata": {},
   "outputs": [
    {
     "data": {
      "text/plain": [
       "Text(0.5, 1.0, 'Column 5')"
      ]
     },
     "execution_count": 20,
     "metadata": {},
     "output_type": "execute_result"
    },
    {
     "data": {
      "image/png": "[encoded data removed]",
      "text/plain": [
       "<Figure size 360x216 with 2 Axes>"
      ]
     },
     "metadata": {
      "needs_background": "light"
     },
     "output_type": "display_data"
    }
   ],
   "source": [
    "column = 5\n",
    "\n",
    "# create the figure and subplots\n",
    "fig, ax = plt.subplots(1, 1, figsize=(5, 3), constrained_layout=True)\n",
    "\n",
    "# instantiate the a PlotCrosSection object, assign it to the axis and use the \"line\" attribute to define the crossection. ALternatively you could use {\"row\":rownumber} or {\"line\":array of (x, y) tuples with vertices of cross-section}\n",
    "mm = flopy.plot.PlotCrossSection(model=gwf, ax=ax, line={\"column\": column})\n",
    "\n",
    "# plot head array\n",
    "head_array = mm.plot_array(heads)\n",
    "# add color bar\n",
    "cb = plt.colorbar(head_array, shrink=0.5, ax=ax)\n",
    "# add cotour lines and labels\n",
    "contours = mm.contour_array(heads, colors=\"black\")\n",
    "ax.clabel(contours, fmt=\"%2.1f\")\n",
    "\n",
    "# plot grid and BCs\n",
    "quadmesh = mm.plot_bc(\"RIV\")\n",
    "linecollection = mm.plot_grid(lw=0.5, color=\"0.5\")\n",
    "\n",
    "# set the title\n",
    "ax.set_title(f\"Column {column}\")"
   ]
  },
  {
   "cell_type": "markdown",
   "metadata": {},
   "source": [
    "### Plot Specifc discharge\n"
   ]
  },
  {
   "cell_type": "code",
   "execution_count": 21,
   "metadata": {},
   "outputs": [],
   "source": [
    "# get the specific discharge from the cell budget file\n",
    "# first access the binary budget file\n",
    "cbb = gwf.output.budget()\n",
    "\n",
    "# read the specific discahrge data\n",
    "spdis = cbb.get_data(text=\"SPDIS\")[0]\n",
    "\n",
    "# use Flopy's postprocessing functions to get specfici discharge x, y and z vectors\n",
    "qx, qy, qz = flopy.utils.postprocessing.get_specific_discharge(spdis, gwf)"
   ]
  },
  {
   "cell_type": "code",
   "execution_count": 22,
   "metadata": {},
   "outputs": [
    {
     "data": {
      "image/png": "[encoded data removed]",
      "text/plain": [
       "<Figure size 360x360 with 2 Axes>"
      ]
     },
     "metadata": {
      "needs_background": "light"
     },
     "output_type": "display_data"
    }
   ],
   "source": [
    "# Repeat the same steps as above, adding in the specific discharge quiver plot:\n",
    "\n",
    "fig = plt.figure(figsize=(5, 5), constrained_layout=True)\n",
    "# first instantiate a PlotMapView\n",
    "mm = flopy.plot.PlotMapView(model=gwf)\n",
    "\n",
    "# Plot heads\n",
    "# plot the array of heads \n",
    "head_array = mm.plot_array(heads)\n",
    "# add contour lines with contour_array()\n",
    "contours = mm.contour_array(heads, colors='black')\n",
    "# add labels to contour lines\n",
    "plt.clabel(contours, fmt=\"%2.1f\")\n",
    "# add a color bar\n",
    "cb = plt.colorbar(head_array, shrink=0.5, )\n",
    "cb.ax.set_title('Heads')\n",
    "\n",
    "\n",
    "# Plot grid \n",
    "# you can plot BC cells using the plot_bc() \n",
    "mm.plot_bc('RIV', color='blue')\n",
    "# and plot the model grid if desired\n",
    "mm.plot_grid(lw=0.5)\n",
    "\n",
    "################# New Step ##########################\n",
    "# add sepcific discharge vectors using plot_vector()\n",
    "quiver = mm.plot_vector(qx, qy, normalize=False, color='blue')"
   ]
  },
  {
   "cell_type": "markdown",
   "metadata": {},
   "source": [
    "## Read the List Budget file\n",
    "If you need to check the model buget"
   ]
  },
  {
   "cell_type": "code",
   "execution_count": 23,
   "metadata": {},
   "outputs": [
    {
     "data": {
      "text/html": [
       "<div>\n",
       "<style scoped>\n",
       "    .dataframe tbody tr th:only-of-type {\n",
       "        vertical-align: middle;\n",
       "    }\n",
       "\n",
       "    .dataframe tbody tr th {\n",
       "        vertical-align: top;\n",
       "    }\n",
       "\n",
       "    .dataframe thead th {\n",
       "        text-align: right;\n",
       "    }\n",
       "</style>\n",
       "<table border=\"1\" class=\"dataframe\">\n",
       "  <thead>\n",
       "    <tr style=\"text-align: right;\">\n",
       "      <th></th>\n",
       "      <th>RIV_IN</th>\n",
       "      <th>RCH_IN</th>\n",
       "      <th>TOTAL_IN</th>\n",
       "      <th>RIV_OUT</th>\n",
       "      <th>RCH_OUT</th>\n",
       "      <th>TOTAL_OUT</th>\n",
       "      <th>IN-OUT</th>\n",
       "      <th>PERCENT_DISCREPANCY</th>\n",
       "    </tr>\n",
       "  </thead>\n",
       "  <tbody>\n",
       "    <tr>\n",
       "      <th>1970-01-02</th>\n",
       "      <td>0.0</td>\n",
       "      <td>205.479507</td>\n",
       "      <td>205.479507</td>\n",
       "      <td>205.516205</td>\n",
       "      <td>0.0</td>\n",
       "      <td>205.516205</td>\n",
       "      <td>0.036784</td>\n",
       "      <td>-0.02</td>\n",
       "    </tr>\n",
       "  </tbody>\n",
       "</table>\n",
       "</div>"
      ],
      "text/plain": [
       "            RIV_IN      RCH_IN    TOTAL_IN     RIV_OUT  RCH_OUT   TOTAL_OUT  \\\n",
       "1970-01-02     0.0  205.479507  205.479507  205.516205      0.0  205.516205   \n",
       "\n",
       "              IN-OUT  PERCENT_DISCREPANCY  \n",
       "1970-01-02  0.036784                -0.02  "
      ]
     },
     "execution_count": 23,
     "metadata": {},
     "output_type": "execute_result"
    }
   ],
   "source": [
    "mf_list = flopy.utils.Mf6ListBudget(os.path.join(workspace, f\"{gwf.name}.lst\"), timeunit='days')\n",
    "# read as a list\n",
    "incremental, cumulative = mf_list.get_budget()\n",
    "# read as a Pandas DataFrame (much nicer)\n",
    "incrementaldf, cumulativedf = mf_list.get_dataframes()\n",
    "\n",
    "# inspect the incremental budget\n",
    "incrementaldf.head()"
   ]
  },
  {
   "cell_type": "code",
   "execution_count": 24,
   "metadata": {},
   "outputs": [
    {
     "data": {
      "text/html": [
       "<div>\n",
       "<style scoped>\n",
       "    .dataframe tbody tr th:only-of-type {\n",
       "        vertical-align: middle;\n",
       "    }\n",
       "\n",
       "    .dataframe tbody tr th {\n",
       "        vertical-align: top;\n",
       "    }\n",
       "\n",
       "    .dataframe thead th {\n",
       "        text-align: right;\n",
       "    }\n",
       "</style>\n",
       "<table border=\"1\" class=\"dataframe\">\n",
       "  <thead>\n",
       "    <tr style=\"text-align: right;\">\n",
       "      <th></th>\n",
       "      <th>RIV_IN</th>\n",
       "      <th>RCH_IN</th>\n",
       "      <th>TOTAL_IN</th>\n",
       "      <th>RIV_OUT</th>\n",
       "      <th>RCH_OUT</th>\n",
       "      <th>TOTAL_OUT</th>\n",
       "      <th>IN-OUT</th>\n",
       "      <th>PERCENT_DISCREPANCY</th>\n",
       "    </tr>\n",
       "  </thead>\n",
       "  <tbody>\n",
       "    <tr>\n",
       "      <th>1970-01-02</th>\n",
       "      <td>0.0</td>\n",
       "      <td>205.479507</td>\n",
       "      <td>205.479507</td>\n",
       "      <td>205.516205</td>\n",
       "      <td>0.0</td>\n",
       "      <td>205.516205</td>\n",
       "      <td>0.036784</td>\n",
       "      <td>-0.02</td>\n",
       "    </tr>\n",
       "  </tbody>\n",
       "</table>\n",
       "</div>"
      ],
      "text/plain": [
       "            RIV_IN      RCH_IN    TOTAL_IN     RIV_OUT  RCH_OUT   TOTAL_OUT  \\\n",
       "1970-01-02     0.0  205.479507  205.479507  205.516205      0.0  205.516205   \n",
       "\n",
       "              IN-OUT  PERCENT_DISCREPANCY  \n",
       "1970-01-02  0.036784                -0.02  "
      ]
     },
     "execution_count": 24,
     "metadata": {},
     "output_type": "execute_result"
    }
   ],
   "source": [
    "# inspect the cumulative budget. In this case they are the same as the model has a single stress period\n",
    "cumulativedf.head()"
   ]
  }
 ],
 "metadata": {
  "interpreter": {
   "hash": "227dbd2fab8825bf983f485131159c82d0301ad97e15b736ca5b3747747c9c56"
  },
  "kernelspec": {
   "display_name": "Python 3 (ipykernel)",
   "language": "python",
   "name": "python3"
  },
  "language_info": {
   "codemirror_mode": {
    "name": "ipython",
    "version": 3
   },
   "file_extension": ".py",
   "mimetype": "text/x-python",
   "name": "python",
   "nbconvert_exporter": "python",
   "pygments_lexer": "ipython3",
   "version": "3.9.6"
  }
 },
 "nbformat": 4,
 "nbformat_minor": 2
}
