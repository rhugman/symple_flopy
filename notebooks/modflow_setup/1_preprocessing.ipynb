{
 "cells": [
  {
   "cell_type": "code",
   "execution_count": null,
   "id": "67d0c037",
   "metadata": {},
   "outputs": [],
   "source": [
    "import sys\n",
    "sys.path.append('../../dependencies/')\n",
    "import yaml\n",
    "import matplotlib.pyplot as plt\n",
    "import rasterio\n",
    "from rasterio import features\n",
    "import geopandas as gp\n",
    "import pandas as pd\n",
    "from pathlib import Path\n",
    "import numpy as np\n",
    "from shapely.geometry import Point, LineString"
   ]
  },
  {
   "cell_type": "markdown",
   "id": "02a58ec8",
   "metadata": {},
   "source": [
    "# Let's check out the proposed domain to get some coordiante information"
   ]
  },
  {
   "cell_type": "code",
   "execution_count": null,
   "id": "2731b2fd",
   "metadata": {},
   "outputs": [],
   "source": [
    "datapath = Path('../../data/sgn/')"
   ]
  },
  {
   "cell_type": "code",
   "execution_count": null,
   "id": "63ed9177",
   "metadata": {},
   "outputs": [],
   "source": [
    "domain = gp.read_file(datapath / 'shp' / 'Model_domain.shp')"
   ]
  },
  {
   "cell_type": "markdown",
   "id": "ab335922",
   "metadata": {},
   "source": [
    "### what's the projection?"
   ]
  },
  {
   "cell_type": "code",
   "execution_count": null,
   "id": "5d7fa3f2",
   "metadata": {},
   "outputs": [],
   "source": [
    "domain.crs"
   ]
  },
  {
   "cell_type": "markdown",
   "id": "493ee4a7",
   "metadata": {},
   "source": [
    "### and what are the bounding points? We can navigate this using min and max x and y points because we know the rotation is anticlockwise"
   ]
  },
  {
   "cell_type": "code",
   "execution_count": null,
   "id": "9fc7d696",
   "metadata": {},
   "outputs": [],
   "source": [
    "x,y = domain.geometry[0].exterior.coords.xy\n",
    "xul, yul = x[np.argmin(x)],y[np.argmin(x)]\n",
    "xtop, ytop = x[np.argmax(y)],y[np.argmax(y)]\n",
    "xll, yll = x[np.argmin(y)],y[np.argmin(y)]\n",
    "xlr,ylr = x[np.argmax(x)],y[np.argmax(x)]"
   ]
  },
  {
   "cell_type": "code",
   "execution_count": null,
   "id": "dcf974f0",
   "metadata": {},
   "outputs": [],
   "source": [
    "ax = domain.plot(color=None)\n",
    "ax.plot(xul,yul, 'x')\n",
    "ax.plot(xtop,ytop, 'o')\n",
    "ax.plot(xll,yll,'*')\n",
    "ax.plot(xlr,ylr,'d')"
   ]
  },
  {
   "cell_type": "markdown",
   "id": "5e198542",
   "metadata": {},
   "source": [
    "### calculate the angle of rotation from upper left and top vertices"
   ]
  },
  {
   "cell_type": "code",
   "execution_count": null,
   "id": "7debce4b",
   "metadata": {},
   "outputs": [],
   "source": [
    "opp_over_hyp = np.abs(ytop-yul)/np.sqrt((xtop-xul)**2+(ytop-yul)**2)"
   ]
  },
  {
   "cell_type": "code",
   "execution_count": null,
   "id": "515cec1d",
   "metadata": {},
   "outputs": [],
   "source": [
    "opp_over_hyp"
   ]
  },
  {
   "cell_type": "code",
   "execution_count": null,
   "id": "b88e2c2b",
   "metadata": {},
   "outputs": [],
   "source": [
    "rot_angle = np.arcsin(opp_over_hyp)\n",
    "rot_angle = float(rot_angle * 180/np.pi)\n",
    "rot_angle"
   ]
  },
  {
   "cell_type": "markdown",
   "id": "d1f56317",
   "metadata": {},
   "source": [
    "# calculate the total length and width"
   ]
  },
  {
   "cell_type": "code",
   "execution_count": null,
   "id": "9db83bba",
   "metadata": {},
   "outputs": [],
   "source": [
    "length = np.round(np.sqrt((xll-xul)**2+(yll-yul)**2), decimals=-1)\n",
    "width = np.round(np.sqrt((xll-xlr)**2+(yll-ylr)**2), decimals=-1)\n"
   ]
  },
  {
   "cell_type": "markdown",
   "id": "3bf0d903",
   "metadata": {},
   "source": [
    "### check out the recharge and geology"
   ]
  },
  {
   "cell_type": "code",
   "execution_count": null,
   "id": "69769458",
   "metadata": {},
   "outputs": [],
   "source": [
    "rch = gp.read_file(datapath / 'shp' / 'Recharge_4.shp')\n",
    "rch.columns"
   ]
  },
  {
   "cell_type": "code",
   "execution_count": null,
   "id": "e44b81b5",
   "metadata": {},
   "outputs": [],
   "source": [
    "rch.plot(column = 'RCH_mmy', legend=True)\n"
   ]
  },
  {
   "cell_type": "markdown",
   "id": "99dbdafe",
   "metadata": {},
   "source": [
    "### it's easier if we burn this into a raster for `modflow-setup` to handle ATM"
   ]
  },
  {
   "cell_type": "code",
   "execution_count": null,
   "id": "7dcd4fbb",
   "metadata": {},
   "outputs": [],
   "source": [
    "# open layer 2 bottom and read the metadata for the raster\n",
    "bot2_rast = rasterio.open(datapath/ 'raster' / 'Bott_L2_fix.tif') \n",
    "rastermeta = bot2_rast.meta.copy()\n",
    "rastermeta.update(compress='lzw') # set compression to be sure file is small as possible"
   ]
  },
  {
   "cell_type": "code",
   "execution_count": null,
   "id": "a5253122",
   "metadata": {},
   "outputs": [],
   "source": [
    "# set up a tuple of geomoetry/k-value pairs from the geology shapefile\n",
    "rchpolygons = ((geom,value) for geom, value in zip(rch.geometry, rch.RCH_mmy))\n",
    "with rasterio.open(datapath/ 'raster' / 'rch.tif', 'w+', **rastermeta) as ofp:\n",
    "    out_arr = ofp.read(1)\n",
    "    \n",
    "    rchraster = features.rasterize(shapes=rchpolygons,\n",
    "                                       fill=-9999,\n",
    "                                       out=out_arr,\n",
    "                                       transform=ofp.transform)\n",
    "    ofp.write_band(1,rchraster)"
   ]
  },
  {
   "cell_type": "code",
   "execution_count": null,
   "id": "0c49e83d",
   "metadata": {},
   "outputs": [],
   "source": [
    "# confirm we wrote this ok\n",
    "with rasterio.open(datapath/ 'raster' / 'rch.tif') as src:\n",
    "    rch = src.read(1)\n",
    "rch[rch<-1] = np.nan\n",
    "plt.imshow(rch)\n",
    "plt.colorbar()"
   ]
  },
  {
   "cell_type": "markdown",
   "id": "01beb655",
   "metadata": {},
   "source": [
    "### now let's check out the geology"
   ]
  },
  {
   "cell_type": "code",
   "execution_count": null,
   "id": "f8ec10bf",
   "metadata": {},
   "outputs": [],
   "source": [
    "geology = gp.read_file(datapath / 'shp' / 'Geology_250000_clip.shp')\n",
    "geology.columns"
   ]
  },
  {
   "cell_type": "code",
   "execution_count": null,
   "id": "6cbf05c8",
   "metadata": {},
   "outputs": [],
   "source": [
    "geology.plot(column = 'LITOLOGIA', legend=True)"
   ]
  },
  {
   "cell_type": "markdown",
   "id": "6fd6d676",
   "metadata": {},
   "source": [
    "### we can set starting Kh values as: \n",
    "Gravel and sand = 0.0045  \n",
    "Gravel, sand and silt = 0.0023"
   ]
  },
  {
   "cell_type": "code",
   "execution_count": null,
   "id": "38de76a4",
   "metadata": {},
   "outputs": [],
   "source": [
    "geology['k'] = -999999\n",
    "geology.loc[geology.LITOLOGIA == 'Gravel and sand', 'k'] = 0.0045\n",
    "geology.loc[geology.LITOLOGIA == 'Gravel, sand and silt', 'k'] = 0.0023\n",
    "assert geology.k.min()>0"
   ]
  },
  {
   "cell_type": "code",
   "execution_count": null,
   "id": "34d628d4",
   "metadata": {},
   "outputs": [],
   "source": [
    "geology.plot(column='k', legend=True)"
   ]
  },
  {
   "cell_type": "code",
   "execution_count": null,
   "id": "74e79349",
   "metadata": {},
   "outputs": [],
   "source": [
    "# set up a tuple of geomoetry/k-value pairs from the geology shapefile\n",
    "geopolygons = ((geom,value) for geom, value in zip(geology.geometry, geology.k))\n",
    "with rasterio.open(datapath/ 'raster' / 'k_field0.tif', 'w+', **rastermeta) as ofp:\n",
    "    out_arr = ofp.read(1)\n",
    "    \n",
    "    georaster = features.rasterize(shapes=geopolygons,\n",
    "                                       fill=-9999,\n",
    "                                       out=out_arr,\n",
    "                                       transform=ofp.transform)\n",
    "    ofp.write_band(1,georaster)"
   ]
  },
  {
   "cell_type": "code",
   "execution_count": null,
   "id": "26025438",
   "metadata": {},
   "outputs": [],
   "source": [
    "# confirm we wrote this ok\n",
    "with rasterio.open(datapath/ 'raster' / 'k_field0.tif') as src:\n",
    "    k0 = src.read(1)\n",
    "k0[k0<-1] = np.nan\n",
    "plt.imshow(k0)\n",
    "plt.colorbar()"
   ]
  },
  {
   "cell_type": "markdown",
   "id": "9a41f856",
   "metadata": {},
   "source": [
    "### for now, we will assign constant values to layers 2 and 3"
   ]
  },
  {
   "cell_type": "code",
   "execution_count": null,
   "id": "5b895118",
   "metadata": {},
   "outputs": [],
   "source": [
    "k1 = np.ones_like(k0) * 1e-8 # aquitard\n",
    "k2 = np.ones_like(k0) * 2.3e-3 # deep aquifer"
   ]
  },
  {
   "cell_type": "code",
   "execution_count": null,
   "id": "b9b597be",
   "metadata": {},
   "outputs": [],
   "source": [
    "with rasterio.open(datapath/ 'raster' / 'k_field1.tif', 'w+', **rastermeta) as ofp:\n",
    "    ofp.write_band(1, k1)\n",
    "with rasterio.open(datapath/ 'raster' / 'k_field2.tif', 'w+', **rastermeta) as ofp:\n",
    "    ofp.write_band(1, k2)\n"
   ]
  },
  {
   "cell_type": "code",
   "execution_count": null,
   "id": "8bdc99fd",
   "metadata": {},
   "outputs": [],
   "source": []
  },
  {
   "cell_type": "code",
   "execution_count": null,
   "id": "82363f35",
   "metadata": {},
   "outputs": [],
   "source": []
  },
  {
   "cell_type": "markdown",
   "id": "096a8e01",
   "metadata": {},
   "source": [
    "### and let's see where the river is"
   ]
  },
  {
   "cell_type": "code",
   "execution_count": null,
   "id": "eed3d91b",
   "metadata": {},
   "outputs": [],
   "source": [
    "riv = gp.read_file(datapath / 'shp' / 'River_Lambro.shp')\n",
    "riv"
   ]
  },
  {
   "cell_type": "code",
   "execution_count": null,
   "id": "97befd29",
   "metadata": {},
   "outputs": [],
   "source": [
    "ax = geology.plot(column='k', legend=True)\n",
    "riv.plot(ax=ax)"
   ]
  },
  {
   "cell_type": "markdown",
   "id": "2b134f72",
   "metadata": {},
   "source": [
    "### we need to add some information to the river"
   ]
  },
  {
   "cell_type": "markdown",
   "id": "56bde4a2",
   "metadata": {},
   "source": [
    "#### first break up into a handful of segments"
   ]
  },
  {
   "cell_type": "code",
   "execution_count": null,
   "id": "9c158997",
   "metadata": {},
   "outputs": [],
   "source": [
    "riv1 = riv.iloc[0].geometry"
   ]
  },
  {
   "cell_type": "code",
   "execution_count": null,
   "id": "094f31a2",
   "metadata": {},
   "outputs": [],
   "source": [
    "rivpts = [Point(i) for i in riv1.coords]\n",
    "# add a starting point and ending point each outside the domain\n",
    "newpt = Point(rivpts[0].coords[0][0],rivpts[0].coords[0][1]+150)\n",
    "rivpts.insert(0,newpt)\n",
    "newpt = Point(rivpts[-1].coords[0][0]+150,rivpts[-1].coords[0][1]-150)\n",
    "rivpts.append(newpt)"
   ]
  },
  {
   "cell_type": "code",
   "execution_count": null,
   "id": "582af277",
   "metadata": {},
   "outputs": [],
   "source": [
    "rivsegs = []\n",
    "totpts = len(rivpts)/10\n",
    "previous_seg = 0\n",
    "for i in range(1,10):\n",
    "    tmppts = rivpts[previous_seg:int(i*totpts)]\n",
    "    previous_seg = int(i*totpts)-1\n",
    "    rivsegs.append(LineString(zip([c.coords[0][0] for c in tmppts],\n",
    "                                 [c.coords[0][1] for c in tmppts])))\n",
    "tmppts = rivpts[previous_seg:-1]\n",
    "rivsegs.append(LineString(zip([c.coords[0][0] for c in tmppts],\n",
    "                                 [c.coords[0][1] for c in tmppts])))"
   ]
  },
  {
   "cell_type": "code",
   "execution_count": null,
   "id": "6783d0ac",
   "metadata": {},
   "outputs": [],
   "source": [
    "riv_divided = gp.GeoDataFrame({'geometry':rivsegs,\n",
    "                               'segname': [i+1+1000 for i in range(len(rivsegs))]},\n",
    "                                                                      crs=riv.crs)"
   ]
  },
  {
   "cell_type": "code",
   "execution_count": null,
   "id": "2d54082d",
   "metadata": {},
   "outputs": [],
   "source": [
    "riv_divided.plot(column='segname', legend=True)"
   ]
  },
  {
   "cell_type": "markdown",
   "id": "26d54537",
   "metadata": {},
   "source": [
    "#### now set up routing"
   ]
  },
  {
   "cell_type": "code",
   "execution_count": null,
   "id": "0929e1c6",
   "metadata": {},
   "outputs": [],
   "source": [
    "riv_divided ['from_id'] = [i+1000 for i in range(len(riv_divided))]\n",
    "riv_divided.loc[0, 'from_id'] = 0\n",
    "riv_divided ['to_id'] = [i+2+1000 for i in range(len(riv_divided))]\n",
    "riv_divided.loc[9, 'to_id'] = 0\n",
    "# wild guess on river width\n",
    "riv_divided['streamwid'] = 15"
   ]
  },
  {
   "cell_type": "code",
   "execution_count": null,
   "id": "c5aef3ec",
   "metadata": {},
   "outputs": [],
   "source": [
    "riv_divided"
   ]
  },
  {
   "cell_type": "code",
   "execution_count": null,
   "id": "3e4ebd25",
   "metadata": {},
   "outputs": [],
   "source": [
    "riv_divided.to_file(datapath / 'shp' / 'River_Lambro_segmented.shp')"
   ]
  },
  {
   "cell_type": "markdown",
   "id": "46880d41",
   "metadata": {},
   "source": [
    "## let's take a quick look at the raster data"
   ]
  },
  {
   "cell_type": "code",
   "execution_count": null,
   "id": "582fa845",
   "metadata": {},
   "outputs": [],
   "source": [
    "with rasterio.open(datapath/ 'raster' / 'DTM_domain.tif') as src:\n",
    "    modtop = src.read(1)\n",
    "plt.imshow(modtop)\n",
    "plt.colorbar()"
   ]
  },
  {
   "cell_type": "code",
   "execution_count": null,
   "id": "d9b11841",
   "metadata": {},
   "outputs": [],
   "source": [
    "with rasterio.open(datapath/ 'raster' / 'Bott_L1_fix.tif') as src:\n",
    "    bot1 = src.read(1)\n",
    "plt.imshow(bot1)\n",
    "plt.colorbar()"
   ]
  },
  {
   "cell_type": "code",
   "execution_count": null,
   "id": "af5da708",
   "metadata": {},
   "outputs": [],
   "source": [
    "with rasterio.open(datapath/ 'raster' / 'Bott_L2_fix.tif') as src:\n",
    "    bot2 = src.read(1)\n",
    "plt.imshow(bot2)\n",
    "plt.colorbar()"
   ]
  },
  {
   "cell_type": "markdown",
   "id": "7b27d0b7",
   "metadata": {},
   "source": [
    "### we need a raster of the bottom of layer 2 kicked down by 60m to make the bottom of layer 3"
   ]
  },
  {
   "cell_type": "code",
   "execution_count": null,
   "id": "b27aeef1",
   "metadata": {},
   "outputs": [],
   "source": [
    "# open layer 2 again and read the metadata for the raster\n",
    "bot2_rast = rasterio.open(datapath/ 'raster' / 'Bott_L2_fix.tif') \n",
    "meta_lay3 = bot2_rast.meta.copy()\n",
    "meta_lay3.update(compress='lzw') # set compression to be sure file is small as possible\n",
    "bot2_rast.close()"
   ]
  },
  {
   "cell_type": "code",
   "execution_count": null,
   "id": "19c1449b",
   "metadata": {},
   "outputs": [],
   "source": [
    "# now subtract 60m from layer 2 and write out layer 3\n",
    "bot3 = bot2-60.\n",
    "plt.imshow(bot3)\n",
    "plt.colorbar()"
   ]
  },
  {
   "cell_type": "code",
   "execution_count": null,
   "id": "f1d86397",
   "metadata": {},
   "outputs": [],
   "source": [
    "with rasterio.open(datapath/ 'raster' / 'Bott_L3_fix.tif', 'w+', **meta_lay3) as ofp:\n",
    "    ofp.write_band(1, bot3)\n",
    "    "
   ]
  },
  {
   "cell_type": "markdown",
   "id": "d866adeb",
   "metadata": {},
   "source": [
    "### now a quick check reading back in to make sure that worked"
   ]
  },
  {
   "cell_type": "code",
   "execution_count": null,
   "id": "f65117f1",
   "metadata": {},
   "outputs": [],
   "source": [
    "with rasterio.open(datapath/ 'raster' / 'Bott_L3_fix.tif') as src:\n",
    "    bot3 = src.read(1)\n",
    "plt.imshow(bot3)\n",
    "plt.colorbar()"
   ]
  },
  {
   "cell_type": "markdown",
   "id": "72a2b819",
   "metadata": {},
   "source": [
    "### we need a csv file for the well package"
   ]
  },
  {
   "cell_type": "code",
   "execution_count": null,
   "id": "f6ff554a",
   "metadata": {},
   "outputs": [],
   "source": [
    "wells = gp.read_file(datapath / 'shp' / 'wells.shp')"
   ]
  },
  {
   "cell_type": "code",
   "execution_count": null,
   "id": "45a77a42",
   "metadata": {},
   "outputs": [],
   "source": [
    "ax = domain.plot(facecolor=\"none\", edgecolor='black')\n",
    "wells.plot( ax=ax)"
   ]
  },
  {
   "cell_type": "code",
   "execution_count": null,
   "id": "51093e2e",
   "metadata": {},
   "outputs": [],
   "source": [
    "wells.columns"
   ]
  },
  {
   "cell_type": "code",
   "execution_count": null,
   "id": "10250e0e",
   "metadata": {},
   "outputs": [],
   "source": [
    "wells.WellName = wells.WellName.apply(lambda x: x.lower())"
   ]
  },
  {
   "cell_type": "code",
   "execution_count": null,
   "id": "492e2783",
   "metadata": {},
   "outputs": [],
   "source": [
    "well_metadata = pd.read_csv(datapath / 'wells_with_elev.dat', index_col=0)\n",
    "well_metadata.head()"
   ]
  },
  {
   "cell_type": "code",
   "execution_count": null,
   "id": "8a38b071",
   "metadata": {},
   "outputs": [],
   "source": [
    "wells.head()"
   ]
  },
  {
   "cell_type": "markdown",
   "id": "32117d28",
   "metadata": {},
   "source": [
    "#### trim out the non pumping wells"
   ]
  },
  {
   "cell_type": "code",
   "execution_count": null,
   "id": "3b757c52",
   "metadata": {},
   "outputs": [],
   "source": [
    "len(well_metadata)"
   ]
  },
  {
   "cell_type": "code",
   "execution_count": null,
   "id": "90bba90e",
   "metadata": {},
   "outputs": [],
   "source": [
    "well_metadata = well_metadata.loc[well_metadata.q != 0]\n",
    "len(well_metadata)"
   ]
  },
  {
   "cell_type": "code",
   "execution_count": null,
   "id": "df6b1a27",
   "metadata": {},
   "outputs": [],
   "source": [
    "well_metadata.head()"
   ]
  },
  {
   "cell_type": "code",
   "execution_count": null,
   "id": "b4e43e00",
   "metadata": {},
   "outputs": [],
   "source": [
    "well_data = well_metadata.merge(wells[['X','Y','WellName']], left_on='rootname', right_on='WellName')"
   ]
  },
  {
   "cell_type": "code",
   "execution_count": null,
   "id": "86f56d08",
   "metadata": {},
   "outputs": [],
   "source": [
    "well_data"
   ]
  },
  {
   "cell_type": "code",
   "execution_count": null,
   "id": "8a41d894",
   "metadata": {},
   "outputs": [],
   "source": [
    "well_data = well_data.rename(columns = {'X':'x', 'Y':'y','laytop':'screen_top','laybot':'screen_botm'})"
   ]
  },
  {
   "cell_type": "code",
   "execution_count": null,
   "id": "8fcaa640",
   "metadata": {},
   "outputs": [],
   "source": [
    "# need to add datetime for pumping\n",
    "well_data['datetime'] = '2021-01-01'\n",
    "well_data['enddatetime'] = '2021-12-31'"
   ]
  },
  {
   "cell_type": "code",
   "execution_count": null,
   "id": "6e5b160e",
   "metadata": {},
   "outputs": [],
   "source": [
    "well_data"
   ]
  },
  {
   "cell_type": "code",
   "execution_count": null,
   "id": "0b852bdd",
   "metadata": {},
   "outputs": [],
   "source": [
    "well_data[['q','x','y','boundname','screen_top','screen_botm', 'enddatetime','datetime','laymidpt']].to_csv(datapath / 'wells_nonzero.csv')"
   ]
  },
  {
   "cell_type": "markdown",
   "id": "5c19fee2",
   "metadata": {},
   "source": [
    "# Now we write the blocks for the model-building YML configuration file"
   ]
  },
  {
   "cell_type": "markdown",
   "id": "5eef221d",
   "metadata": {},
   "source": [
    "# let's set a lateral discretization"
   ]
  },
  {
   "cell_type": "code",
   "execution_count": null,
   "id": "a97412ed",
   "metadata": {},
   "outputs": [],
   "source": [
    "dxdy = 50"
   ]
  },
  {
   "cell_type": "code",
   "execution_count": null,
   "id": "82581f6f",
   "metadata": {},
   "outputs": [],
   "source": [
    "# use the technique at this link to preserve order of the YML output\n",
    "# to make it easier for human readability\n",
    "#https://stackoverflow.com/questions/31605131/dumping-a-dictionary-to-a-yaml-file-while-preserving-order/31609484\n",
    "\n",
    "from collections import OrderedDict\n",
    "def represent_dictionary_order(self, dict_data):\n",
    "    return self.represent_mapping('tag:yaml.org,2002:map', dict_data.items())\n",
    "   "
   ]
  },
  {
   "cell_type": "code",
   "execution_count": null,
   "id": "67da9f9e",
   "metadata": {},
   "outputs": [],
   "source": [
    "# start with an empty dictionary\n",
    "config_data = OrderedDict()"
   ]
  },
  {
   "cell_type": "code",
   "execution_count": null,
   "id": "07d4fd90",
   "metadata": {},
   "outputs": [],
   "source": [
    "# make subdictionaries for each section\n",
    "# SIMULATION BLOCK \n",
    "config_data['simulation'] = dict()\n",
    "config_data['simulation']['sim_name'] = f'sgn_{dxdy}_sim'\n",
    "config_data['simulation']['sim_ws'] = '../../models/sgn_mfsetup'\n",
    "config_data['simulation']['version'] = 'mf6'\n",
    "config_data['simulation']['options'] = dict()\n",
    "config_data['simulation']['options']['continue'] = True\n",
    "\n"
   ]
  },
  {
   "cell_type": "code",
   "execution_count": null,
   "id": "4d27bdcf",
   "metadata": {},
   "outputs": [],
   "source": [
    "# MODEL BLOCK\n",
    "config_data['model'] = dict()\n",
    "config_data['model']['external_path'] = './' \n",
    "config_data['model']['modelname'] = f'sgn_{dxdy}'\n",
    "config_data['model']['relative_external_filepaths'] = True\n",
    "config_data['model']['simulation'] = f'sgn_{dxdy}_sim'\n",
    "\n",
    "# options subblock\n",
    "config_data['model']['options'] = dict()\n",
    "config_data['model']['options']['newton'] = True\n",
    "config_data['model']['options']['newton_under_relaxation'] = True\n",
    "config_data['model']['options']['print_input'] = True\n",
    "config_data['model']['options']['save_flows'] = True\n",
    "# packages block\n",
    "config_data['model']['packages'] = ['dis', 'ims', 'ic', 'wel', 'oc', 'npf', 'rch', 'sfr']\n"
   ]
  },
  {
   "cell_type": "code",
   "execution_count": null,
   "id": "93c6eef4",
   "metadata": {},
   "outputs": [],
   "source": [
    "config_data['intermediate_data'] = dict()\n",
    "config_data['intermediate_data']['output_folder'] = 'original/'"
   ]
  },
  {
   "cell_type": "code",
   "execution_count": null,
   "id": "1273f50d",
   "metadata": {},
   "outputs": [],
   "source": [
    "# set up the grid\n",
    "config_data['setup_grid'] = dict()\n",
    "config_data['setup_grid']['epsg'] = domain.crs.to_epsg() # read in from the domain crs\n",
    "config_data['setup_grid']['rotation'] = float(np.round(rot_angle, decimals=5)) # calculated above\n",
    "config_data['setup_grid']['xoff'] = xll # calculated above - lower left corner\n",
    "config_data['setup_grid']['yoff'] = yll # calculated above - lower left corner"
   ]
  },
  {
   "cell_type": "code",
   "execution_count": null,
   "id": "04bfde52",
   "metadata": {},
   "outputs": [],
   "source": [
    "# set up the discretization\n",
    "config_data['dis'] = dict()"
   ]
  },
  {
   "cell_type": "code",
   "execution_count": null,
   "id": "528b4e89",
   "metadata": {},
   "outputs": [],
   "source": [
    "#dimensions block\n",
    "config_data['dis']['dimensions'] = dict()\n",
    "# from the calcs above and using the specified cell spacing\n",
    "config_data['dis']['dimensions']['ncol'] = int(np.round(width/dxdy) )\n",
    "config_data['dis']['dimensions']['nrow'] = int(np.round(length/dxdy) )\n",
    "config_data['dis']['dimensions']['nlay'] = 3\n",
    "\n",
    "config_data['dis']['drop_thin_cells'] =  True\n",
    "config_data['dis']['minimum_layer_thickness'] = 1.0\n",
    "config_data['dis']['remake_top'] = True\n",
    "\n",
    "config_data['dis']['griddata'] = dict()\n",
    "config_data['dis']['griddata']['delr'] = dxdy\n",
    "config_data['dis']['griddata']['delc'] = dxdy\n",
    "\n",
    "config_data['dis']['options'] = dict()\n",
    "config_data['dis']['options']['length_units'] = 'meters'"
   ]
  },
  {
   "cell_type": "code",
   "execution_count": null,
   "id": "60309029",
   "metadata": {},
   "outputs": [],
   "source": [
    "# now the source data for the dimenstions block above\n",
    "config_data['dis']['source_data'] = dict()\n",
    "config_data['dis']['source_data']['top'] = dict()\n",
    "config_data['dis']['source_data']['top']['filename'] = \\\n",
    "            str(datapath/ 'raster' / 'DTM_domain.tif')\n",
    "config_data['dis']['source_data']['top']['elevation_units'] = 'meters'\n",
    "\n",
    "config_data['dis']['source_data']['botm'] = dict()\n",
    "config_data['dis']['source_data']['botm']['filenames'] = dict()\n",
    "config_data['dis']['source_data']['botm']['filenames'][0] =\\\n",
    "            str(datapath/ 'raster' / 'Bott_L1_fix.tif')\n",
    "config_data['dis']['source_data']['botm']['filenames'][1] =\\\n",
    "            str(datapath/ 'raster' / 'Bott_L2_fix.tif')\n",
    "config_data['dis']['source_data']['botm']['filenames'][2] =\\\n",
    "            str(datapath/ 'raster' / 'Bott_L3_fix.tif')\n",
    "\n",
    "\n",
    "config_data['dis']['source_data']['botm']['elevation_units'] = 'meters'"
   ]
  },
  {
   "cell_type": "code",
   "execution_count": null,
   "id": "5e669f42",
   "metadata": {},
   "outputs": [],
   "source": [
    "# time discretization - simple for steady state\n",
    "config_data['tdis'] = dict()\n",
    "config_data['tdis']['options'] = dict()\n",
    "config_data['tdis']['options']['start_date_time'] = '2021-01-01'\n",
    "config_data['tdis']['options']['time_units'] = 'seconds'\n",
    "config_data['tdis']['perioddata'] = dict()\n",
    "\n",
    "config_data['tdis']['perioddata']['nper'] = 1\n",
    "config_data['tdis']['perioddata']['perlen'] = 3.154e+7\n",
    "config_data['tdis']['perioddata']['nstp'] = 1\n",
    "config_data['tdis']['perioddata']['steady'] = True\n",
    "config_data['tdis']['perioddata']['tsmult'] = 1\n"
   ]
  },
  {
   "cell_type": "code",
   "execution_count": null,
   "id": "ce679ff4",
   "metadata": {},
   "outputs": [],
   "source": [
    "# set in initial conditions as top of the model  for now\n",
    "config_data['ic'] = dict()\n",
    "config_data['ic']['strt_filename_fmt'] = \\\n",
    "    str(datapath/ 'raster' / 'DTM_domain.tif')\n",
    "\n"
   ]
  },
  {
   "cell_type": "code",
   "execution_count": null,
   "id": "84fa1d64",
   "metadata": {},
   "outputs": [],
   "source": [
    "# add in the wells\n",
    "wellfile = str(datapath / 'wells_nonzero.csv')\n",
    "config_data['wel'] = dict()\n",
    "config_data['wel']['options'] = dict()\n",
    "config_data['wel']['options']['print_input'] = True\n",
    "config_data['wel']['options']['print_flows'] = True\n",
    "config_data['wel']['options']['save_flows'] = True\n",
    "\n",
    "config_data['wel']['source_data'] = dict()\n",
    "config_data['wel']['source_data']['csvfiles'] = dict()\n",
    "\n",
    "config_data['wel']['source_data']['csvfiles']['filenames'] = [wellfile]\n",
    "config_data['wel']['source_data']['csvfiles']['volume_units'] = 'meters'\n",
    "\n",
    "config_data['wel']['source_data']['csvfiles']['time_units'] = 'seconds'\n",
    "config_data['wel']['source_data']['csvfiles']['data_column'] = 'q'\n",
    "config_data['wel']['source_data']['csvfiles']['id_column'] = 'boundname'\n",
    "config_data['wel']['source_data']['csvfiles']['datetime_column'] = 'datetime'\n",
    "config_data['wel']['source_data']['csvfiles']['end_datetime_column'] = 'enddatetime'\n",
    "config_data['wel']['source_data']['csvfiles']['period_stats'] = dict()\n",
    "config_data['wel']['source_data']['csvfiles']['period_stats'][0] = \\\n",
    "    ['mean','2020-12-31', '2022-01-01']\n",
    "\n",
    "\n",
    "\n",
    "\n",
    "config_data['wel']['source_data']['csvfiles']['vertical_flux_distribution'] = dict()\n",
    "config_data['wel']['source_data']['csvfiles']['vertical_flux_distribution']['across_layers'] = False\n",
    "config_data['wel']['source_data']['csvfiles']['vertical_flux_distribution']['distribute_by'] = 'transmissivity'\n",
    "config_data['wel']['source_data']['csvfiles']['vertical_flux_distribution']['screen_top_col'] = 'screen_top'\n",
    "config_data['wel']['source_data']['csvfiles']['vertical_flux_distribution']['screen_botm_col'] = 'screen_botm'\n",
    "config_data['wel']['source_data']['csvfiles']['vertical_flux_distribution']['screen_botm_col'] = 'screen_botm'\n",
    "\n",
    "#config_data['wel']['source_data']['csvfiles']['vertical_flux_distribution']['minimum_layer_thickess'] = 10\n"
   ]
  },
  {
   "cell_type": "code",
   "execution_count": null,
   "id": "3a6d3c56",
   "metadata": {},
   "outputs": [],
   "source": [
    "# output control\n",
    "config_data['oc'] = dict()\n",
    "config_data['oc']['budget_fileout_fmt'] = '{}.cbc'\n",
    "config_data['oc']['head_fileout_fmt'] = '{}.hds'\n",
    "config_data['oc']['saverecord'] = dict()\n",
    "config_data['oc']['saverecord'][0] = dict()\n",
    "\n",
    "config_data['oc']['saverecord'][0]['budget'] = 'last'\n",
    "config_data['oc']['saverecord'][0]['head'] = 'last'\n",
    "\n"
   ]
  },
  {
   "cell_type": "code",
   "execution_count": null,
   "id": "1c584b1f",
   "metadata": {},
   "outputs": [],
   "source": [
    "#node property flow\n",
    "geology_file = str(datapath / 'raster' / 'k_field{}.tif')\n",
    "config_data['npf'] = dict()\n",
    "config_data['npf']['source_data'] = dict()\n",
    "config_data['npf']['source_data']['k'] = dict()\n",
    "\n",
    "config_data['npf']['source_data']['k']['filenames'] = dict()\n",
    "config_data['npf']['source_data']['k']['filenames'][0] = geology_file.format(0)\n",
    "config_data['npf']['source_data']['k']['filenames'][1] = geology_file.format(1)\n",
    "config_data['npf']['source_data']['k']['filenames'][2] = geology_file.format(2)\n",
    "\n"
   ]
  },
  {
   "cell_type": "code",
   "execution_count": null,
   "id": "7aa175af",
   "metadata": {},
   "outputs": [],
   "source": [
    "# recharge\n",
    "rch_file = str(datapath / 'raster' / 'rch.tif')\n",
    "config_data['rch'] = dict()\n",
    "config_data['rch']['options'] = dict()\n",
    "config_data['rch']['options']['print_output'] = True\n",
    "config_data['rch']['options']['print_flows'] = False\n",
    "config_data['rch']['options']['save_flows'] = True\n",
    "config_data['rch']['options']['readasarrays'] = True\n",
    "config_data['rch']['source_data'] = dict()\n",
    "config_data['rch']['source_data']['recharge'] = dict()\n",
    "config_data['rch']['source_data']['recharge']['filenames'] = dict()\n",
    "config_data['rch']['source_data']['recharge']['filenames'][0] = rch_file\n",
    "config_data['rch']['source_data']['recharge']['length_units'] = 'millimeters'\n",
    "config_data['rch']['source_data']['recharge']['time_units'] = 'years'\n",
    "config_data['rch']['source_data']['recharge']['period_stats'] = dict()\n",
    "config_data['rch']['source_data']['recharge']['period_stats'][0] = \\\n",
    "    ['mean','2020-12-31', '2022-01-01']\n"
   ]
  },
  {
   "cell_type": "code",
   "execution_count": null,
   "id": "8f52fc29",
   "metadata": {},
   "outputs": [],
   "source": [
    "# streamflow routing\n",
    "rivfile = str(datapath / 'shp' / 'River_Lambro_segmented.shp')"
   ]
  },
  {
   "cell_type": "code",
   "execution_count": null,
   "id": "9be496f1",
   "metadata": {},
   "outputs": [],
   "source": [
    "# for SFR observations, we need to make a CSV file with the segments identified\n",
    "inriv = gp.read_file(rivfile)\n",
    "inriv.head()"
   ]
  },
  {
   "cell_type": "code",
   "execution_count": null,
   "id": "8ed47573",
   "metadata": {},
   "outputs": [],
   "source": [
    "rivsegfile = str(datapath / 'csv' / 'river_segments.csv')\n",
    "inriv['segname'].to_csv(rivsegfile)"
   ]
  },
  {
   "cell_type": "code",
   "execution_count": null,
   "id": "c0269d6e",
   "metadata": {},
   "outputs": [],
   "source": [
    "\n",
    "config_data['sfr'] = dict()\n",
    "config_data['sfr']['source_data'] = dict()\n",
    "config_data['sfr']['source_data']['flowlines'] = dict()\n",
    "config_data['sfr']['source_data']['flowlines']['filename'] = rivfile\n",
    "config_data['sfr']['source_data']['flowlines']['id_column'] = 'segname'\n",
    "config_data['sfr']['source_data']['flowlines']['routing_column'] = 'to_id'\n",
    "config_data['sfr']['source_data']['flowlines']['width1'] = 'streamwid'\n",
    "config_data['sfr']['source_data']['flowlines']['width2'] = 'streamwid'\n",
    "\n",
    "\n",
    "config_data['sfr']['source_data']['dem'] = dict()\n",
    "config_data['sfr']['source_data']['dem']['filename'] = \\\n",
    "         str(datapath/ 'raster' / 'DTM_domain.tif')\n",
    "config_data['sfr']['source_data']['dem']['elevation_units'] = 'meters'\n",
    "\n",
    "config_data['sfr']['source_data']['observations'] = dict()\n",
    "config_data['sfr']['source_data']['observations']['filename'] = rivsegfile\n",
    "config_data['sfr']['source_data']['observations']['obstype'] = ['sfr','outflow', 'downstream-flow','ext-outflow']\n",
    "config_data['sfr']['source_data']['observations']['line_id_column'] = 'segname'\n",
    "config_data['sfr']['source_data']['observations']['obsname_column'] = 'segname'\n",
    "\n",
    "config_data['sfr']['set_streambed_top_elevations_from_dem'] = True\n",
    "\n"
   ]
  },
  {
   "cell_type": "code",
   "execution_count": null,
   "id": "1fda6c14",
   "metadata": {},
   "outputs": [],
   "source": [
    "# solver settings\n",
    "config_data['ims'] = dict()\n",
    "config_data['ims']['options'] = dict()\n",
    "config_data['ims']['options']['print_options'] = 'all'\n",
    "config_data['ims']['options']['complexity'] = 'moderate'\n",
    "config_data['ims']['nonlinear'] = dict()\n",
    "config_data['ims']['nonlinear']['outer_dvclose'] = 0.01\n",
    "config_data['ims']['linear'] = dict()\n",
    "config_data['ims']['linear']['inner_dvclose'] = 0.00001\n"
   ]
  },
  {
   "cell_type": "code",
   "execution_count": null,
   "id": "30f0a041",
   "metadata": {},
   "outputs": [],
   "source": [
    "yaml.add_representer(OrderedDict, represent_dictionary_order)\n",
    "with open('sgn_config.yml', 'w') as outfile:\n",
    "    yaml.dump(config_data, outfile, default_flow_style=False)"
   ]
  },
  {
   "cell_type": "code",
   "execution_count": null,
   "id": "f0a7124e",
   "metadata": {},
   "outputs": [],
   "source": []
  },
  {
   "cell_type": "code",
   "execution_count": null,
   "id": "ab12633b",
   "metadata": {},
   "outputs": [],
   "source": []
  }
 ],
 "metadata": {
  "kernelspec": {
   "display_name": "Python 3 (ipykernel)",
   "language": "python",
   "name": "python3"
  },
  "language_info": {
   "codemirror_mode": {
    "name": "ipython",
    "version": 3
   },
   "file_extension": ".py",
   "mimetype": "text/x-python",
   "name": "python",
   "nbconvert_exporter": "python",
   "pygments_lexer": "ipython3",
   "version": "3.9.2"
  }
 },
 "nbformat": 4,
 "nbformat_minor": 5
}
