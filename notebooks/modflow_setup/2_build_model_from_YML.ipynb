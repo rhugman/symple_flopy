{
 "cells": [
  {
   "cell_type": "code",
   "execution_count": 1,
   "id": "f96b3e8b",
   "metadata": {},
   "outputs": [
    {
     "name": "stderr",
     "output_type": "stream",
     "text": [
      "/Users/JWhite/Dev/symple_flopy/notebooks/modflow_setup/../../dependencies/gisutils/__init__.py:14: DeprecationWarning: The 'project' module was renamed to 'projection' to avoid confusion with the project() function.\n",
      "  warnings.warn(\"The 'project' module was renamed to 'projection' \"\n",
      "/Users/JWhite/Dev/symple_flopy/notebooks/modflow_setup/../../dependencies/gisutils/__init__.py:14: DeprecationWarning: The 'project' module was renamed to 'projection' to avoid confusion with the project() function.\n",
      "  warnings.warn(\"The 'project' module was renamed to 'projection' \"\n",
      "/Users/JWhite/Dev/symple_flopy/notebooks/modflow_setup/../../dependencies/gisutils/__init__.py:14: DeprecationWarning: The 'project' module was renamed to 'projection' to avoid confusion with the project() function.\n",
      "  warnings.warn(\"The 'project' module was renamed to 'projection' \"\n",
      "/Users/JWhite/Dev/symple_flopy/notebooks/modflow_setup/../../dependencies/gisutils/__init__.py:14: DeprecationWarning: The 'project' module was renamed to 'projection' to avoid confusion with the project() function.\n",
      "  warnings.warn(\"The 'project' module was renamed to 'projection' \"\n",
      "/Users/JWhite/opt/miniconda3/envs/symple/lib/python3.9/site-packages/rasterstats/io.py:24: DeprecationWarning: Using or importing the ABCs from 'collections' instead of from 'collections.abc' is deprecated since Python 3.3, and in 3.10 it will stop working\n",
      "  from collections import Iterable, Mapping\n",
      "/Users/JWhite/opt/miniconda3/envs/symple/lib/python3.9/site-packages/rasterstats/io.py:24: DeprecationWarning: Using or importing the ABCs from 'collections' instead of from 'collections.abc' is deprecated since Python 3.3, and in 3.10 it will stop working\n",
      "  from collections import Iterable, Mapping\n",
      "/Users/JWhite/Dev/symple_flopy/notebooks/modflow_setup/../../dependencies/gisutils/__init__.py:14: DeprecationWarning: The 'project' module was renamed to 'projection' to avoid confusion with the project() function.\n",
      "  warnings.warn(\"The 'project' module was renamed to 'projection' \"\n",
      "/Users/JWhite/Dev/symple_flopy/notebooks/modflow_setup/../../dependencies/gisutils/__init__.py:14: DeprecationWarning: The 'project' module was renamed to 'projection' to avoid confusion with the project() function.\n",
      "  warnings.warn(\"The 'project' module was renamed to 'projection' \"\n",
      "/Users/JWhite/Dev/symple_flopy/notebooks/modflow_setup/../../dependencies/gisutils/__init__.py:14: DeprecationWarning: The 'project' module was renamed to 'projection' to avoid confusion with the project() function.\n",
      "  warnings.warn(\"The 'project' module was renamed to 'projection' \"\n",
      "/Users/JWhite/Dev/symple_flopy/notebooks/modflow_setup/../../dependencies/gisutils/__init__.py:14: DeprecationWarning: The 'project' module was renamed to 'projection' to avoid confusion with the project() function.\n",
      "  warnings.warn(\"The 'project' module was renamed to 'projection' \"\n",
      "/Users/JWhite/Dev/symple_flopy/notebooks/modflow_setup/../../dependencies/sfrmaker/gis.py:17: UserWarning: Automatic reprojection functionality requires gis-utils >= 0.2.2\n",
      "Please pip install --upgrade gis-utils\n",
      "  warnings.warn('Automatic reprojection functionality requires gis-utils >= 0.2.2'\n",
      "/Users/JWhite/Dev/symple_flopy/notebooks/modflow_setup/../../dependencies/gisutils/__init__.py:14: DeprecationWarning: The 'project' module was renamed to 'projection' to avoid confusion with the project() function.\n",
      "  warnings.warn(\"The 'project' module was renamed to 'projection' \"\n",
      "/Users/JWhite/Dev/symple_flopy/notebooks/modflow_setup/../../dependencies/gisutils/__init__.py:14: DeprecationWarning: The 'project' module was renamed to 'projection' to avoid confusion with the project() function.\n",
      "  warnings.warn(\"The 'project' module was renamed to 'projection' \"\n",
      "/Users/JWhite/Dev/symple_flopy/notebooks/modflow_setup/../../dependencies/sfrmaker/sfrdata.py:111: DeprecationWarning: `np.int` is a deprecated alias for the builtin `int`. To silence this warning, use `int` by itself. Doing this will not modify any behavior and is safe. When replacing `np.int`, you may wish to use e.g. `np.int64` or `np.int32` to specify the precision. If you wish to review your current use, check the release note link for additional information.\n",
      "Deprecated in NumPy 1.20; for more details and guidance: https://numpy.org/devdocs/release/1.20.0-notes.html#deprecations\n",
      "  dtypes = {'rno': np.int, 'node': np.int, 'k': np.int, 'i': np.int, 'j': np.int,\n",
      "/Users/JWhite/Dev/symple_flopy/notebooks/modflow_setup/../../dependencies/sfrmaker/sfrdata.py:111: DeprecationWarning: `np.int` is a deprecated alias for the builtin `int`. To silence this warning, use `int` by itself. Doing this will not modify any behavior and is safe. When replacing `np.int`, you may wish to use e.g. `np.int64` or `np.int32` to specify the precision. If you wish to review your current use, check the release note link for additional information.\n",
      "Deprecated in NumPy 1.20; for more details and guidance: https://numpy.org/devdocs/release/1.20.0-notes.html#deprecations\n",
      "  dtypes = {'rno': np.int, 'node': np.int, 'k': np.int, 'i': np.int, 'j': np.int,\n",
      "/Users/JWhite/Dev/symple_flopy/notebooks/modflow_setup/../../dependencies/sfrmaker/sfrdata.py:111: DeprecationWarning: `np.int` is a deprecated alias for the builtin `int`. To silence this warning, use `int` by itself. Doing this will not modify any behavior and is safe. When replacing `np.int`, you may wish to use e.g. `np.int64` or `np.int32` to specify the precision. If you wish to review your current use, check the release note link for additional information.\n",
      "Deprecated in NumPy 1.20; for more details and guidance: https://numpy.org/devdocs/release/1.20.0-notes.html#deprecations\n",
      "  dtypes = {'rno': np.int, 'node': np.int, 'k': np.int, 'i': np.int, 'j': np.int,\n",
      "/Users/JWhite/Dev/symple_flopy/notebooks/modflow_setup/../../dependencies/sfrmaker/sfrdata.py:111: DeprecationWarning: `np.int` is a deprecated alias for the builtin `int`. To silence this warning, use `int` by itself. Doing this will not modify any behavior and is safe. When replacing `np.int`, you may wish to use e.g. `np.int64` or `np.int32` to specify the precision. If you wish to review your current use, check the release note link for additional information.\n",
      "Deprecated in NumPy 1.20; for more details and guidance: https://numpy.org/devdocs/release/1.20.0-notes.html#deprecations\n",
      "  dtypes = {'rno': np.int, 'node': np.int, 'k': np.int, 'i': np.int, 'j': np.int,\n",
      "/Users/JWhite/Dev/symple_flopy/notebooks/modflow_setup/../../dependencies/sfrmaker/sfrdata.py:111: DeprecationWarning: `np.int` is a deprecated alias for the builtin `int`. To silence this warning, use `int` by itself. Doing this will not modify any behavior and is safe. When replacing `np.int`, you may wish to use e.g. `np.int64` or `np.int32` to specify the precision. If you wish to review your current use, check the release note link for additional information.\n",
      "Deprecated in NumPy 1.20; for more details and guidance: https://numpy.org/devdocs/release/1.20.0-notes.html#deprecations\n",
      "  dtypes = {'rno': np.int, 'node': np.int, 'k': np.int, 'i': np.int, 'j': np.int,\n",
      "/Users/JWhite/Dev/symple_flopy/notebooks/modflow_setup/../../dependencies/sfrmaker/sfrdata.py:112: DeprecationWarning: `np.int` is a deprecated alias for the builtin `int`. To silence this warning, use `int` by itself. Doing this will not modify any behavior and is safe. When replacing `np.int`, you may wish to use e.g. `np.int64` or `np.int32` to specify the precision. If you wish to review your current use, check the release note link for additional information.\n",
      "Deprecated in NumPy 1.20; for more details and guidance: https://numpy.org/devdocs/release/1.20.0-notes.html#deprecations\n",
      "  'iseg': np.int, 'ireach': np.int, 'outreach': np.int, 'line_id': np.int,\n",
      "/Users/JWhite/Dev/symple_flopy/notebooks/modflow_setup/../../dependencies/sfrmaker/sfrdata.py:112: DeprecationWarning: `np.int` is a deprecated alias for the builtin `int`. To silence this warning, use `int` by itself. Doing this will not modify any behavior and is safe. When replacing `np.int`, you may wish to use e.g. `np.int64` or `np.int32` to specify the precision. If you wish to review your current use, check the release note link for additional information.\n",
      "Deprecated in NumPy 1.20; for more details and guidance: https://numpy.org/devdocs/release/1.20.0-notes.html#deprecations\n",
      "  'iseg': np.int, 'ireach': np.int, 'outreach': np.int, 'line_id': np.int,\n",
      "/Users/JWhite/Dev/symple_flopy/notebooks/modflow_setup/../../dependencies/sfrmaker/sfrdata.py:112: DeprecationWarning: `np.int` is a deprecated alias for the builtin `int`. To silence this warning, use `int` by itself. Doing this will not modify any behavior and is safe. When replacing `np.int`, you may wish to use e.g. `np.int64` or `np.int32` to specify the precision. If you wish to review your current use, check the release note link for additional information.\n",
      "Deprecated in NumPy 1.20; for more details and guidance: https://numpy.org/devdocs/release/1.20.0-notes.html#deprecations\n",
      "  'iseg': np.int, 'ireach': np.int, 'outreach': np.int, 'line_id': np.int,\n",
      "/Users/JWhite/Dev/symple_flopy/notebooks/modflow_setup/../../dependencies/sfrmaker/sfrdata.py:112: DeprecationWarning: `np.int` is a deprecated alias for the builtin `int`. To silence this warning, use `int` by itself. Doing this will not modify any behavior and is safe. When replacing `np.int`, you may wish to use e.g. `np.int64` or `np.int32` to specify the precision. If you wish to review your current use, check the release note link for additional information.\n",
      "Deprecated in NumPy 1.20; for more details and guidance: https://numpy.org/devdocs/release/1.20.0-notes.html#deprecations\n",
      "  'iseg': np.int, 'ireach': np.int, 'outreach': np.int, 'line_id': np.int,\n",
      "/Users/JWhite/Dev/symple_flopy/notebooks/modflow_setup/../../dependencies/sfrmaker/sfrdata.py:113: DeprecationWarning: `np.int` is a deprecated alias for the builtin `int`. To silence this warning, use `int` by itself. Doing this will not modify any behavior and is safe. When replacing `np.int`, you may wish to use e.g. `np.int64` or `np.int32` to specify the precision. If you wish to review your current use, check the release note link for additional information.\n",
      "Deprecated in NumPy 1.20; for more details and guidance: https://numpy.org/devdocs/release/1.20.0-notes.html#deprecations\n",
      "  'per': np.int, 'nseg': np.int, 'icalc': np.int, 'outseg': np.int,\n",
      "/Users/JWhite/Dev/symple_flopy/notebooks/modflow_setup/../../dependencies/sfrmaker/sfrdata.py:113: DeprecationWarning: `np.int` is a deprecated alias for the builtin `int`. To silence this warning, use `int` by itself. Doing this will not modify any behavior and is safe. When replacing `np.int`, you may wish to use e.g. `np.int64` or `np.int32` to specify the precision. If you wish to review your current use, check the release note link for additional information.\n",
      "Deprecated in NumPy 1.20; for more details and guidance: https://numpy.org/devdocs/release/1.20.0-notes.html#deprecations\n",
      "  'per': np.int, 'nseg': np.int, 'icalc': np.int, 'outseg': np.int,\n",
      "/Users/JWhite/Dev/symple_flopy/notebooks/modflow_setup/../../dependencies/sfrmaker/sfrdata.py:113: DeprecationWarning: `np.int` is a deprecated alias for the builtin `int`. To silence this warning, use `int` by itself. Doing this will not modify any behavior and is safe. When replacing `np.int`, you may wish to use e.g. `np.int64` or `np.int32` to specify the precision. If you wish to review your current use, check the release note link for additional information.\n",
      "Deprecated in NumPy 1.20; for more details and guidance: https://numpy.org/devdocs/release/1.20.0-notes.html#deprecations\n",
      "  'per': np.int, 'nseg': np.int, 'icalc': np.int, 'outseg': np.int,\n",
      "/Users/JWhite/Dev/symple_flopy/notebooks/modflow_setup/../../dependencies/sfrmaker/sfrdata.py:113: DeprecationWarning: `np.int` is a deprecated alias for the builtin `int`. To silence this warning, use `int` by itself. Doing this will not modify any behavior and is safe. When replacing `np.int`, you may wish to use e.g. `np.int64` or `np.int32` to specify the precision. If you wish to review your current use, check the release note link for additional information.\n",
      "Deprecated in NumPy 1.20; for more details and guidance: https://numpy.org/devdocs/release/1.20.0-notes.html#deprecations\n",
      "  'per': np.int, 'nseg': np.int, 'icalc': np.int, 'outseg': np.int,\n",
      "/Users/JWhite/Dev/symple_flopy/notebooks/modflow_setup/../../dependencies/sfrmaker/sfrdata.py:114: DeprecationWarning: `np.int` is a deprecated alias for the builtin `int`. To silence this warning, use `int` by itself. Doing this will not modify any behavior and is safe. When replacing `np.int`, you may wish to use e.g. `np.int64` or `np.int32` to specify the precision. If you wish to review your current use, check the release note link for additional information.\n",
      "Deprecated in NumPy 1.20; for more details and guidance: https://numpy.org/devdocs/release/1.20.0-notes.html#deprecations\n",
      "  'iupseg': np.int, 'iprior': np.int, 'nstrpts': np.int,\n",
      "/Users/JWhite/Dev/symple_flopy/notebooks/modflow_setup/../../dependencies/sfrmaker/sfrdata.py:114: DeprecationWarning: `np.int` is a deprecated alias for the builtin `int`. To silence this warning, use `int` by itself. Doing this will not modify any behavior and is safe. When replacing `np.int`, you may wish to use e.g. `np.int64` or `np.int32` to specify the precision. If you wish to review your current use, check the release note link for additional information.\n",
      "Deprecated in NumPy 1.20; for more details and guidance: https://numpy.org/devdocs/release/1.20.0-notes.html#deprecations\n",
      "  'iupseg': np.int, 'iprior': np.int, 'nstrpts': np.int,\n",
      "/Users/JWhite/Dev/symple_flopy/notebooks/modflow_setup/../../dependencies/sfrmaker/sfrdata.py:114: DeprecationWarning: `np.int` is a deprecated alias for the builtin `int`. To silence this warning, use `int` by itself. Doing this will not modify any behavior and is safe. When replacing `np.int`, you may wish to use e.g. `np.int64` or `np.int32` to specify the precision. If you wish to review your current use, check the release note link for additional information.\n",
      "Deprecated in NumPy 1.20; for more details and guidance: https://numpy.org/devdocs/release/1.20.0-notes.html#deprecations\n",
      "  'iupseg': np.int, 'iprior': np.int, 'nstrpts': np.int,\n",
      "/Users/JWhite/Dev/symple_flopy/notebooks/modflow_setup/../../dependencies/sfrmaker/sfrdata.py:115: DeprecationWarning: `np.object` is a deprecated alias for the builtin `object`. To silence this warning, use `object` by itself. Doing this will not modify any behavior and is safe. \n",
      "Deprecated in NumPy 1.20; for more details and guidance: https://numpy.org/devdocs/release/1.20.0-notes.html#deprecations\n",
      "  'name': np.object, 'geometry': np.object}\n",
      "/Users/JWhite/Dev/symple_flopy/notebooks/modflow_setup/../../dependencies/sfrmaker/sfrdata.py:115: DeprecationWarning: `np.object` is a deprecated alias for the builtin `object`. To silence this warning, use `object` by itself. Doing this will not modify any behavior and is safe. \n",
      "Deprecated in NumPy 1.20; for more details and guidance: https://numpy.org/devdocs/release/1.20.0-notes.html#deprecations\n",
      "  'name': np.object, 'geometry': np.object}\n",
      "/Users/JWhite/Dev/symple_flopy/notebooks/modflow_setup/../../dependencies/gisutils/__init__.py:14: DeprecationWarning: The 'project' module was renamed to 'projection' to avoid confusion with the project() function.\n",
      "  warnings.warn(\"The 'project' module was renamed to 'projection' \"\n",
      "/Users/JWhite/Dev/symple_flopy/notebooks/modflow_setup/../../dependencies/gisutils/__init__.py:14: DeprecationWarning: The 'project' module was renamed to 'projection' to avoid confusion with the project() function.\n",
      "  warnings.warn(\"The 'project' module was renamed to 'projection' \"\n",
      "/Users/JWhite/Dev/symple_flopy/notebooks/modflow_setup/../../dependencies/mfsetup/mfmodel.py:57: UserWarning: Automatic reprojection functionality requires gis-utils >= 0.2.2\n",
      "Please pip install --upgrade gis-utils\n",
      "  warnings.warn('Automatic reprojection functionality requires gis-utils >= 0.2.2'\n",
      "/Users/JWhite/Dev/symple_flopy/notebooks/modflow_setup/../../dependencies/mfsetup/mfmodel.py:60: UserWarning: sfr: sfrmaker_options: add_outlet functionality requires sfrmaker >= 0.6\n",
      "Please pip install --upgrade sfrmaker\n",
      "  warnings.warn('sfr: sfrmaker_options: add_outlet functionality requires sfrmaker >= 0.6'\n",
      "/Users/JWhite/Dev/symple_flopy/notebooks/modflow_setup/../../dependencies/gisutils/__init__.py:14: DeprecationWarning: The 'project' module was renamed to 'projection' to avoid confusion with the project() function.\n",
      "  warnings.warn(\"The 'project' module was renamed to 'projection' \"\n",
      "/Users/JWhite/Dev/symple_flopy/notebooks/modflow_setup/../../dependencies/gisutils/__init__.py:14: DeprecationWarning: The 'project' module was renamed to 'projection' to avoid confusion with the project() function.\n",
      "  warnings.warn(\"The 'project' module was renamed to 'projection' \"\n"
     ]
    }
   ],
   "source": [
    "import sys, os\n",
    "sys.path.append('../../dependencies/')\n",
    "import mfsetup\n",
    "import flopy as fp\n",
    "import flopy.utils as fu\n",
    "from flopy.utils.gridintersect import GridIntersect\n",
    "\n",
    "import shapefile as sf\n",
    "import pandas as pd\n",
    "import matplotlib.pyplot as plt\n",
    "import numpy as np\n",
    "from pathlib import Path\n",
    "from shapely.geometry import Point, LineString\n",
    "import geopandas as gp\n",
    "datapath = Path('../../data/sgn/')"
   ]
  },
  {
   "cell_type": "markdown",
   "id": "1cf9c41e",
   "metadata": {},
   "source": [
    "## one-liner to build the model"
   ]
  },
  {
   "cell_type": "code",
   "execution_count": 2,
   "id": "972ea4f7",
   "metadata": {},
   "outputs": [],
   "source": [
    "# note that modflow setup changes the directory, so good idea to change back at the end\n",
    "stdir = os.getcwd()"
   ]
  },
  {
   "cell_type": "code",
   "execution_count": 3,
   "id": "4e938b93",
   "metadata": {
    "scrolled": false
   },
   "outputs": [
    {
     "name": "stdout",
     "output_type": "stream",
     "text": [
      "loading configuration file sgn_config.yml...\n",
      "\n",
      "Setting up sgn_50 model from configuration in sgn_config.yml\n",
      "\n",
      "validating configuration...\n",
      "DIS package\n",
      "done with validation.\n",
      "\n",
      "setting up model grid...\n",
      "wrote /Users/JWhite/Dev/symple_flopy/models/sgn_mfsetup/sgn_50_grid.json\n",
      "writing /Users/JWhite/Dev/symple_flopy/models/sgn_mfsetup/postproc/shps/sgn_50_bbox.shp... Done\n",
      "finished in 0.14s\n",
      "\n",
      "\n",
      "Setting up TDIS package...\n",
      "finished in 0.01s\n",
      "\n",
      "\n",
      "Setting up IMS package...\n",
      "finished in 0.00s\n",
      "\n",
      "\n",
      "Setting up DIS package...\n",
      "reading data from /Users/JWhite/Dev/symple_flopy/data/sgn/raster/DTM_domain.tif...\n",
      "finished in 0.08s\n",
      "wrote ././top.dat, took 0.00s\n",
      "reading data from /Users/JWhite/Dev/symple_flopy/data/sgn/raster/Bott_L1_fix.tif...\n",
      "finished in 0.16s\n",
      "reading data from /Users/JWhite/Dev/symple_flopy/data/sgn/raster/Bott_L2_fix.tif...\n",
      "finished in 0.14s\n",
      "reading data from /Users/JWhite/Dev/symple_flopy/data/sgn/raster/Bott_L3_fix.tif...\n",
      "finished in 0.15s\n",
      "loading original/sgn_50_top.dat.original, shape=(96, 83), loading original/sgn_50_top.dat.original, shape=(96, 83), took 0.00s\n",
      "computing cell thicknesses...\n",
      "finished in 0.17s\n",
      "\n",
      "wrote ././top.dat, took 0.00s\n",
      "wrote ././botm_000.dat, took 0.00s\n",
      "wrote ././botm_001.dat, took 0.00s\n",
      "wrote ././botm_002.dat, took 0.00s\n",
      "wrote ././top.dat, took 0.00s\n",
      "wrote ././idomain_000.dat, took 0.00s\n",
      "wrote ././idomain_001.dat, took 0.00s\n",
      "wrote ././idomain_002.dat, took 0.00s\n",
      "(re)setting the idomain array...\n",
      "computing cell thicknesses...\n",
      "finished in 0.19s\n",
      "\n",
      "setting up model grid...\n",
      "wrote /Users/JWhite/Dev/symple_flopy/models/sgn_mfsetup/sgn_50_grid.json\n",
      "writing /Users/JWhite/Dev/symple_flopy/models/sgn_mfsetup/postproc/shps/sgn_50_bbox.shp... Done\n",
      "finished in 0.11s\n",
      "\n",
      "wrote original/lakarr_000.dat, took 0.00s\n",
      "wrote original/lakarr_001.dat, took 0.00s\n",
      "wrote original/lakarr_002.dat, took 0.00s\n",
      "loading original/sgn_50_top.dat.original, shape=(96, 83), took 0.00s\n",
      "computing cell thicknesses...\n",
      "finished in 0.22s\n",
      "\n",
      "wrote ././top.dat, took 0.00s\n",
      "wrote ././botm_000.dat, took 0.00s\n",
      "wrote ././botm_001.dat, took 0.00s\n",
      "wrote ././botm_002.dat, took 0.00s\n",
      "wrote ././top.dat, took 0.00s\n",
      "wrote ././idomain_000.dat, took 0.00s\n",
      "wrote ././idomain_001.dat, took 0.00s\n",
      "wrote ././idomain_002.dat, took 0.00s\n",
      "setting up model grid...\n",
      "wrote /Users/JWhite/Dev/symple_flopy/models/sgn_mfsetup/sgn_50_grid.json\n",
      "writing /Users/JWhite/Dev/symple_flopy/models/sgn_mfsetup/postproc/shps/sgn_50_bbox.shp... Done\n",
      "finished in 0.13s\n",
      "\n",
      "wrote ././irch.dat, took 0.00s\n",
      "finished in 1.54s\n",
      "\n",
      "\n",
      "Setting up IC package...\n",
      "wrote ././DTM_domain.tif, took 0.00s\n",
      "wrote ././DTM_domain.tif, took 0.00s\n",
      "wrote ././DTM_domain.tif, took 0.00s\n",
      "finished in 0.02s\n",
      "\n",
      "\n",
      "Setting up NPF package...\n",
      "reading data from /Users/JWhite/Dev/symple_flopy/data/sgn/raster/k_field0.tif...\n",
      "finished in 0.15s\n",
      "reading data from /Users/JWhite/Dev/symple_flopy/data/sgn/raster/k_field1.tif...\n",
      "finished in 0.13s\n",
      "reading data from /Users/JWhite/Dev/symple_flopy/data/sgn/raster/k_field2.tif...\n",
      "finished in 0.14s\n",
      "wrote ././k_000.dat, took 0.00s\n",
      "wrote ././k_001.dat, took 0.00s\n",
      "wrote ././k_002.dat, took 0.00s\n",
      "No data were specified for npf package, variable k33\n",
      "finished in 0.45s\n",
      "\n",
      "\n",
      "Setting up RCH package...\n",
      "wrote ././irch.dat, took 0.00s\n",
      "reading data from /Users/JWhite/Dev/symple_flopy/data/sgn/raster/rch.tif...\n",
      "finished in 0.15s\n",
      "wrote ././rch_000.dat, took 0.00s\n",
      "finished in 0.17s\n",
      "\n",
      "\n",
      "Setting up OC package...\n",
      "finished in 0.00s\n",
      "\n",
      "\n",
      "Setting up SFR package...\n",
      "\n",
      "reading /Users/JWhite/Dev/symple_flopy/data/sgn/shp/River_Lambro_segmented.shp...\n",
      "filtering on bounding box 1516766.2711835166, 5028909.73961192, 1521954.2235464402, 5034571.134964784...\n",
      "--> building dataframe... (may take a while for large shapefiles)\n",
      "\n",
      "SFRmaker version 0.post31.dev0+g191fdd7\n",
      "\n",
      "Creating sfr dataset...\n",
      "\n",
      "Creating grid class instance from flopy Grid instance...\n",
      "grid class created in 0.23s\n",
      "\n",
      "Model grid information\n",
      "structured grid\n",
      "nnodes: 7,968\n",
      "nlay: 1\n",
      "nrow: 96\n",
      "ncol: 83\n",
      "model length units: undefined\n",
      "crs: EPSG:3003\n",
      "bounds: 1516766.27, 5028909.74, 1521954.22, 5034571.13\n",
      "active area defined by: all cells\n",
      "\n",
      "/Users/JWhite/Dev/symple_flopy/models/sgn_mfsetup\n",
      "sgn_50 model version 0.post31.dev0+g191fdd7\n",
      "3 layer(s), 96 row(s), 83 column(s)\n",
      "delr: [50.00...50.00] meters\n",
      "delc: [50.00...50.00] meters\n",
      "CRS: EPSG:3003\n",
      "length units: meters\n",
      "xll: 1517927.496282395; yll: 5028909.73961192; rotation: 14.0\n",
      "Bounds: (1516766.2711835166, 1521954.2235464402, 5028909.73961192, 5034571.134964784)\n",
      "Packages: dis ic npf rcha_0 oc\n",
      "1 period(s):\n",
      " per start_datetime        end_datetime     perlen  steady  nstp\n",
      "   0     2021-01-01 2022-01-01 01:06:40 31540000.0    True     1\n",
      "   ...\n",
      "   0     2021-01-01 2022-01-01 01:06:40 31540000.0    True     1\n",
      "\n",
      "Culling hydrography to active area...\n",
      "starting lines: 10\n",
      "remaining lines: 10\n",
      "finished in 0.00s\n",
      "\n",
      "\n",
      "Intersecting 10 flowlines with 7,968 grid cells...\n",
      "Intersecting 10 features...\n",
      "10\n",
      "finished in 0.17s\n",
      "\n",
      "Setting up reach data... (may take a few minutes for large grids)\n",
      "finished in 0.02s\n",
      "\n",
      "Computing widths...\n",
      "\n",
      "Dropping 3 reaches with length < 2.50 meters...\n",
      "\n",
      "Repairing routing connections...\n",
      "enforcing best segment numbering...\n",
      "\n",
      "Setting up segment data...\n",
      "Model grid information\n",
      "structured grid\n",
      "nnodes: 7,968\n",
      "nlay: 1\n",
      "nrow: 96\n",
      "ncol: 83\n",
      "model length units: undefined\n",
      "crs: EPSG:3003\n",
      "bounds: 1516766.27, 5028909.74, 1521954.22, 5034571.13\n",
      "active area defined by: all cells\n",
      "\n",
      "\n",
      "Time to create sfr dataset: 0.61s\n",
      "\n",
      "running rasterstats.zonal_stats on buffered LineStrings...\n",
      "finished in 0.24s\n",
      "\n",
      "\n",
      "Smoothing elevations...\n",
      "finished in 0.01s\n",
      "wrote /Users/JWhite/Dev/symple_flopy/models/sgn_mfsetup/tables/sgn_50_sfr_reach_data.csv\n",
      "wrote /Users/JWhite/Dev/symple_flopy/models/sgn_mfsetup/tables/sgn_50_sfr_segment_data.csv\n",
      "converting segment data to period data...\n",
      "writing /Users/JWhite/Dev/symple_flopy/models/sgn_mfsetup/postproc/shps/sgn_50_sfr_cells.shp... Done\n",
      "writing /Users/JWhite/Dev/symple_flopy/models/sgn_mfsetup/postproc/shps/sgn_50_sfr_outlets.shp... Done\n",
      "writing /Users/JWhite/Dev/symple_flopy/models/sgn_mfsetup/postproc/shps/sgn_50_sfr_lines.shp... Done\n",
      "writing /Users/JWhite/Dev/symple_flopy/models/sgn_mfsetup/postproc/shps/sgn_50_sfr_routing.shp... Done\n",
      "No period data to export!\n",
      "writing /Users/JWhite/Dev/symple_flopy/models/sgn_mfsetup/postproc/shps/sgn_50_sfr_observations.shp... Done\n",
      "No non-zero values of flow to export!\n",
      "converting reach and segment data to package data...\n",
      "converting segment data to period data...\n",
      "(re)setting the idomain array...\n",
      "computing cell thicknesses...\n",
      "finished in 0.18s\n",
      "\n",
      "wrote original/lakarr_000.dat, took 0.00s\n",
      "wrote original/lakarr_001.dat, took 0.00s\n",
      "wrote original/lakarr_002.dat, took 0.00s\n",
      "loading original/sgn_50_top.dat.original, shape=(96, 83), took 0.00s\n",
      "computing cell thicknesses...\n",
      "finished in 0.19s\n",
      "\n",
      "wrote ././top.dat, took 0.00s\n",
      "wrote ././botm_000.dat, took 0.00s\n",
      "wrote ././botm_001.dat, took 0.00s\n",
      "wrote ././botm_002.dat, took 0.00s\n",
      "wrote ././top.dat, took 0.00s\n",
      "wrote ././idomain_000.dat, took 0.00s\n",
      "wrote ././idomain_001.dat, took 0.00s\n",
      "wrote ././idomain_002.dat, took 0.00s\n",
      "setting up model grid...\n",
      "wrote /Users/JWhite/Dev/symple_flopy/models/sgn_mfsetup/sgn_50_grid.json\n",
      "writing /Users/JWhite/Dev/symple_flopy/models/sgn_mfsetup/postproc/shps/sgn_50_bbox.shp... Done\n",
      "finished in 0.11s\n",
      "\n",
      "wrote ././irch.dat, took 0.00s\n",
      "finished in 2.21s\n",
      "\n",
      "\n",
      "Setting up WEL package...\n",
      "getting i, j locations...\n",
      "finished in 0.00s\n",
      "\n",
      "finished in 0.11s\n",
      "\n",
      "finished setting up model in 4.73s\n",
      "\n",
      "sgn_50 model version 0.post31.dev0+g191fdd7\n",
      "3 layer(s), 96 row(s), 83 column(s)\n",
      "delr: [50.00...50.00] meters\n",
      "delc: [50.00...50.00] meters\n",
      "CRS: EPSG:3003\n",
      "length units: meters\n",
      "xll: 1517927.496282395; yll: 5028909.73961192; rotation: 14.0\n",
      "Bounds: (1516766.2711835166, 1521954.2235464402, 5028909.73961192, 5034571.134964784)\n",
      "Packages: dis ic npf rcha_0 oc sfr_0 wel_0\n",
      "1 period(s):\n",
      " per start_datetime        end_datetime     perlen  steady  nstp\n",
      "   0     2021-01-01 2022-01-01 01:06:40 31540000.0    True     1\n",
      "   ...\n",
      "   0     2021-01-01 2022-01-01 01:06:40 31540000.0    True     1\n"
     ]
    }
   ],
   "source": [
    "m = mfsetup.MF6model.setup_from_yaml('sgn_config.yml')"
   ]
  },
  {
   "cell_type": "code",
   "execution_count": 4,
   "id": "2f85d9d5",
   "metadata": {},
   "outputs": [
    {
     "name": "stdout",
     "output_type": "stream",
     "text": [
      "writing simulation...\n",
      "  writing simulation name file...\n",
      "  writing simulation tdis package...\n",
      "  writing ims package ims_-1...\n",
      "  writing model sgn_50...\n",
      "    writing model name file...\n",
      "    writing package dis...\n",
      "    writing package ic...\n",
      "    writing package npf...\n",
      "    writing package rcha_0...\n",
      "    writing package oc...\n",
      "    writing package sfr_0...\n",
      "    writing package wel_0...\n",
      "INFORMATION: maxbound in ('gwf6', 'wel', 'dimensions') changed to 78 based on size of stress_period_data\n",
      "SFRmaker v. 0.post31.dev0+g191fdd7\n",
      "\n",
      "Running Flopy v. 3.3.5 diagnostics...\n",
      "passed.\n",
      "\n",
      "Checking for continuity in segment and reach numbering...\n",
      "passed.\n",
      "\n",
      "Checking for increasing segment numbers in downstream direction...\n",
      "passed.\n",
      "\n",
      "Checking for circular routing...\n",
      "passed.\n",
      "\n",
      "Checking reach connections for proximity...\n",
      "0 segments with non-adjacent reaches found.\n",
      "At segments:\n",
      "\n",
      "\n",
      "0 segments with non-adjacent reaches found.\n",
      "At segments:\n",
      "\n",
      "\n",
      "\n",
      "Checking for model cells with multiple non-zero SFR conductances...\n",
      "8 model cells with multiple non-zero SFR conductances found.\n",
      "This may lead to circular routing between collocated reaches.\n",
      "Nodes with overlapping conductances:\n",
      "k\ti\tj\tiseg\tireach\trchlen\tstrthick\tstrhc1\n",
      "0\t8\t63\t1\t10\t7.924251079559326\t1.0\t1.0\n",
      "0\t8\t63\t2\t1\t47.34646224975586\t1.0\t1.0\n",
      "0\t16\t66\t2\t14\t5.979315280914307\t1.0\t1.0\n",
      "0\t16\t66\t3\t1\t41.623817443847656\t1.0\t1.0\n",
      "0\t24\t69\t3\t12\t37.11835861206055\t1.0\t1.0\n",
      "0\t24\t69\t4\t1\t16.12721824645996\t1.0\t1.0\n",
      "0\t26\t73\t4\t11\t15.494623184204102\t1.0\t1.0\n",
      "0\t26\t73\t5\t1\t29.43027687072754\t1.0\t1.0\n",
      "0\t36\t75\t5\t19\t20.42424201965332\t1.0\t1.0\n",
      "0\t36\t75\t6\t1\t31.1514949798584\t1.0\t1.0\n",
      "0\t47\t72\t6\t14\t14.13512134552002\t1.0\t1.0\n",
      "0\t47\t72\t7\t1\t29.998180389404297\t1.0\t1.0\n",
      "0\t64\t72\t8\t10\t24.63616371154785\t1.0\t1.0\n",
      "0\t64\t72\t9\t1\t26.59016227722168\t1.0\t1.0\n",
      "0\t82\t75\t9\t22\t21.188451766967773\t1.0\t1.0\n",
      "0\t82\t75\t10\t1\t30.045856475830078\t1.0\t1.0\n",
      "\n",
      "Checking for streambed tops of less than -10...\n",
      "isfropt setting of 1,2 or 3 requires strtop information!\n",
      "\n",
      "\n",
      "Checking for streambed tops of greater than 15000...\n",
      "isfropt setting of 1,2 or 3 requires strtop information!\n",
      "\n",
      "\n",
      "Checking segment_data for downstream rises in streambed elevation...\n",
      "Segment elevup and elevdn not specified for nstrm=-137 and isfropt=1\n",
      "passed.\n",
      "\n",
      "Checking reach_data for downstream rises in streambed elevation...\n",
      "passed.\n",
      "\n",
      "Checking reach_data for inconsistencies between streambed elevations and the model grid...\n",
      "passed.\n",
      "\n",
      "Checking segment_data for inconsistencies between segment end elevations and the model grid...\n",
      "Segment elevup and elevdn not specified for nstrm=-137 and isfropt=1\n",
      "passed.\n",
      "\n",
      "Checking for streambed slopes of less than 0.0001...\n",
      "passed.\n",
      "\n",
      "Checking for streambed slopes of greater than 1.0...\n",
      "passed.\n",
      "\n",
      "wrote sgn_50_SFR.chk\n",
      "wrote sgn_50.sfr.obs\n",
      "converting reach and segment data to package data...\n",
      "wrote ././sgn_50_packagedata.dat\n",
      "wrote ./sgn_50.sfr\n"
     ]
    }
   ],
   "source": [
    "m.write_input()"
   ]
  },
  {
   "cell_type": "markdown",
   "id": "1f6231e1",
   "metadata": {},
   "source": [
    "### set up an intersection object"
   ]
  },
  {
   "cell_type": "code",
   "execution_count": 5,
   "id": "06c36717",
   "metadata": {},
   "outputs": [],
   "source": [
    "ix = GridIntersect(m.modelgrid)"
   ]
  },
  {
   "cell_type": "markdown",
   "id": "420d6942",
   "metadata": {},
   "source": [
    "## need to add a GHB package - manually for now"
   ]
  },
  {
   "cell_type": "code",
   "execution_count": 6,
   "id": "74784609",
   "metadata": {},
   "outputs": [
    {
     "data": {
      "image/svg+xml": [
       "<svg xmlns=\"http://www.w3.org/2000/svg\" xmlns:xlink=\"http://www.w3.org/1999/xlink\" width=\"300\" height=\"300\" viewBox=\"1516542.2675909074 5028682.8585182065 5642.996110704029 6125.789530265145\" preserveAspectRatio=\"xMinYMin meet\"><g transform=\"matrix(1,0,0,-1,0,10063491.506566677)\"><polyline fill=\"none\" stroke=\"#66cc99\" stroke-width=\"40.8385968684343\" points=\"1516769.1486846209,5033577.7910880195 1520795.8759486664,5034581.766954758 1521958.382607898,5029913.941793127 1517927.496282395,5028909.73961192 1516769.1486846209,5033577.7910880195\" opacity=\"0.8\" /></g></svg>"
      ],
      "text/plain": [
       "<shapely.geometry.linestring.LineString at 0x1b3d2cca0>"
      ]
     },
     "execution_count": 6,
     "metadata": {},
     "output_type": "execute_result"
    }
   ],
   "source": [
    "# read in the boundary polygon\n",
    "boundary = gp.read_file(datapath / 'shp' / 'Model_domain.shp')\n",
    "\n",
    "# create a polyline from the polygon\n",
    "boundary_line =  LineString([Point(i) for i in boundary.iloc[0].geometry.exterior.coords])\n",
    "boundary_line"
   ]
  },
  {
   "cell_type": "code",
   "execution_count": 7,
   "id": "00fe3084",
   "metadata": {},
   "outputs": [],
   "source": [
    "# instersect the bounding polygon with the grid to get boundary cells\n",
    "ix_boundary = ix.intersect(boundary_line.buffer(25, resolution=4))"
   ]
  },
  {
   "cell_type": "code",
   "execution_count": 8,
   "id": "433def84",
   "metadata": {},
   "outputs": [
    {
     "data": {
      "text/html": [
       "<div>\n",
       "<style scoped>\n",
       "    .dataframe tbody tr th:only-of-type {\n",
       "        vertical-align: middle;\n",
       "    }\n",
       "\n",
       "    .dataframe tbody tr th {\n",
       "        vertical-align: top;\n",
       "    }\n",
       "\n",
       "    .dataframe thead th {\n",
       "        text-align: right;\n",
       "    }\n",
       "</style>\n",
       "<table border=\"1\" class=\"dataframe\">\n",
       "  <thead>\n",
       "    <tr style=\"text-align: right;\">\n",
       "      <th></th>\n",
       "      <th>cellids</th>\n",
       "      <th>vertices</th>\n",
       "      <th>areas</th>\n",
       "      <th>ixshapes</th>\n",
       "    </tr>\n",
       "  </thead>\n",
       "  <tbody>\n",
       "    <tr>\n",
       "      <th>0</th>\n",
       "      <td>(0, 0)</td>\n",
       "      <td>[([(array([1516807.7649682]), array([5033525.9...</td>\n",
       "      <td>1818.572486</td>\n",
       "      <td>POLYGON ((1516807.764968205 5033525.973979044,...</td>\n",
       "    </tr>\n",
       "    <tr>\n",
       "      <th>1</th>\n",
       "      <td>(0, 1)</td>\n",
       "      <td>[([(array([1516818.50671796]), array([5033564....</td>\n",
       "      <td>768.997804</td>\n",
       "      <td>POLYGON ((1516818.506717961 5033564.332087163,...</td>\n",
       "    </tr>\n",
       "    <tr>\n",
       "      <th>2</th>\n",
       "      <td>(0, 2)</td>\n",
       "      <td>[([(array([1516867.02150427]), array([5033576....</td>\n",
       "      <td>768.997804</td>\n",
       "      <td>POLYGON ((1516867.021504275 5033576.428181943,...</td>\n",
       "    </tr>\n",
       "    <tr>\n",
       "      <th>3</th>\n",
       "      <td>(0, 3)</td>\n",
       "      <td>[([(array([1516915.53629059]), array([5033588....</td>\n",
       "      <td>768.997804</td>\n",
       "      <td>POLYGON ((1516915.536290589 5033588.524276723,...</td>\n",
       "    </tr>\n",
       "    <tr>\n",
       "      <th>4</th>\n",
       "      <td>(0, 4)</td>\n",
       "      <td>[([(array([1516964.0510769]), array([5033600.6...</td>\n",
       "      <td>768.997804</td>\n",
       "      <td>POLYGON ((1516964.051076903 5033600.620371503,...</td>\n",
       "    </tr>\n",
       "  </tbody>\n",
       "</table>\n",
       "</div>"
      ],
      "text/plain": [
       "  cellids                                           vertices        areas  \\\n",
       "0  (0, 0)  [([(array([1516807.7649682]), array([5033525.9...  1818.572486   \n",
       "1  (0, 1)  [([(array([1516818.50671796]), array([5033564....   768.997804   \n",
       "2  (0, 2)  [([(array([1516867.02150427]), array([5033576....   768.997804   \n",
       "3  (0, 3)  [([(array([1516915.53629059]), array([5033588....   768.997804   \n",
       "4  (0, 4)  [([(array([1516964.0510769]), array([5033600.6...   768.997804   \n",
       "\n",
       "                                            ixshapes  \n",
       "0  POLYGON ((1516807.764968205 5033525.973979044,...  \n",
       "1  POLYGON ((1516818.506717961 5033564.332087163,...  \n",
       "2  POLYGON ((1516867.021504275 5033576.428181943,...  \n",
       "3  POLYGON ((1516915.536290589 5033588.524276723,...  \n",
       "4  POLYGON ((1516964.051076903 5033600.620371503,...  "
      ]
     },
     "execution_count": 8,
     "metadata": {},
     "output_type": "execute_result"
    }
   ],
   "source": [
    "ix_df = pd.DataFrame.from_records(ix_boundary)\n",
    "ix_df.head()"
   ]
  },
  {
   "cell_type": "code",
   "execution_count": 9,
   "id": "38616ea9",
   "metadata": {},
   "outputs": [
    {
     "data": {
      "text/plain": [
       "<matplotlib.colorbar.Colorbar at 0x1b42f5b50>"
      ]
     },
     "execution_count": 9,
     "metadata": {},
     "output_type": "execute_result"
    },
    {
     "data": {
      "image/png": "[encoded data removed]",
      "text/plain": [
       "<Figure size 432x288 with 2 Axes>"
      ]
     },
     "metadata": {
      "needs_background": "light"
     },
     "output_type": "display_data"
    }
   ],
   "source": [
    "# read in the september 2019 measured heads to make the GHB data\n",
    "sep19_head = fu.Raster.load(datapath / 'raster' / 'heads_sep2019.asc')\n",
    "plt.imshow(sep19_head.get_array(1))\n",
    "plt.colorbar()"
   ]
  },
  {
   "cell_type": "code",
   "execution_count": 10,
   "id": "113499a4",
   "metadata": {},
   "outputs": [],
   "source": [
    "# resample these heads to the model\n",
    "head = sep19_head.resample_to_grid(m.modelgrid,band=sep19_head.bands[0], method=\"nearest\")"
   ]
  },
  {
   "cell_type": "code",
   "execution_count": 11,
   "id": "a7f0101f",
   "metadata": {},
   "outputs": [],
   "source": [
    "# make the GHB stress period data\n",
    "ghb_spd = []\n",
    "for icpl in ix_boundary.cellids:\n",
    "    cond = 100.0\n",
    "    for layer in [0,2]:\n",
    "        # note - structured grid so *icpl unpacks row/col\n",
    "        ghb_spd.append([(layer, *icpl), head[icpl], cond, f'GHB{layer+1}'])\n",
    "       "
   ]
  },
  {
   "cell_type": "code",
   "execution_count": 12,
   "id": "77e9d192",
   "metadata": {},
   "outputs": [],
   "source": [
    "# create the package\n",
    "ghb = fp.mf6.ModflowGwfghb(model=m, \n",
    "                                stress_period_data=ghb_spd, \n",
    "                                boundnames=True) "
   ]
  },
  {
   "cell_type": "code",
   "execution_count": 13,
   "id": "37dcb490",
   "metadata": {},
   "outputs": [
    {
     "name": "stdout",
     "output_type": "stream",
     "text": [
      "writing simulation...\n",
      "  writing simulation name file...\n",
      "  writing simulation tdis package...\n",
      "  writing ims package ims_-1...\n",
      "  writing model sgn_50...\n",
      "    writing model name file...\n",
      "    writing package dis...\n",
      "    writing package ic...\n",
      "    writing package npf...\n",
      "    writing package rcha_0...\n",
      "    writing package oc...\n",
      "    writing package sfr_0...\n",
      "    writing package wel_0...\n",
      "    writing package ghb_0...\n",
      "INFORMATION: maxbound in ('gwf6', 'ghb', 'dimensions') changed to 708 based on size of stress_period_data\n",
      "SFRmaker v. 0.post31.dev0+g191fdd7\n",
      "\n",
      "Running Flopy v. 3.3.5 diagnostics...\n",
      "passed.\n",
      "\n",
      "Checking for continuity in segment and reach numbering...\n",
      "passed.\n",
      "\n",
      "Checking for increasing segment numbers in downstream direction...\n",
      "passed.\n",
      "\n",
      "Checking for circular routing...\n",
      "passed.\n",
      "\n",
      "Checking reach connections for proximity...\n",
      "0 segments with non-adjacent reaches found.\n",
      "At segments:\n",
      "\n",
      "\n",
      "0 segments with non-adjacent reaches found.\n",
      "At segments:\n",
      "\n",
      "\n",
      "\n",
      "Checking for model cells with multiple non-zero SFR conductances...\n",
      "8 model cells with multiple non-zero SFR conductances found.\n",
      "This may lead to circular routing between collocated reaches.\n",
      "Nodes with overlapping conductances:\n",
      "k\ti\tj\tiseg\tireach\trchlen\tstrthick\tstrhc1\n",
      "0\t8\t63\t1\t10\t7.924251079559326\t1.0\t1.0\n",
      "0\t8\t63\t2\t1\t47.34646224975586\t1.0\t1.0\n",
      "0\t16\t66\t2\t14\t5.979315280914307\t1.0\t1.0\n",
      "0\t16\t66\t3\t1\t41.623817443847656\t1.0\t1.0\n",
      "0\t24\t69\t3\t12\t37.11835861206055\t1.0\t1.0\n",
      "0\t24\t69\t4\t1\t16.12721824645996\t1.0\t1.0\n",
      "0\t26\t73\t4\t11\t15.494623184204102\t1.0\t1.0\n",
      "0\t26\t73\t5\t1\t29.43027687072754\t1.0\t1.0\n",
      "0\t36\t75\t5\t19\t20.42424201965332\t1.0\t1.0\n",
      "0\t36\t75\t6\t1\t31.1514949798584\t1.0\t1.0\n",
      "0\t47\t72\t6\t14\t14.13512134552002\t1.0\t1.0\n",
      "0\t47\t72\t7\t1\t29.998180389404297\t1.0\t1.0\n",
      "0\t64\t72\t8\t10\t24.63616371154785\t1.0\t1.0\n",
      "0\t64\t72\t9\t1\t26.59016227722168\t1.0\t1.0\n",
      "0\t82\t75\t9\t22\t21.188451766967773\t1.0\t1.0\n",
      "0\t82\t75\t10\t1\t30.045856475830078\t1.0\t1.0\n",
      "\n",
      "Checking for streambed tops of less than -10...\n",
      "isfropt setting of 1,2 or 3 requires strtop information!\n",
      "\n",
      "\n",
      "Checking for streambed tops of greater than 15000...\n",
      "isfropt setting of 1,2 or 3 requires strtop information!\n",
      "\n",
      "\n",
      "Checking segment_data for downstream rises in streambed elevation...\n",
      "Segment elevup and elevdn not specified for nstrm=-137 and isfropt=1\n",
      "passed.\n",
      "\n",
      "Checking reach_data for downstream rises in streambed elevation...\n",
      "passed.\n",
      "\n",
      "Checking reach_data for inconsistencies between streambed elevations and the model grid...\n",
      "passed.\n",
      "\n",
      "Checking segment_data for inconsistencies between segment end elevations and the model grid...\n",
      "Segment elevup and elevdn not specified for nstrm=-137 and isfropt=1\n",
      "passed.\n",
      "\n",
      "Checking for streambed slopes of less than 0.0001...\n",
      "passed.\n",
      "\n",
      "Checking for streambed slopes of greater than 1.0...\n",
      "passed.\n",
      "\n",
      "wrote sgn_50_SFR.chk\n",
      "wrote sgn_50.sfr.obs\n",
      "converting reach and segment data to package data...\n",
      "wrote ././sgn_50_packagedata.dat\n",
      "wrote ./sgn_50.sfr\n"
     ]
    }
   ],
   "source": [
    "m.write_input()"
   ]
  },
  {
   "cell_type": "code",
   "execution_count": 14,
   "id": "c6741479",
   "metadata": {},
   "outputs": [
    {
     "data": {
      "text/plain": [
       "sgn_50 model version 0.post31.dev0+g191fdd7\n",
       "3 layer(s), 96 row(s), 83 column(s)\n",
       "delr: [50.00...50.00] meters\n",
       "delc: [50.00...50.00] meters\n",
       "CRS: EPSG:3003\n",
       "length units: meters\n",
       "xll: 1517927.496282395; yll: 5028909.73961192; rotation: 14.0\n",
       "Bounds: (1516766.2711835166, 1521954.2235464402, 5028909.73961192, 5034571.134964784)\n",
       "Packages: dis ic npf rcha_0 oc sfr_0 wel_0 ghb_0\n",
       "1 period(s):\n",
       " per start_datetime        end_datetime     perlen  steady  nstp\n",
       "   0     2021-01-01 2022-01-01 01:06:40 31540000.0    True     1\n",
       "   ...\n",
       "   0     2021-01-01 2022-01-01 01:06:40 31540000.0    True     1"
      ]
     },
     "execution_count": 14,
     "metadata": {},
     "output_type": "execute_result"
    }
   ],
   "source": [
    "m"
   ]
  },
  {
   "cell_type": "code",
   "execution_count": 15,
   "id": "ea8eba2b",
   "metadata": {},
   "outputs": [
    {
     "name": "stdout",
     "output_type": "stream",
     "text": [
      "wrote testgrid.shp\n"
     ]
    }
   ],
   "source": [
    "m.dis.export('testgrid.shp')"
   ]
  },
  {
   "cell_type": "code",
   "execution_count": 16,
   "id": "a621cc63",
   "metadata": {},
   "outputs": [
    {
     "name": "stdout",
     "output_type": "stream",
     "text": [
      "                                   MODFLOW 6\n",
      "                U.S. GEOLOGICAL SURVEY MODULAR HYDROLOGIC MODEL\n",
      "                   VERSION 6.3.0 release candidate 07/30/2021\n",
      "                               ***DEVELOP MODE***\n",
      "\n",
      "   MODFLOW 6 compiled Jul 31 2021 20:33:12 with IFORT compiler (ver. 19.10.3)\n",
      "\n",
      "This software is preliminary or provisional and is subject to \n",
      "revision. It is being provided to meet the need for timely best \n",
      "science. The software has not received final approval by the U.S. \n",
      "Geological Survey (USGS). No warranty, expressed or implied, is made \n",
      "by the USGS or the U.S. Government as to the functionality of the \n",
      "software and related material nor shall the fact of release \n",
      "constitute any such warranty. The software is provided on the \n",
      "condition that neither the USGS nor the U.S. Government shall be held \n",
      "liable for any damages resulting from the authorized or unauthorized \n",
      "use of the software.\n",
      "\n",
      " \n",
      " Run start date and time (yyyy/mm/dd hh:mm:ss): 2021/09/22 15:05:40\n",
      " \n",
      " Writing simulation list file: mfsim.lst\n",
      " Using Simulation name file: mfsim.nam\n",
      " \n",
      "    Solving:  Stress period:     1    Time step:     1\n",
      " \n",
      " Run end date and time (yyyy/mm/dd hh:mm:ss): 2021/09/22 15:05:41\n",
      " Elapsed run time:  0.757 Seconds\n",
      " \n",
      " Normal termination of simulation.\n"
     ]
    },
    {
     "data": {
      "text/plain": [
       "0"
      ]
     },
     "execution_count": 16,
     "metadata": {},
     "output_type": "execute_result"
    }
   ],
   "source": [
    "os.system('mf6')"
   ]
  },
  {
   "cell_type": "code",
   "execution_count": 17,
   "id": "05d6aa79",
   "metadata": {},
   "outputs": [],
   "source": [
    "top = m.dis.top.array"
   ]
  },
  {
   "cell_type": "code",
   "execution_count": 18,
   "id": "dddcf740",
   "metadata": {},
   "outputs": [
    {
     "data": {
      "text/plain": [
       "<matplotlib.image.AxesImage at 0x1b4473e80>"
      ]
     },
     "execution_count": 18,
     "metadata": {},
     "output_type": "execute_result"
    },
    {
     "data": {
      "image/png": "[encoded data removed]",
      "text/plain": [
       "<Figure size 432x288 with 1 Axes>"
      ]
     },
     "metadata": {
      "needs_background": "light"
     },
     "output_type": "display_data"
    }
   ],
   "source": [
    "plt.imshow(top)"
   ]
  },
  {
   "cell_type": "code",
   "execution_count": 19,
   "id": "d2d29541",
   "metadata": {},
   "outputs": [],
   "source": [
    "h = fu.binaryfile.HeadFile('../../models/sgn_mfsetup/sgn_50.hds').get_alldata()"
   ]
  },
  {
   "cell_type": "code",
   "execution_count": 20,
   "id": "90faeb30",
   "metadata": {},
   "outputs": [
    {
     "data": {
      "text/plain": [
       "<matplotlib.colorbar.Colorbar at 0x1b4b3a9d0>"
      ]
     },
     "execution_count": 20,
     "metadata": {},
     "output_type": "execute_result"
    },
    {
     "data": {
      "image/png": "[encoded data removed]",
      "text/plain": [
       "<Figure size 432x288 with 2 Axes>"
      ]
     },
     "metadata": {
      "needs_background": "light"
     },
     "output_type": "display_data"
    }
   ],
   "source": [
    "plt.imshow(np.squeeze(h)[0])\n",
    "plt.colorbar()"
   ]
  },
  {
   "cell_type": "markdown",
   "id": "c4fedc40",
   "metadata": {},
   "source": [
    "### check flooding"
   ]
  },
  {
   "cell_type": "code",
   "execution_count": 21,
   "id": "935d533d",
   "metadata": {},
   "outputs": [
    {
     "data": {
      "text/plain": [
       "<matplotlib.colorbar.Colorbar at 0x1b4f5f580>"
      ]
     },
     "execution_count": 21,
     "metadata": {},
     "output_type": "execute_result"
    },
    {
     "data": {
      "image/png": "[encoded data removed]",
      "text/plain": [
       "<Figure size 432x288 with 2 Axes>"
      ]
     },
     "metadata": {
      "needs_background": "light"
     },
     "output_type": "display_data"
    }
   ],
   "source": [
    "plt.imshow(top-np.squeeze(h)[0])\n",
    "plt.colorbar()"
   ]
  },
  {
   "cell_type": "code",
   "execution_count": 22,
   "id": "f4cc1582",
   "metadata": {},
   "outputs": [],
   "source": [
    "df1,df2 = fu.Mf6ListBudget('../../models/sgn_mfsetup/sgn_50.list').get_dataframes()"
   ]
  },
  {
   "cell_type": "code",
   "execution_count": 23,
   "id": "8b68b919",
   "metadata": {},
   "outputs": [
    {
     "data": {
      "text/html": [
       "<div>\n",
       "<style scoped>\n",
       "    .dataframe tbody tr th:only-of-type {\n",
       "        vertical-align: middle;\n",
       "    }\n",
       "\n",
       "    .dataframe tbody tr th {\n",
       "        vertical-align: top;\n",
       "    }\n",
       "\n",
       "    .dataframe thead th {\n",
       "        text-align: right;\n",
       "    }\n",
       "</style>\n",
       "<table border=\"1\" class=\"dataframe\">\n",
       "  <thead>\n",
       "    <tr style=\"text-align: right;\">\n",
       "      <th></th>\n",
       "      <th>WEL_IN</th>\n",
       "      <th>GHB_IN</th>\n",
       "      <th>RCH_IN</th>\n",
       "      <th>SFR_IN</th>\n",
       "      <th>TOTAL_IN</th>\n",
       "      <th>WEL_OUT</th>\n",
       "      <th>GHB_OUT</th>\n",
       "      <th>RCH_OUT</th>\n",
       "      <th>SFR_OUT</th>\n",
       "      <th>TOTAL_OUT</th>\n",
       "      <th>IN-OUT</th>\n",
       "      <th>PERCENT_DISCREPANCY</th>\n",
       "    </tr>\n",
       "  </thead>\n",
       "  <tbody>\n",
       "    <tr>\n",
       "      <th>1971-01-01 01:11:58.945312</th>\n",
       "      <td>0.1288</td>\n",
       "      <td>7.1802</td>\n",
       "      <td>0.067602</td>\n",
       "      <td>0.0</td>\n",
       "      <td>7.3766</td>\n",
       "      <td>0.7666</td>\n",
       "      <td>1.6211</td>\n",
       "      <td>0.0</td>\n",
       "      <td>4.9889</td>\n",
       "      <td>7.3766</td>\n",
       "      <td>-0.000021</td>\n",
       "      <td>-0.0</td>\n",
       "    </tr>\n",
       "  </tbody>\n",
       "</table>\n",
       "</div>"
      ],
      "text/plain": [
       "                            WEL_IN  GHB_IN    RCH_IN  SFR_IN  TOTAL_IN  \\\n",
       "1971-01-01 01:11:58.945312  0.1288  7.1802  0.067602     0.0    7.3766   \n",
       "\n",
       "                            WEL_OUT  GHB_OUT  RCH_OUT  SFR_OUT  TOTAL_OUT  \\\n",
       "1971-01-01 01:11:58.945312   0.7666   1.6211      0.0   4.9889     7.3766   \n",
       "\n",
       "                              IN-OUT  PERCENT_DISCREPANCY  \n",
       "1971-01-01 01:11:58.945312 -0.000021                 -0.0  "
      ]
     },
     "execution_count": 23,
     "metadata": {},
     "output_type": "execute_result"
    }
   ],
   "source": [
    "df1"
   ]
  },
  {
   "cell_type": "code",
   "execution_count": 24,
   "id": "d592657b",
   "metadata": {},
   "outputs": [
    {
     "data": {
      "text/html": [
       "<div>\n",
       "<style scoped>\n",
       "    .dataframe tbody tr th:only-of-type {\n",
       "        vertical-align: middle;\n",
       "    }\n",
       "\n",
       "    .dataframe tbody tr th {\n",
       "        vertical-align: top;\n",
       "    }\n",
       "\n",
       "    .dataframe thead th {\n",
       "        text-align: right;\n",
       "    }\n",
       "</style>\n",
       "<table border=\"1\" class=\"dataframe\">\n",
       "  <thead>\n",
       "    <tr style=\"text-align: right;\">\n",
       "      <th></th>\n",
       "      <th>WEL_IN</th>\n",
       "      <th>GHB_IN</th>\n",
       "      <th>RCH_IN</th>\n",
       "      <th>SFR_IN</th>\n",
       "      <th>TOTAL_IN</th>\n",
       "      <th>WEL_OUT</th>\n",
       "      <th>GHB_OUT</th>\n",
       "      <th>RCH_OUT</th>\n",
       "      <th>SFR_OUT</th>\n",
       "      <th>TOTAL_OUT</th>\n",
       "      <th>IN-OUT</th>\n",
       "      <th>PERCENT_DISCREPANCY</th>\n",
       "    </tr>\n",
       "  </thead>\n",
       "  <tbody>\n",
       "    <tr>\n",
       "      <th>1971-01-01 01:11:58.945312</th>\n",
       "      <td>4062352.0</td>\n",
       "      <td>226463072.0</td>\n",
       "      <td>2132160.25</td>\n",
       "      <td>0.0</td>\n",
       "      <td>232657584.0</td>\n",
       "      <td>24178564.0</td>\n",
       "      <td>51130412.0</td>\n",
       "      <td>0.0</td>\n",
       "      <td>157349280.0</td>\n",
       "      <td>232658256.0</td>\n",
       "      <td>-668.346008</td>\n",
       "      <td>-0.0</td>\n",
       "    </tr>\n",
       "  </tbody>\n",
       "</table>\n",
       "</div>"
      ],
      "text/plain": [
       "                               WEL_IN       GHB_IN      RCH_IN  SFR_IN  \\\n",
       "1971-01-01 01:11:58.945312  4062352.0  226463072.0  2132160.25     0.0   \n",
       "\n",
       "                               TOTAL_IN     WEL_OUT     GHB_OUT  RCH_OUT  \\\n",
       "1971-01-01 01:11:58.945312  232657584.0  24178564.0  51130412.0      0.0   \n",
       "\n",
       "                                SFR_OUT    TOTAL_OUT      IN-OUT  \\\n",
       "1971-01-01 01:11:58.945312  157349280.0  232658256.0 -668.346008   \n",
       "\n",
       "                            PERCENT_DISCREPANCY  \n",
       "1971-01-01 01:11:58.945312                 -0.0  "
      ]
     },
     "execution_count": 24,
     "metadata": {},
     "output_type": "execute_result"
    }
   ],
   "source": [
    "df2"
   ]
  },
  {
   "cell_type": "code",
   "execution_count": null,
   "id": "b3d21bba",
   "metadata": {},
   "outputs": [],
   "source": []
  },
  {
   "cell_type": "code",
   "execution_count": null,
   "id": "1a3156cc",
   "metadata": {},
   "outputs": [],
   "source": []
  }
 ],
 "metadata": {
  "kernelspec": {
   "display_name": "Python 3 (ipykernel)",
   "language": "python",
   "name": "python3"
  },
  "language_info": {
   "codemirror_mode": {
    "name": "ipython",
    "version": 3
   },
   "file_extension": ".py",
   "mimetype": "text/x-python",
   "name": "python",
   "nbconvert_exporter": "python",
   "pygments_lexer": "ipython3",
   "version": "3.9.6"
  }
 },
 "nbformat": 4,
 "nbformat_minor": 5
}
