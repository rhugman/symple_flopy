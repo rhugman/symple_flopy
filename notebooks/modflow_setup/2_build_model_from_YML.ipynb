{
 "cells": [
  {
   "cell_type": "code",
   "execution_count": null,
   "id": "f96b3e8b",
   "metadata": {},
   "outputs": [],
   "source": [
    "import sys, os\n",
    "sys.path.append('../../dependencies/')\n",
    "import mfsetup\n",
    "import flopy as fp\n",
    "import flopy.utils as fu\n",
    "from flopy.utils.gridintersect import GridIntersect\n",
    "\n",
    "import shapefile as sf\n",
    "import pandas as pd\n",
    "import matplotlib.pyplot as plt\n",
    "import numpy as np\n",
    "from pathlib import Path\n",
    "from shapely.geometry import Point, LineString\n",
    "import geopandas as gp\n",
    "datapath = Path('../../data/sgn/')"
   ]
  },
  {
   "cell_type": "markdown",
   "id": "1cf9c41e",
   "metadata": {},
   "source": [
    "## one-liner to build the model"
   ]
  },
  {
   "cell_type": "code",
   "execution_count": null,
   "id": "972ea4f7",
   "metadata": {},
   "outputs": [],
   "source": [
    "# note that modflow setup changes the directory, so good idea to change back at the end\n",
    "stdir = os.getcwd()"
   ]
  },
  {
   "cell_type": "code",
   "execution_count": null,
   "id": "4e938b93",
   "metadata": {
    "scrolled": false
   },
   "outputs": [],
   "source": [
    "m = mfsetup.MF6model.setup_from_yaml('sgn_config.yml')"
   ]
  },
  {
   "cell_type": "code",
   "execution_count": null,
   "id": "2f85d9d5",
   "metadata": {},
   "outputs": [],
   "source": [
    "m.write_input()"
   ]
  },
  {
   "cell_type": "markdown",
   "id": "1f6231e1",
   "metadata": {},
   "source": [
    "### set up an intersection object"
   ]
  },
  {
   "cell_type": "code",
   "execution_count": null,
   "id": "06c36717",
   "metadata": {},
   "outputs": [],
   "source": [
    "ix = GridIntersect(m.modelgrid)"
   ]
  },
  {
   "cell_type": "markdown",
   "id": "420d6942",
   "metadata": {},
   "source": [
    "## need to add a GHB package - manually for now"
   ]
  },
  {
   "cell_type": "code",
   "execution_count": null,
   "id": "74784609",
   "metadata": {},
   "outputs": [],
   "source": [
    "# read in the boundary polygon\n",
    "boundary = gp.read_file(datapath / 'shp' / 'Model_domain.shp')\n",
    "\n",
    "# create a polyline from the polygon\n",
    "boundary_line =  LineString([Point(i) for i in boundary.iloc[0].geometry.exterior.coords])\n",
    "boundary_line"
   ]
  },
  {
   "cell_type": "code",
   "execution_count": null,
   "id": "00fe3084",
   "metadata": {},
   "outputs": [],
   "source": [
    "# instersect the bounding polygon with the grid to get boundary cells\n",
    "ix_boundary = ix.intersect(boundary_line.buffer(25, resolution=4))"
   ]
  },
  {
   "cell_type": "code",
   "execution_count": null,
   "id": "433def84",
   "metadata": {},
   "outputs": [],
   "source": [
    "ix_df = pd.DataFrame.from_records(ix_boundary)\n",
    "ix_df.head()"
   ]
  },
  {
   "cell_type": "code",
   "execution_count": null,
   "id": "38616ea9",
   "metadata": {},
   "outputs": [],
   "source": [
    "# read in the september 2019 measured heads to make the GHB data\n",
    "sep19_head = fu.Raster.load(datapath / 'raster' / 'heads_sep2019.asc')\n",
    "plt.imshow(sep19_head.get_array(1))\n",
    "plt.colorbar()"
   ]
  },
  {
   "cell_type": "code",
   "execution_count": null,
   "id": "113499a4",
   "metadata": {},
   "outputs": [],
   "source": [
    "# resample these heads to the model\n",
    "head = sep19_head.resample_to_grid(m.modelgrid,band=sep19_head.bands[0], method=\"nearest\")"
   ]
  },
  {
   "cell_type": "code",
   "execution_count": null,
   "id": "a7f0101f",
   "metadata": {},
   "outputs": [],
   "source": [
    "# make the GHB stress period data\n",
    "ghb_spd = []\n",
    "for icpl in ix_boundary.cellids:\n",
    "    cond = 100.0\n",
    "    for layer in [0,2]:\n",
    "        # note - structured grid so *icpl unpacks row/col\n",
    "        ghb_spd.append([(layer, *icpl), head[icpl], cond, f'GHB{layer+1}'])\n",
    "       "
   ]
  },
  {
   "cell_type": "code",
   "execution_count": null,
   "id": "77e9d192",
   "metadata": {},
   "outputs": [],
   "source": [
    "# create the package\n",
    "ghb = fp.mf6.ModflowGwfghb(model=m, \n",
    "                                stress_period_data=ghb_spd, \n",
    "                                boundnames=True) "
   ]
  },
  {
   "cell_type": "code",
   "execution_count": null,
   "id": "37dcb490",
   "metadata": {},
   "outputs": [],
   "source": [
    "m.write_input()"
   ]
  },
  {
   "cell_type": "code",
   "execution_count": null,
   "id": "c6741479",
   "metadata": {},
   "outputs": [],
   "source": [
    "m"
   ]
  },
  {
   "cell_type": "code",
   "execution_count": null,
   "id": "ea8eba2b",
   "metadata": {},
   "outputs": [],
   "source": [
    "m.dis.export('testgrid.shp')"
   ]
  },
  {
   "cell_type": "code",
   "execution_count": null,
   "id": "a621cc63",
   "metadata": {},
   "outputs": [],
   "source": [
    "os.system('mf6')"
   ]
  },
  {
   "cell_type": "code",
   "execution_count": null,
   "id": "05d6aa79",
   "metadata": {},
   "outputs": [],
   "source": [
    "top = m.dis.top.array"
   ]
  },
  {
   "cell_type": "code",
   "execution_count": null,
   "id": "dddcf740",
   "metadata": {},
   "outputs": [],
   "source": [
    "plt.imshow(top)"
   ]
  },
  {
   "cell_type": "code",
   "execution_count": null,
   "id": "d2d29541",
   "metadata": {},
   "outputs": [],
   "source": [
    "h = fu.binaryfile.HeadFile('../../models/sgn_mfsetup/sgn_50.hds').get_alldata()"
   ]
  },
  {
   "cell_type": "code",
   "execution_count": null,
   "id": "90faeb30",
   "metadata": {},
   "outputs": [],
   "source": [
    "plt.imshow(np.squeeze(h)[0])\n",
    "plt.colorbar()"
   ]
  },
  {
   "cell_type": "markdown",
   "id": "c4fedc40",
   "metadata": {},
   "source": [
    "### check flooding"
   ]
  },
  {
   "cell_type": "code",
   "execution_count": null,
   "id": "935d533d",
   "metadata": {},
   "outputs": [],
   "source": [
    "plt.imshow(top-np.squeeze(h)[0])\n",
    "plt.colorbar()"
   ]
  },
  {
   "cell_type": "code",
   "execution_count": null,
   "id": "f4cc1582",
   "metadata": {},
   "outputs": [],
   "source": [
    "df1,df2 = fu.Mf6ListBudget('../../models/sgn_mfsetup/sgn_50.list').get_dataframes()"
   ]
  },
  {
   "cell_type": "code",
   "execution_count": null,
   "id": "8b68b919",
   "metadata": {},
   "outputs": [],
   "source": [
    "df1"
   ]
  },
  {
   "cell_type": "code",
   "execution_count": null,
   "id": "d592657b",
   "metadata": {},
   "outputs": [],
   "source": [
    "df2"
   ]
  },
  {
   "cell_type": "code",
   "execution_count": null,
   "id": "b3d21bba",
   "metadata": {},
   "outputs": [],
   "source": []
  },
  {
   "cell_type": "code",
   "execution_count": null,
   "id": "1a3156cc",
   "metadata": {},
   "outputs": [],
   "source": []
  }
 ],
 "metadata": {
  "kernelspec": {
   "display_name": "Python 3 (ipykernel)",
   "language": "python",
   "name": "python3"
  },
  "language_info": {
   "codemirror_mode": {
    "name": "ipython",
    "version": 3
   },
   "file_extension": ".py",
   "mimetype": "text/x-python",
   "name": "python",
   "nbconvert_exporter": "python",
   "pygments_lexer": "ipython3",
   "version": "3.9.2"
  }
 },
 "nbformat": 4,
 "nbformat_minor": 5
}
