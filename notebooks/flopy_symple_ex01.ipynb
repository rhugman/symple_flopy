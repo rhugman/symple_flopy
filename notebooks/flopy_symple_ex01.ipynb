{
 "cells": [
  {
   "cell_type": "markdown",
   "metadata": {},
   "source": [
    "# Introduction\n",
    "\n",
    "The purpose of this exercise is to introduce the basics of using Flopy to construct, run and visualize a MODFLOW 6 model and its outputs. It is assumed you are familiar with MODFLOW 6.\n",
    "\n",
    "We will cover the following:\n",
    " - creating a Simulation Object\n",
    " - creating a Model Object\n",
    " - defining time and spatial discretisation\n",
    " - adding Packages\n",
    " - writting the MODFLOW files and running the model\n",
    " - post-processing some results\n",
    "\n",
    "This exercise is based on a simple groundwater system composed of two aquifer layers, separated by a thin low-permeability layer. A river flows across the center of the system in a straight line (not very natural, I know, but it keeps things simple for the tutorial), from West to East (left to right). The river only intersects the upper aquifer layer. The upper layer also receives recharge from rainfall.\n",
    "\n",
    "We will represent the system using a classical structured grid. "
   ]
  },
  {
   "cell_type": "code",
   "execution_count": null,
   "metadata": {},
   "outputs": [],
   "source": []
  },
  {
   "cell_type": "markdown",
   "metadata": {},
   "source": [
    "## The Simulation\n",
    "FloPy requires that we first create a \"simulation\" object. This simulation can have multiple models. There are a couple of things that you will generaly have to assign:\n",
    "- a Simulation package\n",
    "- a TDIS package\n",
    "- one or more MF6 Models, which will generaly require:\n",
    "    - an IMS (i.e. the solver settings) package\n",
    "    - a spatial discretisation (DIS, DISV or DISU) package\n",
    "    - initial condition package\n",
    "    - hydraulic property package(s)\n",
    "    - boundary condition pacakge(s)\n",
    "\n",
    "\n",
    "A Simulation Object is instantiated with the command: *flopy.mf6.MFSimulation()*\n",
    "\n",
    "Three inputs are usually necessary (they all have default values):\n",
    " - the simulation name\n",
    " - the path to the executable (in our case mf6.exe)\n",
    " - the path to the simulation folder"
   ]
  },
  {
   "cell_type": "code",
   "execution_count": null,
   "metadata": {},
   "outputs": [],
   "source": [
    "# Create the Simulation Object\n"
   ]
  },
  {
   "cell_type": "markdown",
   "metadata": {},
   "source": [
    "### The TDIS (time discretisation) object\n",
    "Time discretisation (i.e. the TDIS package) is defined at the simulation level. Let's instantiate a Tdis object. To do so, we need to define the stress period data.\n",
    "\n",
    "Stress period data needs to be passed to the Tdis object as a list of tuples. The list needs a tuple for each stress period. Each tuple contains the period length, the number of time steps and the time-step multiplier:\n",
    " \\[(perlen, nstp, tsmult)]\n",
    "\n",
    "We will have a single steady-state stress-period, so period length does not matter. In this case the number of time steps should be 1, and time-step multiplier does not matter."
   ]
  },
  {
   "cell_type": "code",
   "execution_count": null,
   "metadata": {},
   "outputs": [],
   "source": [
    "# Create the TDIS pacakage\n"
   ]
  },
  {
   "cell_type": "markdown",
   "metadata": {},
   "source": [
    "## The Flow Model\n",
    " Now we can create the FloPy MF6 Model Object and add the corresponding IMS package to the simulation."
   ]
  },
  {
   "cell_type": "code",
   "execution_count": null,
   "metadata": {},
   "outputs": [],
   "source": [
    "# Create the Model Object\n"
   ]
  },
  {
   "cell_type": "markdown",
   "metadata": {},
   "source": [
    "### The Model Grid\n",
    "So far we have created the Simulation, defined the Simulations time-discretisation and created a Model as part of that Simulation. \n",
    "\n",
    "Now we will start constructing the model itself. The Model will be built by adding packages to it that describe the features of the system. The first step is to define the spatial discretisation, as this is required before trying to assign any of the hydraulic property or stress packages. \n",
    "\n",
    "Recall that we will be using a classical structured grid. A Flopy DIS Object is created with *flopy.mf6.ModflowGwfdis()*. Note that DISV or DISU grids are created with their respective functions, which will be covered in other exercises.\n",
    "\n",
    "To define sptial discretisation we require:\n",
    " - number of layers (3)\n",
    " - number of rows and columns\n",
    " - row and column lenght\n",
    " - elevation of the top of the model\n",
    " - elevation of the bottom of each layer"
   ]
  },
  {
   "cell_type": "code",
   "execution_count": null,
   "metadata": {},
   "outputs": [],
   "source": [
    "# Create the DIS package\n",
    "\n"
   ]
  },
  {
   "cell_type": "markdown",
   "metadata": {},
   "source": [
    "### Packages\n",
    "Now that we have the \"skeleton\" of the model (i.e. the grid) we can assign pacakges to define properties and stresses.\n",
    "\n",
    "For this exercise, we will assign:\n",
    " - initial condiction (IC) package to set initial conditions\n",
    " - node property flow (NPF) package to set hydraulic properties\n",
    " - recharge (RCH) pacakge to assign recharge to the upper layer\n",
    " - river (RIV) package to define the river boundary condition\n",
    " - the output control (OC) package to determine how model outputs are recorded\n",
    "\n",
    "\n"
   ]
  },
  {
   "cell_type": "markdown",
   "metadata": {},
   "source": [
    "#### Array data"
   ]
  },
  {
   "cell_type": "code",
   "execution_count": null,
   "metadata": {},
   "outputs": [],
   "source": [
    "# Create the initial conditions package\n"
   ]
  },
  {
   "cell_type": "code",
   "execution_count": null,
   "metadata": {},
   "outputs": [],
   "source": [
    "# Next, let's create the NPF pacakge to assign values of hydraulic conductivity (K)\n"
   ]
  },
  {
   "cell_type": "code",
   "execution_count": null,
   "metadata": {},
   "outputs": [],
   "source": [
    "# Create the recharge package.\n"
   ]
  },
  {
   "cell_type": "markdown",
   "metadata": {},
   "source": [
    "#### List data"
   ]
  },
  {
   "cell_type": "code",
   "execution_count": null,
   "metadata": {},
   "outputs": [],
   "source": [
    "# Lastly, we need to assign the river boundary condition in the upper layer using the RIV package.\n",
    "# The river will be assigned to cells in the upper layer, in row 7 (the middle of the model domain in this case)\n",
    "# Here we will use list data. We will go into greater detail on how to handle list data in a later exercise.\n"
   ]
  },
  {
   "cell_type": "code",
   "execution_count": null,
   "metadata": {},
   "outputs": [],
   "source": [
    "# create the output control (OC) package.\n",
    "# Here we define how model outputs are recorded. \n"
   ]
  },
  {
   "cell_type": "markdown",
   "metadata": {},
   "source": [
    "## Write the Model files"
   ]
  },
  {
   "cell_type": "code",
   "execution_count": null,
   "metadata": {},
   "outputs": [],
   "source": [
    "# Write the model files by calling .write_simulation(). You can then inspect the workspace folder to see the MF6 input files written by Flopy. \n"
   ]
  },
  {
   "cell_type": "markdown",
   "metadata": {},
   "source": [
    "## Run the Model"
   ]
  },
  {
   "cell_type": "code",
   "execution_count": null,
   "metadata": {},
   "outputs": [],
   "source": []
  },
  {
   "cell_type": "markdown",
   "metadata": {},
   "source": [
    "# Post-process model outputs\n",
    "\n",
    "For MODFLOW6, Flopy has built-in methods to get model outputs for some packages using the *.output* attribute. There are other ways in which you can access model ouputs, however for the purposes of this course we will try and keep it as simple as possible. \n",
    "\n",
    "Common ouputs which you will likely wish to access may include:\n",
    " - heads at various times\n",
    " - budget components\n",
    " - specific discharge vectors\n",
    " - and mass, density and so on in transport models "
   ]
  },
  {
   "cell_type": "code",
   "execution_count": null,
   "metadata": {},
   "outputs": [],
   "source": [
    "# You can check which output functions are available for any given package by using the output.methods() function.\n"
   ]
  },
  {
   "cell_type": "markdown",
   "metadata": {},
   "source": [
    "## Heads\n",
    "Depending on the settings in the OC package, simulated heads are recorded in the binary file (in our case named \"symp01.hds\"). \n",
    "We configured outputs to be recorded at all timesteps in the first stress period. \n",
    "As we only have a single steadystate stress period with 1 time step, heads are recorded only once. "
   ]
  },
  {
   "cell_type": "code",
   "execution_count": null,
   "metadata": {},
   "outputs": [],
   "source": [
    "# Load head outputs \n"
   ]
  },
  {
   "cell_type": "markdown",
   "metadata": {},
   "source": [
    "### Plot heads\n",
    "Flopy has built-in utilities to facilitate plotting. Use the PlotMapView() to plot model outputs.\n",
    "\n",
    "Let us first create a plot of head in the upper layer:"
   ]
  },
  {
   "cell_type": "code",
   "execution_count": null,
   "metadata": {},
   "outputs": [],
   "source": []
  },
  {
   "cell_type": "markdown",
   "metadata": {},
   "source": [
    "### Plot a cross-section\n",
    "Plot a cross section of heads along column 5."
   ]
  },
  {
   "cell_type": "code",
   "execution_count": null,
   "metadata": {},
   "outputs": [],
   "source": []
  },
  {
   "cell_type": "markdown",
   "metadata": {},
   "source": [
    "### Plot Specifc discharge\n"
   ]
  },
  {
   "cell_type": "code",
   "execution_count": null,
   "metadata": {},
   "outputs": [],
   "source": [
    "# get the specific discharge from the cell budget file\n"
   ]
  },
  {
   "cell_type": "code",
   "execution_count": null,
   "metadata": {},
   "outputs": [],
   "source": [
    "# Repeat the same steps as above, adding in the specific discharge quiver plot:\n"
   ]
  },
  {
   "cell_type": "markdown",
   "metadata": {},
   "source": [
    "## Read the List Budget file\n",
    "If you need to check the model buget"
   ]
  },
  {
   "cell_type": "code",
   "execution_count": null,
   "metadata": {},
   "outputs": [],
   "source": []
  }
 ],
 "metadata": {
  "interpreter": {
   "hash": "227dbd2fab8825bf983f485131159c82d0301ad97e15b736ca5b3747747c9c56"
  },
  "kernelspec": {
   "display_name": "Python 3 (ipykernel)",
   "language": "python",
   "name": "python3"
  },
  "language_info": {
   "codemirror_mode": {
    "name": "ipython",
    "version": 3
   },
   "file_extension": ".py",
   "mimetype": "text/x-python",
   "name": "python",
   "nbconvert_exporter": "python",
   "pygments_lexer": "ipython3",
   "version": "3.9.6"
  }
 },
 "nbformat": 4,
 "nbformat_minor": 2
}
